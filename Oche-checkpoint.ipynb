{
 "cells": [
  {
   "cell_type": "code",
   "execution_count": 81,
   "metadata": {},
   "outputs": [],
   "source": [
    "import pandas as pd # data analysis\n",
    "import numpy as np # linear algebra\n",
    "\n",
    "#import libraries for data visualization\n",
    "import matplotlib.pyplot as plt\n",
    "%matplotlib inline\n",
    "import seaborn as sns\n",
    "\n",
    "from sklearn.metrics import classification_report\n",
    "from sklearn import metrics\n",
    "from sklearn.model_selection import cross_val_score\n",
    "import warnings\n",
    "warnings.filterwarnings('ignore')"
   ]
  },
  {
   "cell_type": "code",
   "execution_count": 2,
   "metadata": {},
   "outputs": [
    {
     "data": {
      "text/html": [
       "<div>\n",
       "<style scoped>\n",
       "    .dataframe tbody tr th:only-of-type {\n",
       "        vertical-align: middle;\n",
       "    }\n",
       "\n",
       "    .dataframe tbody tr th {\n",
       "        vertical-align: top;\n",
       "    }\n",
       "\n",
       "    .dataframe thead th {\n",
       "        text-align: right;\n",
       "    }\n",
       "</style>\n",
       "<table border=\"1\" class=\"dataframe\">\n",
       "  <thead>\n",
       "    <tr style=\"text-align: right;\">\n",
       "      <th></th>\n",
       "      <th>Yorusentilex_EngDataset</th>\n",
       "    </tr>\n",
       "  </thead>\n",
       "  <tbody>\n",
       "    <tr>\n",
       "      <td>0</td>\n",
       "      <td>Nigeria will be punished Is Morocco the last t...</td>\n",
       "    </tr>\n",
       "    <tr>\n",
       "      <td>1</td>\n",
       "      <td>?m? ??d?? are they going to carry me? In Londo...</td>\n",
       "    </tr>\n",
       "    <tr>\n",
       "      <td>2</td>\n",
       "      <td>What? b????lú Sierra Leone will find out the m...</td>\n",
       "    </tr>\n",
       "    <tr>\n",
       "      <td>3</td>\n",
       "      <td>It is not easy to grow up in an area like Mush...</td>\n",
       "    </tr>\n",
       "    <tr>\n",
       "      <td>4</td>\n",
       "      <td>Legend like ?y? Super Falcons defeated the Cam...</td>\n",
       "    </tr>\n",
       "  </tbody>\n",
       "</table>\n",
       "</div>"
      ],
      "text/plain": [
       "                             Yorusentilex_EngDataset\n",
       "0  Nigeria will be punished Is Morocco the last t...\n",
       "1  ?m? ??d?? are they going to carry me? In Londo...\n",
       "2  What? b????lú Sierra Leone will find out the m...\n",
       "3  It is not easy to grow up in an area like Mush...\n",
       "4  Legend like ?y? Super Falcons defeated the Cam..."
      ]
     },
     "execution_count": 2,
     "metadata": {},
     "output_type": "execute_result"
    }
   ],
   "source": [
    "#Reading the dataset\n",
    "yorusentilex_type = pd.read_csv('Yorusentilex_EngDataset.csv',encoding='latin1')\n",
    "yorusentilex_type.head()"
   ]
  },
  {
   "cell_type": "code",
   "execution_count": 3,
   "metadata": {},
   "outputs": [
    {
     "data": {
      "text/plain": [
       "(226, 1)"
      ]
     },
     "execution_count": 3,
     "metadata": {},
     "output_type": "execute_result"
    }
   ],
   "source": [
    "#shows the number of rows and columns respectively.\n",
    "yorusentilex_type.shape"
   ]
  },
  {
   "cell_type": "markdown",
   "metadata": {},
   "source": [
    "# Importing Libraries for Data Cleaning"
   ]
  },
  {
   "cell_type": "code",
   "execution_count": 4,
   "metadata": {},
   "outputs": [
    {
     "name": "stdout",
     "output_type": "stream",
     "text": [
      "Requirement already satisfied: clean-text in c:\\users\\user\\anaconda3\\lib\\site-packages (0.6.0)\n",
      "Requirement already satisfied: emoji<2.0.0,>=1.0.0 in c:\\users\\user\\anaconda3\\lib\\site-packages (from clean-text) (1.7.0)\n",
      "Requirement already satisfied: ftfy<7.0,>=6.0 in c:\\users\\user\\anaconda3\\lib\\site-packages (from clean-text) (6.1.1)\n",
      "Requirement already satisfied: wcwidth>=0.2.5 in c:\\users\\user\\anaconda3\\lib\\site-packages (from ftfy<7.0,>=6.0->clean-text) (0.2.5)\n",
      "Note: you may need to restart the kernel to use updated packages.\n"
     ]
    }
   ],
   "source": [
    "pip install clean-text"
   ]
  },
  {
   "cell_type": "code",
   "execution_count": 5,
   "metadata": {},
   "outputs": [
    {
     "name": "stdout",
     "output_type": "stream",
     "text": [
      "Requirement already satisfied: wordcloud in c:\\users\\user\\anaconda3\\lib\\site-packages (1.8.2.2)\n",
      "Requirement already satisfied: pillow in c:\\users\\user\\anaconda3\\lib\\site-packages (from wordcloud) (6.2.0)\n",
      "Requirement already satisfied: numpy>=1.6.1 in c:\\users\\user\\anaconda3\\lib\\site-packages (from wordcloud) (1.21.6)\n",
      "Requirement already satisfied: matplotlib in c:\\users\\user\\anaconda3\\lib\\site-packages (from wordcloud) (3.1.1)\n",
      "Requirement already satisfied: cycler>=0.10 in c:\\users\\user\\anaconda3\\lib\\site-packages (from matplotlib->wordcloud) (0.10.0)\n",
      "Requirement already satisfied: kiwisolver>=1.0.1 in c:\\users\\user\\anaconda3\\lib\\site-packages (from matplotlib->wordcloud) (1.1.0)\n",
      "Requirement already satisfied: pyparsing!=2.0.4,!=2.1.2,!=2.1.6,>=2.0.1 in c:\\users\\user\\anaconda3\\lib\\site-packages (from matplotlib->wordcloud) (2.4.2)\n",
      "Requirement already satisfied: python-dateutil>=2.1 in c:\\users\\user\\anaconda3\\lib\\site-packages (from matplotlib->wordcloud) (2.8.0)\n",
      "Requirement already satisfied: six in c:\\users\\user\\anaconda3\\lib\\site-packages (from cycler>=0.10->matplotlib->wordcloud) (1.12.0)\n",
      "Requirement already satisfied: setuptools in c:\\users\\user\\anaconda3\\lib\\site-packages (from kiwisolver>=1.0.1->matplotlib->wordcloud) (41.4.0)\n",
      "Note: you may need to restart the kernel to use updated packages.\n"
     ]
    }
   ],
   "source": [
    "pip install wordcloud"
   ]
  },
  {
   "cell_type": "code",
   "execution_count": 6,
   "metadata": {},
   "outputs": [
    {
     "name": "stdout",
     "output_type": "stream",
     "text": [
      "Requirement already satisfied: textblob in c:\\users\\user\\anaconda3\\lib\\site-packages (0.17.1)\n",
      "Requirement already satisfied: nltk>=3.1; python_version >= \"3\" in c:\\users\\user\\anaconda3\\lib\\site-packages (from textblob) (3.4.5)\n",
      "Requirement already satisfied: six in c:\\users\\user\\anaconda3\\lib\\site-packages (from nltk>=3.1; python_version >= \"3\"->textblob) (1.12.0)\n",
      "Note: you may need to restart the kernel to use updated packages.\n"
     ]
    }
   ],
   "source": [
    "pip install textblob"
   ]
  },
  {
   "cell_type": "code",
   "execution_count": 7,
   "metadata": {},
   "outputs": [
    {
     "name": "stderr",
     "output_type": "stream",
     "text": [
      "C:\\Users\\User\\Anaconda3\\lib\\site-packages\\sklearn\\feature_extraction\\image.py:167: DeprecationWarning: `np.int` is a deprecated alias for the builtin `int`. To silence this warning, use `int` by itself. Doing this will not modify any behavior and is safe. When replacing `np.int`, you may wish to use e.g. `np.int64` or `np.int32` to specify the precision. If you wish to review your current use, check the release note link for additional information.\n",
      "Deprecated in NumPy 1.20; for more details and guidance: https://numpy.org/devdocs/release/1.20.0-notes.html#deprecations\n",
      "  dtype=np.int):\n",
      "C:\\Users\\User\\Anaconda3\\lib\\site-packages\\sklearn\\linear_model\\least_angle.py:30: DeprecationWarning: `np.float` is a deprecated alias for the builtin `float`. To silence this warning, use `float` by itself. Doing this will not modify any behavior and is safe. If you specifically wanted the numpy scalar type, use `np.float64` here.\n",
      "Deprecated in NumPy 1.20; for more details and guidance: https://numpy.org/devdocs/release/1.20.0-notes.html#deprecations\n",
      "  method='lar', copy_X=True, eps=np.finfo(np.float).eps,\n",
      "C:\\Users\\User\\Anaconda3\\lib\\site-packages\\sklearn\\linear_model\\least_angle.py:167: DeprecationWarning: `np.float` is a deprecated alias for the builtin `float`. To silence this warning, use `float` by itself. Doing this will not modify any behavior and is safe. If you specifically wanted the numpy scalar type, use `np.float64` here.\n",
      "Deprecated in NumPy 1.20; for more details and guidance: https://numpy.org/devdocs/release/1.20.0-notes.html#deprecations\n",
      "  method='lar', copy_X=True, eps=np.finfo(np.float).eps,\n",
      "C:\\Users\\User\\Anaconda3\\lib\\site-packages\\sklearn\\linear_model\\least_angle.py:284: DeprecationWarning: `np.float` is a deprecated alias for the builtin `float`. To silence this warning, use `float` by itself. Doing this will not modify any behavior and is safe. If you specifically wanted the numpy scalar type, use `np.float64` here.\n",
      "Deprecated in NumPy 1.20; for more details and guidance: https://numpy.org/devdocs/release/1.20.0-notes.html#deprecations\n",
      "  eps=np.finfo(np.float).eps, copy_Gram=True, verbose=0,\n",
      "C:\\Users\\User\\Anaconda3\\lib\\site-packages\\sklearn\\linear_model\\least_angle.py:862: DeprecationWarning: `np.float` is a deprecated alias for the builtin `float`. To silence this warning, use `float` by itself. Doing this will not modify any behavior and is safe. If you specifically wanted the numpy scalar type, use `np.float64` here.\n",
      "Deprecated in NumPy 1.20; for more details and guidance: https://numpy.org/devdocs/release/1.20.0-notes.html#deprecations\n",
      "  eps=np.finfo(np.float).eps, copy_X=True, fit_path=True,\n",
      "C:\\Users\\User\\Anaconda3\\lib\\site-packages\\sklearn\\linear_model\\least_angle.py:1101: DeprecationWarning: `np.float` is a deprecated alias for the builtin `float`. To silence this warning, use `float` by itself. Doing this will not modify any behavior and is safe. If you specifically wanted the numpy scalar type, use `np.float64` here.\n",
      "Deprecated in NumPy 1.20; for more details and guidance: https://numpy.org/devdocs/release/1.20.0-notes.html#deprecations\n",
      "  eps=np.finfo(np.float).eps, copy_X=True, fit_path=True,\n",
      "C:\\Users\\User\\Anaconda3\\lib\\site-packages\\sklearn\\linear_model\\least_angle.py:1127: DeprecationWarning: `np.float` is a deprecated alias for the builtin `float`. To silence this warning, use `float` by itself. Doing this will not modify any behavior and is safe. If you specifically wanted the numpy scalar type, use `np.float64` here.\n",
      "Deprecated in NumPy 1.20; for more details and guidance: https://numpy.org/devdocs/release/1.20.0-notes.html#deprecations\n",
      "  eps=np.finfo(np.float).eps, positive=False):\n",
      "C:\\Users\\User\\Anaconda3\\lib\\site-packages\\sklearn\\linear_model\\least_angle.py:1362: DeprecationWarning: `np.float` is a deprecated alias for the builtin `float`. To silence this warning, use `float` by itself. Doing this will not modify any behavior and is safe. If you specifically wanted the numpy scalar type, use `np.float64` here.\n",
      "Deprecated in NumPy 1.20; for more details and guidance: https://numpy.org/devdocs/release/1.20.0-notes.html#deprecations\n",
      "  max_n_alphas=1000, n_jobs=None, eps=np.finfo(np.float).eps,\n",
      "C:\\Users\\User\\Anaconda3\\lib\\site-packages\\sklearn\\linear_model\\least_angle.py:1602: DeprecationWarning: `np.float` is a deprecated alias for the builtin `float`. To silence this warning, use `float` by itself. Doing this will not modify any behavior and is safe. If you specifically wanted the numpy scalar type, use `np.float64` here.\n",
      "Deprecated in NumPy 1.20; for more details and guidance: https://numpy.org/devdocs/release/1.20.0-notes.html#deprecations\n",
      "  max_n_alphas=1000, n_jobs=None, eps=np.finfo(np.float).eps,\n",
      "C:\\Users\\User\\Anaconda3\\lib\\site-packages\\sklearn\\linear_model\\least_angle.py:1738: DeprecationWarning: `np.float` is a deprecated alias for the builtin `float`. To silence this warning, use `float` by itself. Doing this will not modify any behavior and is safe. If you specifically wanted the numpy scalar type, use `np.float64` here.\n",
      "Deprecated in NumPy 1.20; for more details and guidance: https://numpy.org/devdocs/release/1.20.0-notes.html#deprecations\n",
      "  eps=np.finfo(np.float).eps, copy_X=True, positive=False):\n"
     ]
    }
   ],
   "source": [
    "from textblob import TextBlob\n",
    "from wordcloud import WordCloud\n",
    "import re"
   ]
  },
  {
   "cell_type": "code",
   "execution_count": 8,
   "metadata": {},
   "outputs": [
    {
     "name": "stderr",
     "output_type": "stream",
     "text": [
      "[nltk_data] Error loading stopwords: <urlopen error [Errno 11001]\n",
      "[nltk_data]     getaddrinfo failed>\n",
      "[nltk_data] Error loading wordnet: <urlopen error [Errno 11001]\n",
      "[nltk_data]     getaddrinfo failed>\n"
     ]
    }
   ],
   "source": [
    "#fot text manipulation\n",
    "import nltk\n",
    "from nltk.corpus import stopwords\n",
    "nltk.download(\"stopwords\")\n",
    "wn = nltk.download(\"wordnet\")"
   ]
  },
  {
   "cell_type": "markdown",
   "metadata": {},
   "source": [
    "# Data Cleaning¶"
   ]
  },
  {
   "cell_type": "code",
   "execution_count": 9,
   "metadata": {},
   "outputs": [],
   "source": [
    "#removing unwanted symbols\n",
    "def cleanData(text):\n",
    "    text=re.sub(r'@[A-Za-z0-9]+', '', text)  #removing @mention\n",
    "    text=re.sub(r'#-_', '', text) #Removing the '#' symbols\n",
    "    text=re.sub(r'RT[\\s]+', '', text)#Removing RT\n",
    "    text=re.sub(r'https?:\\/\\/\\S+-_', '',text) #Removing hyper links\n",
    "    \n",
    "    return text"
   ]
  },
  {
   "cell_type": "code",
   "execution_count": 10,
   "metadata": {},
   "outputs": [
    {
     "data": {
      "text/html": [
       "<div>\n",
       "<style scoped>\n",
       "    .dataframe tbody tr th:only-of-type {\n",
       "        vertical-align: middle;\n",
       "    }\n",
       "\n",
       "    .dataframe tbody tr th {\n",
       "        vertical-align: top;\n",
       "    }\n",
       "\n",
       "    .dataframe thead th {\n",
       "        text-align: right;\n",
       "    }\n",
       "</style>\n",
       "<table border=\"1\" class=\"dataframe\">\n",
       "  <thead>\n",
       "    <tr style=\"text-align: right;\">\n",
       "      <th></th>\n",
       "      <th>Yorusentilex_EngDataset</th>\n",
       "      <th>Cleaned_NewsHeadline</th>\n",
       "    </tr>\n",
       "  </thead>\n",
       "  <tbody>\n",
       "    <tr>\n",
       "      <td>0</td>\n",
       "      <td>Nigeria will be punished Is Morocco the last t...</td>\n",
       "      <td>Nigeria will be punished Is Morocco the last t...</td>\n",
       "    </tr>\n",
       "    <tr>\n",
       "      <td>1</td>\n",
       "      <td>?m? ??d?? are they going to carry me? In Londo...</td>\n",
       "      <td>?m? ??d?? are they going to carry me? In Londo...</td>\n",
       "    </tr>\n",
       "    <tr>\n",
       "      <td>2</td>\n",
       "      <td>What? b????lú Sierra Leone will find out the m...</td>\n",
       "      <td>What? b????lú Sierra Leone will find out the m...</td>\n",
       "    </tr>\n",
       "    <tr>\n",
       "      <td>3</td>\n",
       "      <td>It is not easy to grow up in an area like Mush...</td>\n",
       "      <td>It is not easy to grow up in an area like Mush...</td>\n",
       "    </tr>\n",
       "    <tr>\n",
       "      <td>4</td>\n",
       "      <td>Legend like ?y? Super Falcons defeated the Cam...</td>\n",
       "      <td>Legend like ?y? Super Falcons defeated the Cam...</td>\n",
       "    </tr>\n",
       "  </tbody>\n",
       "</table>\n",
       "</div>"
      ],
      "text/plain": [
       "                             Yorusentilex_EngDataset  \\\n",
       "0  Nigeria will be punished Is Morocco the last t...   \n",
       "1  ?m? ??d?? are they going to carry me? In Londo...   \n",
       "2  What? b????lú Sierra Leone will find out the m...   \n",
       "3  It is not easy to grow up in an area like Mush...   \n",
       "4  Legend like ?y? Super Falcons defeated the Cam...   \n",
       "\n",
       "                                Cleaned_NewsHeadline  \n",
       "0  Nigeria will be punished Is Morocco the last t...  \n",
       "1  ?m? ??d?? are they going to carry me? In Londo...  \n",
       "2  What? b????lú Sierra Leone will find out the m...  \n",
       "3  It is not easy to grow up in an area like Mush...  \n",
       "4  Legend like ?y? Super Falcons defeated the Cam...  "
      ]
     },
     "execution_count": 10,
     "metadata": {},
     "output_type": "execute_result"
    }
   ],
   "source": [
    "yorusentilex_type['Cleaned_NewsHeadline'] = yorusentilex_type['Yorusentilex_EngDataset'].apply(cleanData)\n",
    "yorusentilex_type.head()"
   ]
  },
  {
   "cell_type": "markdown",
   "metadata": {},
   "source": [
    "# Tokenization"
   ]
  },
  {
   "cell_type": "code",
   "execution_count": 11,
   "metadata": {},
   "outputs": [],
   "source": [
    "import re\n",
    "def tokenize(text):\n",
    "    tokens=re.split('\\W+', text)\n",
    "    return tokens"
   ]
  },
  {
   "cell_type": "code",
   "execution_count": 12,
   "metadata": {},
   "outputs": [
    {
     "data": {
      "text/html": [
       "<div>\n",
       "<style scoped>\n",
       "    .dataframe tbody tr th:only-of-type {\n",
       "        vertical-align: middle;\n",
       "    }\n",
       "\n",
       "    .dataframe tbody tr th {\n",
       "        vertical-align: top;\n",
       "    }\n",
       "\n",
       "    .dataframe thead th {\n",
       "        text-align: right;\n",
       "    }\n",
       "</style>\n",
       "<table border=\"1\" class=\"dataframe\">\n",
       "  <thead>\n",
       "    <tr style=\"text-align: right;\">\n",
       "      <th></th>\n",
       "      <th>Yorusentilex_EngDataset</th>\n",
       "      <th>Cleaned_NewsHeadline</th>\n",
       "      <th>Token_Data</th>\n",
       "    </tr>\n",
       "  </thead>\n",
       "  <tbody>\n",
       "    <tr>\n",
       "      <td>0</td>\n",
       "      <td>Nigeria will be punished Is Morocco the last t...</td>\n",
       "      <td>Nigeria will be punished Is Morocco the last t...</td>\n",
       "      <td>[nigeria, will, be, punished, is, morocco, the...</td>\n",
       "    </tr>\n",
       "    <tr>\n",
       "      <td>1</td>\n",
       "      <td>?m? ??d?? are they going to carry me? In Londo...</td>\n",
       "      <td>?m? ??d?? are they going to carry me? In Londo...</td>\n",
       "      <td>[, m, d, are, they, going, to, carry, me, in, ...</td>\n",
       "    </tr>\n",
       "    <tr>\n",
       "      <td>2</td>\n",
       "      <td>What? b????lú Sierra Leone will find out the m...</td>\n",
       "      <td>What? b????lú Sierra Leone will find out the m...</td>\n",
       "      <td>[what, b, lú, sierra, leone, will, find, out, ...</td>\n",
       "    </tr>\n",
       "    <tr>\n",
       "      <td>3</td>\n",
       "      <td>It is not easy to grow up in an area like Mush...</td>\n",
       "      <td>It is not easy to grow up in an area like Mush...</td>\n",
       "      <td>[it, is, not, easy, to, grow, up, in, an, area...</td>\n",
       "    </tr>\n",
       "    <tr>\n",
       "      <td>4</td>\n",
       "      <td>Legend like ?y? Super Falcons defeated the Cam...</td>\n",
       "      <td>Legend like ?y? Super Falcons defeated the Cam...</td>\n",
       "      <td>[legend, like, y, super, falcons, defeated, th...</td>\n",
       "    </tr>\n",
       "  </tbody>\n",
       "</table>\n",
       "</div>"
      ],
      "text/plain": [
       "                             Yorusentilex_EngDataset  \\\n",
       "0  Nigeria will be punished Is Morocco the last t...   \n",
       "1  ?m? ??d?? are they going to carry me? In Londo...   \n",
       "2  What? b????lú Sierra Leone will find out the m...   \n",
       "3  It is not easy to grow up in an area like Mush...   \n",
       "4  Legend like ?y? Super Falcons defeated the Cam...   \n",
       "\n",
       "                                Cleaned_NewsHeadline  \\\n",
       "0  Nigeria will be punished Is Morocco the last t...   \n",
       "1  ?m? ??d?? are they going to carry me? In Londo...   \n",
       "2  What? b????lú Sierra Leone will find out the m...   \n",
       "3  It is not easy to grow up in an area like Mush...   \n",
       "4  Legend like ?y? Super Falcons defeated the Cam...   \n",
       "\n",
       "                                          Token_Data  \n",
       "0  [nigeria, will, be, punished, is, morocco, the...  \n",
       "1  [, m, d, are, they, going, to, carry, me, in, ...  \n",
       "2  [what, b, lú, sierra, leone, will, find, out, ...  \n",
       "3  [it, is, not, easy, to, grow, up, in, an, area...  \n",
       "4  [legend, like, y, super, falcons, defeated, th...  "
      ]
     },
     "execution_count": 12,
     "metadata": {},
     "output_type": "execute_result"
    }
   ],
   "source": [
    "yorusentilex_type['Token_Data'] = yorusentilex_type['Cleaned_NewsHeadline'].apply(lambda x: tokenize(x.lower()))\n",
    "yorusentilex_type.head()"
   ]
  },
  {
   "cell_type": "markdown",
   "metadata": {},
   "source": [
    "# Removing Stopwords"
   ]
  },
  {
   "cell_type": "code",
   "execution_count": 13,
   "metadata": {},
   "outputs": [
    {
     "data": {
      "text/plain": [
       "['i', 'me', 'my', 'myself', 'we', 'our', 'ours', 'ourselves', 'you', \"you're\"]"
      ]
     },
     "execution_count": 13,
     "metadata": {},
     "output_type": "execute_result"
    }
   ],
   "source": [
    "stopwords = nltk.corpus.stopwords.words('english')\n",
    "stopwords[0:10]"
   ]
  },
  {
   "cell_type": "code",
   "execution_count": 14,
   "metadata": {},
   "outputs": [],
   "source": [
    "def remove_stopwords(tokenized_tweet):\n",
    "    txt_clean = [word for word in tokenized_tweet if word not in stopwords]\n",
    "    return txt_clean"
   ]
  },
  {
   "cell_type": "code",
   "execution_count": 15,
   "metadata": {},
   "outputs": [
    {
     "data": {
      "text/html": [
       "<div>\n",
       "<style scoped>\n",
       "    .dataframe tbody tr th:only-of-type {\n",
       "        vertical-align: middle;\n",
       "    }\n",
       "\n",
       "    .dataframe tbody tr th {\n",
       "        vertical-align: top;\n",
       "    }\n",
       "\n",
       "    .dataframe thead th {\n",
       "        text-align: right;\n",
       "    }\n",
       "</style>\n",
       "<table border=\"1\" class=\"dataframe\">\n",
       "  <thead>\n",
       "    <tr style=\"text-align: right;\">\n",
       "      <th></th>\n",
       "      <th>Yorusentilex_EngDataset</th>\n",
       "      <th>Cleaned_NewsHeadline</th>\n",
       "      <th>Token_Data</th>\n",
       "      <th>Stop_Data</th>\n",
       "    </tr>\n",
       "  </thead>\n",
       "  <tbody>\n",
       "    <tr>\n",
       "      <td>0</td>\n",
       "      <td>Nigeria will be punished Is Morocco the last t...</td>\n",
       "      <td>Nigeria will be punished Is Morocco the last t...</td>\n",
       "      <td>[nigeria, will, be, punished, is, morocco, the...</td>\n",
       "      <td>[nigeria, punished, morocco, last, reach, wafc...</td>\n",
       "    </tr>\n",
       "    <tr>\n",
       "      <td>1</td>\n",
       "      <td>?m? ??d?? are they going to carry me? In Londo...</td>\n",
       "      <td>?m? ??d?? are they going to carry me? In Londo...</td>\n",
       "      <td>[, m, d, are, they, going, to, carry, me, in, ...</td>\n",
       "      <td>[, going, carry, london, change, names, back, ...</td>\n",
       "    </tr>\n",
       "    <tr>\n",
       "      <td>2</td>\n",
       "      <td>What? b????lú Sierra Leone will find out the m...</td>\n",
       "      <td>What? b????lú Sierra Leone will find out the m...</td>\n",
       "      <td>[what, b, lú, sierra, leone, will, find, out, ...</td>\n",
       "      <td>[b, lú, sierra, leone, find, mystery, reaction...</td>\n",
       "    </tr>\n",
       "    <tr>\n",
       "      <td>3</td>\n",
       "      <td>It is not easy to grow up in an area like Mush...</td>\n",
       "      <td>It is not easy to grow up in an area like Mush...</td>\n",
       "      <td>[it, is, not, easy, to, grow, up, in, an, area...</td>\n",
       "      <td>[easy, grow, area, like, mushin, pity, became,...</td>\n",
       "    </tr>\n",
       "    <tr>\n",
       "      <td>4</td>\n",
       "      <td>Legend like ?y? Super Falcons defeated the Cam...</td>\n",
       "      <td>Legend like ?y? Super Falcons defeated the Cam...</td>\n",
       "      <td>[legend, like, y, super, falcons, defeated, th...</td>\n",
       "      <td>[legend, like, super, falcons, defeated, camer...</td>\n",
       "    </tr>\n",
       "  </tbody>\n",
       "</table>\n",
       "</div>"
      ],
      "text/plain": [
       "                             Yorusentilex_EngDataset  \\\n",
       "0  Nigeria will be punished Is Morocco the last t...   \n",
       "1  ?m? ??d?? are they going to carry me? In Londo...   \n",
       "2  What? b????lú Sierra Leone will find out the m...   \n",
       "3  It is not easy to grow up in an area like Mush...   \n",
       "4  Legend like ?y? Super Falcons defeated the Cam...   \n",
       "\n",
       "                                Cleaned_NewsHeadline  \\\n",
       "0  Nigeria will be punished Is Morocco the last t...   \n",
       "1  ?m? ??d?? are they going to carry me? In Londo...   \n",
       "2  What? b????lú Sierra Leone will find out the m...   \n",
       "3  It is not easy to grow up in an area like Mush...   \n",
       "4  Legend like ?y? Super Falcons defeated the Cam...   \n",
       "\n",
       "                                          Token_Data  \\\n",
       "0  [nigeria, will, be, punished, is, morocco, the...   \n",
       "1  [, m, d, are, they, going, to, carry, me, in, ...   \n",
       "2  [what, b, lú, sierra, leone, will, find, out, ...   \n",
       "3  [it, is, not, easy, to, grow, up, in, an, area...   \n",
       "4  [legend, like, y, super, falcons, defeated, th...   \n",
       "\n",
       "                                           Stop_Data  \n",
       "0  [nigeria, punished, morocco, last, reach, wafc...  \n",
       "1  [, going, carry, london, change, names, back, ...  \n",
       "2  [b, lú, sierra, leone, find, mystery, reaction...  \n",
       "3  [easy, grow, area, like, mushin, pity, became,...  \n",
       "4  [legend, like, super, falcons, defeated, camer...  "
      ]
     },
     "execution_count": 15,
     "metadata": {},
     "output_type": "execute_result"
    }
   ],
   "source": [
    "yorusentilex_type['Stop_Data'] = yorusentilex_type['Token_Data'].apply(lambda x: remove_stopwords(x))\n",
    "yorusentilex_type.head()"
   ]
  },
  {
   "cell_type": "markdown",
   "metadata": {},
   "source": [
    "# Lemmatization"
   ]
  },
  {
   "cell_type": "code",
   "execution_count": 16,
   "metadata": {},
   "outputs": [],
   "source": [
    "wn=nltk.WordNetLemmatizer()"
   ]
  },
  {
   "cell_type": "code",
   "execution_count": 17,
   "metadata": {},
   "outputs": [],
   "source": [
    "def lemmatize(stopword_tweets):\n",
    "    text = [wn.lemmatize(word) for word in stopword_tweets]\n",
    "    return text"
   ]
  },
  {
   "cell_type": "code",
   "execution_count": 18,
   "metadata": {},
   "outputs": [
    {
     "data": {
      "text/html": [
       "<div>\n",
       "<style scoped>\n",
       "    .dataframe tbody tr th:only-of-type {\n",
       "        vertical-align: middle;\n",
       "    }\n",
       "\n",
       "    .dataframe tbody tr th {\n",
       "        vertical-align: top;\n",
       "    }\n",
       "\n",
       "    .dataframe thead th {\n",
       "        text-align: right;\n",
       "    }\n",
       "</style>\n",
       "<table border=\"1\" class=\"dataframe\">\n",
       "  <thead>\n",
       "    <tr style=\"text-align: right;\">\n",
       "      <th></th>\n",
       "      <th>Yorusentilex_EngDataset</th>\n",
       "      <th>Cleaned_NewsHeadline</th>\n",
       "      <th>Token_Data</th>\n",
       "      <th>Stop_Data</th>\n",
       "      <th>lemmatized_Data</th>\n",
       "    </tr>\n",
       "  </thead>\n",
       "  <tbody>\n",
       "    <tr>\n",
       "      <td>0</td>\n",
       "      <td>Nigeria will be punished Is Morocco the last t...</td>\n",
       "      <td>Nigeria will be punished Is Morocco the last t...</td>\n",
       "      <td>[nigeria, will, be, punished, is, morocco, the...</td>\n",
       "      <td>[nigeria, punished, morocco, last, reach, wafc...</td>\n",
       "      <td>[nigeria, punished, morocco, last, reach, wafc...</td>\n",
       "    </tr>\n",
       "    <tr>\n",
       "      <td>1</td>\n",
       "      <td>?m? ??d?? are they going to carry me? In Londo...</td>\n",
       "      <td>?m? ??d?? are they going to carry me? In Londo...</td>\n",
       "      <td>[, m, d, are, they, going, to, carry, me, in, ...</td>\n",
       "      <td>[, going, carry, london, change, names, back, ...</td>\n",
       "      <td>[, going, carry, london, change, name, back, s...</td>\n",
       "    </tr>\n",
       "    <tr>\n",
       "      <td>2</td>\n",
       "      <td>What? b????lú Sierra Leone will find out the m...</td>\n",
       "      <td>What? b????lú Sierra Leone will find out the m...</td>\n",
       "      <td>[what, b, lú, sierra, leone, will, find, out, ...</td>\n",
       "      <td>[b, lú, sierra, leone, find, mystery, reaction...</td>\n",
       "      <td>[b, lú, sierra, leone, find, mystery, reaction...</td>\n",
       "    </tr>\n",
       "    <tr>\n",
       "      <td>3</td>\n",
       "      <td>It is not easy to grow up in an area like Mush...</td>\n",
       "      <td>It is not easy to grow up in an area like Mush...</td>\n",
       "      <td>[it, is, not, easy, to, grow, up, in, an, area...</td>\n",
       "      <td>[easy, grow, area, like, mushin, pity, became,...</td>\n",
       "      <td>[easy, grow, area, like, mushin, pity, became,...</td>\n",
       "    </tr>\n",
       "    <tr>\n",
       "      <td>4</td>\n",
       "      <td>Legend like ?y? Super Falcons defeated the Cam...</td>\n",
       "      <td>Legend like ?y? Super Falcons defeated the Cam...</td>\n",
       "      <td>[legend, like, y, super, falcons, defeated, th...</td>\n",
       "      <td>[legend, like, super, falcons, defeated, camer...</td>\n",
       "      <td>[legend, like, super, falcon, defeated, camero...</td>\n",
       "    </tr>\n",
       "  </tbody>\n",
       "</table>\n",
       "</div>"
      ],
      "text/plain": [
       "                             Yorusentilex_EngDataset  \\\n",
       "0  Nigeria will be punished Is Morocco the last t...   \n",
       "1  ?m? ??d?? are they going to carry me? In Londo...   \n",
       "2  What? b????lú Sierra Leone will find out the m...   \n",
       "3  It is not easy to grow up in an area like Mush...   \n",
       "4  Legend like ?y? Super Falcons defeated the Cam...   \n",
       "\n",
       "                                Cleaned_NewsHeadline  \\\n",
       "0  Nigeria will be punished Is Morocco the last t...   \n",
       "1  ?m? ??d?? are they going to carry me? In Londo...   \n",
       "2  What? b????lú Sierra Leone will find out the m...   \n",
       "3  It is not easy to grow up in an area like Mush...   \n",
       "4  Legend like ?y? Super Falcons defeated the Cam...   \n",
       "\n",
       "                                          Token_Data  \\\n",
       "0  [nigeria, will, be, punished, is, morocco, the...   \n",
       "1  [, m, d, are, they, going, to, carry, me, in, ...   \n",
       "2  [what, b, lú, sierra, leone, will, find, out, ...   \n",
       "3  [it, is, not, easy, to, grow, up, in, an, area...   \n",
       "4  [legend, like, y, super, falcons, defeated, th...   \n",
       "\n",
       "                                           Stop_Data  \\\n",
       "0  [nigeria, punished, morocco, last, reach, wafc...   \n",
       "1  [, going, carry, london, change, names, back, ...   \n",
       "2  [b, lú, sierra, leone, find, mystery, reaction...   \n",
       "3  [easy, grow, area, like, mushin, pity, became,...   \n",
       "4  [legend, like, super, falcons, defeated, camer...   \n",
       "\n",
       "                                     lemmatized_Data  \n",
       "0  [nigeria, punished, morocco, last, reach, wafc...  \n",
       "1  [, going, carry, london, change, name, back, s...  \n",
       "2  [b, lú, sierra, leone, find, mystery, reaction...  \n",
       "3  [easy, grow, area, like, mushin, pity, became,...  \n",
       "4  [legend, like, super, falcon, defeated, camero...  "
      ]
     },
     "execution_count": 18,
     "metadata": {},
     "output_type": "execute_result"
    }
   ],
   "source": [
    "yorusentilex_type['lemmatized_Data'] = yorusentilex_type['Stop_Data'].apply(lambda x: lemmatize(x))\n",
    "yorusentilex_type.head()"
   ]
  },
  {
   "cell_type": "code",
   "execution_count": 19,
   "metadata": {},
   "outputs": [
    {
     "name": "stdout",
     "output_type": "stream",
     "text": [
      "Collecting gensim\n",
      "Note: you may need to restart the kernel to use updated packages.\n"
     ]
    },
    {
     "name": "stderr",
     "output_type": "stream",
     "text": [
      "  WARNING: Retrying (Retry(total=4, connect=None, read=None, redirect=None, status=None)) after connection broken by 'NewConnectionError('<pip._vendor.urllib3.connection.VerifiedHTTPSConnection object at 0x0000018EC850B9C8>: Failed to establish a new connection: [Errno 11001] getaddrinfo failed')': /simple/gensim/\n",
      "  WARNING: Retrying (Retry(total=3, connect=None, read=None, redirect=None, status=None)) after connection broken by 'NewConnectionError('<pip._vendor.urllib3.connection.VerifiedHTTPSConnection object at 0x0000018EC8511048>: Failed to establish a new connection: [Errno 11001] getaddrinfo failed')': /simple/gensim/\n",
      "  WARNING: Retrying (Retry(total=2, connect=None, read=None, redirect=None, status=None)) after connection broken by 'NewConnectionError('<pip._vendor.urllib3.connection.VerifiedHTTPSConnection object at 0x0000018EC8511D88>: Failed to establish a new connection: [Errno 11001] getaddrinfo failed')': /simple/gensim/\n",
      "  WARNING: Retrying (Retry(total=1, connect=None, read=None, redirect=None, status=None)) after connection broken by 'NewConnectionError('<pip._vendor.urllib3.connection.VerifiedHTTPSConnection object at 0x0000018EC8511D48>: Failed to establish a new connection: [Errno 11001] getaddrinfo failed')': /simple/gensim/\n",
      "  WARNING: Retrying (Retry(total=0, connect=None, read=None, redirect=None, status=None)) after connection broken by 'NewConnectionError('<pip._vendor.urllib3.connection.VerifiedHTTPSConnection object at 0x0000018EC8514C48>: Failed to establish a new connection: [Errno 11001] getaddrinfo failed')': /simple/gensim/\n",
      "  ERROR: Could not find a version that satisfies the requirement gensim (from versions: none)\n",
      "ERROR: No matching distribution found for gensim\n"
     ]
    }
   ],
   "source": [
    "pip install gensim --user"
   ]
  },
  {
   "cell_type": "code",
   "execution_count": 21,
   "metadata": {},
   "outputs": [
    {
     "ename": "ModuleNotFoundError",
     "evalue": "No module named 'gensim'",
     "output_type": "error",
     "traceback": [
      "\u001b[1;31m---------------------------------------------------------------------------\u001b[0m",
      "\u001b[1;31mModuleNotFoundError\u001b[0m                       Traceback (most recent call last)",
      "\u001b[1;32m<ipython-input-21-91226bfc434d>\u001b[0m in \u001b[0;36m<module>\u001b[1;34m\u001b[0m\n\u001b[0;32m      1\u001b[0m \u001b[1;32mfrom\u001b[0m \u001b[0msklearn\u001b[0m\u001b[1;33m.\u001b[0m\u001b[0mfeature_extraction\u001b[0m\u001b[1;33m.\u001b[0m\u001b[0mtext\u001b[0m \u001b[1;32mimport\u001b[0m \u001b[0mTfidfVectorizer\u001b[0m\u001b[1;33m,\u001b[0m \u001b[0mCountVectorizer\u001b[0m\u001b[1;33m\u001b[0m\u001b[1;33m\u001b[0m\u001b[0m\n\u001b[1;32m----> 2\u001b[1;33m \u001b[1;32mimport\u001b[0m \u001b[0mgensim\u001b[0m\u001b[1;33m\u001b[0m\u001b[1;33m\u001b[0m\u001b[0m\n\u001b[0m",
      "\u001b[1;31mModuleNotFoundError\u001b[0m: No module named 'gensim'"
     ]
    }
   ],
   "source": [
    "from sklearn.feature_extraction.text import TfidfVectorizer, CountVectorizer\n",
    "import gensim"
   ]
  },
  {
   "cell_type": "code",
   "execution_count": 23,
   "metadata": {},
   "outputs": [
    {
     "data": {
      "text/plain": [
       "(226, 100)"
      ]
     },
     "execution_count": 23,
     "metadata": {},
     "output_type": "execute_result"
    }
   ],
   "source": [
    "bow_vectorizer = CountVectorizer(max_df=0.9, min_df=2, max_features=100, stop_words='english')\n",
    "bow = bow_vectorizer.fit_transform(yorusentilex_type['Yorusentilex_EngDataset'])\n",
    "bow.shape"
   ]
  },
  {
   "cell_type": "code",
   "execution_count": 24,
   "metadata": {},
   "outputs": [],
   "source": [
    "from sklearn.model_selection import train_test_split\n",
    "x_train,x_test,y_train,y_test = train_test_split(bow, yorusentilex_type['lemmatized_Data'], test_size=0.2, random_state=69)"
   ]
  },
  {
   "cell_type": "markdown",
   "metadata": {},
   "source": [
    "# Getting the subjectivity and Polarity of the News Data Set"
   ]
  },
  {
   "cell_type": "code",
   "execution_count": 25,
   "metadata": {},
   "outputs": [
    {
     "data": {
      "text/html": [
       "<div>\n",
       "<style scoped>\n",
       "    .dataframe tbody tr th:only-of-type {\n",
       "        vertical-align: middle;\n",
       "    }\n",
       "\n",
       "    .dataframe tbody tr th {\n",
       "        vertical-align: top;\n",
       "    }\n",
       "\n",
       "    .dataframe thead th {\n",
       "        text-align: right;\n",
       "    }\n",
       "</style>\n",
       "<table border=\"1\" class=\"dataframe\">\n",
       "  <thead>\n",
       "    <tr style=\"text-align: right;\">\n",
       "      <th></th>\n",
       "      <th>Yorusentilex_EngDataset</th>\n",
       "      <th>Cleaned_NewsHeadline</th>\n",
       "      <th>Token_Data</th>\n",
       "      <th>Stop_Data</th>\n",
       "      <th>lemmatized_Data</th>\n",
       "      <th>Subjectivity</th>\n",
       "      <th>Polarity</th>\n",
       "    </tr>\n",
       "  </thead>\n",
       "  <tbody>\n",
       "    <tr>\n",
       "      <td>0</td>\n",
       "      <td>Nigeria will be punished Is Morocco the last t...</td>\n",
       "      <td>Nigeria will be punished Is Morocco the last t...</td>\n",
       "      <td>[nigeria, will, be, punished, is, morocco, the...</td>\n",
       "      <td>[nigeria, punished, morocco, last, reach, wafc...</td>\n",
       "      <td>[nigeria, punished, morocco, last, reach, wafc...</td>\n",
       "      <td>0.066667</td>\n",
       "      <td>0.000000</td>\n",
       "    </tr>\n",
       "    <tr>\n",
       "      <td>1</td>\n",
       "      <td>?m? ??d?? are they going to carry me? In Londo...</td>\n",
       "      <td>?m? ??d?? are they going to carry me? In Londo...</td>\n",
       "      <td>[, m, d, are, they, going, to, carry, me, in, ...</td>\n",
       "      <td>[, going, carry, london, change, names, back, ...</td>\n",
       "      <td>[, going, carry, london, change, name, back, s...</td>\n",
       "      <td>0.500000</td>\n",
       "      <td>0.250000</td>\n",
       "    </tr>\n",
       "    <tr>\n",
       "      <td>2</td>\n",
       "      <td>What? b????lú Sierra Leone will find out the m...</td>\n",
       "      <td>What? b????lú Sierra Leone will find out the m...</td>\n",
       "      <td>[what, b, lú, sierra, leone, will, find, out, ...</td>\n",
       "      <td>[b, lú, sierra, leone, find, mystery, reaction...</td>\n",
       "      <td>[b, lú, sierra, leone, find, mystery, reaction...</td>\n",
       "      <td>0.000000</td>\n",
       "      <td>0.000000</td>\n",
       "    </tr>\n",
       "    <tr>\n",
       "      <td>3</td>\n",
       "      <td>It is not easy to grow up in an area like Mush...</td>\n",
       "      <td>It is not easy to grow up in an area like Mush...</td>\n",
       "      <td>[it, is, not, easy, to, grow, up, in, an, area...</td>\n",
       "      <td>[easy, grow, area, like, mushin, pity, became,...</td>\n",
       "      <td>[easy, grow, area, like, mushin, pity, became,...</td>\n",
       "      <td>0.566667</td>\n",
       "      <td>0.005556</td>\n",
       "    </tr>\n",
       "    <tr>\n",
       "      <td>4</td>\n",
       "      <td>Legend like ?y? Super Falcons defeated the Cam...</td>\n",
       "      <td>Legend like ?y? Super Falcons defeated the Cam...</td>\n",
       "      <td>[legend, like, y, super, falcons, defeated, th...</td>\n",
       "      <td>[legend, like, super, falcons, defeated, camer...</td>\n",
       "      <td>[legend, like, super, falcon, defeated, camero...</td>\n",
       "      <td>0.833333</td>\n",
       "      <td>0.166667</td>\n",
       "    </tr>\n",
       "    <tr>\n",
       "      <td>...</td>\n",
       "      <td>...</td>\n",
       "      <td>...</td>\n",
       "      <td>...</td>\n",
       "      <td>...</td>\n",
       "      <td>...</td>\n",
       "      <td>...</td>\n",
       "      <td>...</td>\n",
       "    </tr>\n",
       "    <tr>\n",
       "      <td>221</td>\n",
       "      <td>Mahrez beat the Super Eagles?? on the cool pas...</td>\n",
       "      <td>Mahrez beat the Super Eagles?? on the cool pas...</td>\n",
       "      <td>[mahrez, beat, the, super, eagles, on, the, co...</td>\n",
       "      <td>[mahrez, beat, super, eagles, cool, pasture]</td>\n",
       "      <td>[mahrez, beat, super, eagle, cool, pasture]</td>\n",
       "      <td>0.658333</td>\n",
       "      <td>0.341667</td>\n",
       "    </tr>\n",
       "    <tr>\n",
       "      <td>222</td>\n",
       "      <td>What does Bode 'Thomas' have to say about thei...</td>\n",
       "      <td>What does Bode 'Thomas' have to say about thei...</td>\n",
       "      <td>[what, does, bode, thomas, have, to, say, abou...</td>\n",
       "      <td>[bode, thomas, say, relationship, nigeria, sou...</td>\n",
       "      <td>[bode, thomas, say, relationship, nigeria, sou...</td>\n",
       "      <td>0.000000</td>\n",
       "      <td>0.000000</td>\n",
       "    </tr>\n",
       "    <tr>\n",
       "      <td>223</td>\n",
       "      <td>Amuneke replaced?? g??g?? like ak??nim????hit ...</td>\n",
       "      <td>Amuneke replaced?? g??g?? like ak??nim????hit ...</td>\n",
       "      <td>[amuneke, replaced, g, g, like, ak, nim, hit, ...</td>\n",
       "      <td>[amuneke, replaced, g, g, like, ak, nim, hit, ...</td>\n",
       "      <td>[amuneke, replaced, g, g, like, ak, nim, hit, ...</td>\n",
       "      <td>0.000000</td>\n",
       "      <td>0.000000</td>\n",
       "    </tr>\n",
       "    <tr>\n",
       "      <td>224</td>\n",
       "      <td>S? behind?? the country that will overcome the...</td>\n",
       "      <td>S? behind?? the country that will overcome the...</td>\n",
       "      <td>[s, behind, the, country, that, will, overcome...</td>\n",
       "      <td>[behind, country, overcome, influence, today]</td>\n",
       "      <td>[behind, country, overcome, influence, today]</td>\n",
       "      <td>0.700000</td>\n",
       "      <td>-0.400000</td>\n",
       "    </tr>\n",
       "    <tr>\n",
       "      <td>225</td>\n",
       "      <td>France Vs Nigeria: Super Falcons persist??, am...</td>\n",
       "      <td>France Vs Nigeria: Super Falcons persist??, am...</td>\n",
       "      <td>[france, vs, nigeria, super, falcons, persist,...</td>\n",
       "      <td>[france, vs, nigeria, super, falcons, persist,...</td>\n",
       "      <td>[france, v, nigeria, super, falcon, persist, b...</td>\n",
       "      <td>0.666667</td>\n",
       "      <td>0.333333</td>\n",
       "    </tr>\n",
       "  </tbody>\n",
       "</table>\n",
       "<p>226 rows × 7 columns</p>\n",
       "</div>"
      ],
      "text/plain": [
       "                               Yorusentilex_EngDataset  \\\n",
       "0    Nigeria will be punished Is Morocco the last t...   \n",
       "1    ?m? ??d?? are they going to carry me? In Londo...   \n",
       "2    What? b????lú Sierra Leone will find out the m...   \n",
       "3    It is not easy to grow up in an area like Mush...   \n",
       "4    Legend like ?y? Super Falcons defeated the Cam...   \n",
       "..                                                 ...   \n",
       "221  Mahrez beat the Super Eagles?? on the cool pas...   \n",
       "222  What does Bode 'Thomas' have to say about thei...   \n",
       "223  Amuneke replaced?? g??g?? like ak??nim????hit ...   \n",
       "224  S? behind?? the country that will overcome the...   \n",
       "225  France Vs Nigeria: Super Falcons persist??, am...   \n",
       "\n",
       "                                  Cleaned_NewsHeadline  \\\n",
       "0    Nigeria will be punished Is Morocco the last t...   \n",
       "1    ?m? ??d?? are they going to carry me? In Londo...   \n",
       "2    What? b????lú Sierra Leone will find out the m...   \n",
       "3    It is not easy to grow up in an area like Mush...   \n",
       "4    Legend like ?y? Super Falcons defeated the Cam...   \n",
       "..                                                 ...   \n",
       "221  Mahrez beat the Super Eagles?? on the cool pas...   \n",
       "222  What does Bode 'Thomas' have to say about thei...   \n",
       "223  Amuneke replaced?? g??g?? like ak??nim????hit ...   \n",
       "224  S? behind?? the country that will overcome the...   \n",
       "225  France Vs Nigeria: Super Falcons persist??, am...   \n",
       "\n",
       "                                            Token_Data  \\\n",
       "0    [nigeria, will, be, punished, is, morocco, the...   \n",
       "1    [, m, d, are, they, going, to, carry, me, in, ...   \n",
       "2    [what, b, lú, sierra, leone, will, find, out, ...   \n",
       "3    [it, is, not, easy, to, grow, up, in, an, area...   \n",
       "4    [legend, like, y, super, falcons, defeated, th...   \n",
       "..                                                 ...   \n",
       "221  [mahrez, beat, the, super, eagles, on, the, co...   \n",
       "222  [what, does, bode, thomas, have, to, say, abou...   \n",
       "223  [amuneke, replaced, g, g, like, ak, nim, hit, ...   \n",
       "224  [s, behind, the, country, that, will, overcome...   \n",
       "225  [france, vs, nigeria, super, falcons, persist,...   \n",
       "\n",
       "                                             Stop_Data  \\\n",
       "0    [nigeria, punished, morocco, last, reach, wafc...   \n",
       "1    [, going, carry, london, change, names, back, ...   \n",
       "2    [b, lú, sierra, leone, find, mystery, reaction...   \n",
       "3    [easy, grow, area, like, mushin, pity, became,...   \n",
       "4    [legend, like, super, falcons, defeated, camer...   \n",
       "..                                                 ...   \n",
       "221       [mahrez, beat, super, eagles, cool, pasture]   \n",
       "222  [bode, thomas, say, relationship, nigeria, sou...   \n",
       "223  [amuneke, replaced, g, g, like, ak, nim, hit, ...   \n",
       "224      [behind, country, overcome, influence, today]   \n",
       "225  [france, vs, nigeria, super, falcons, persist,...   \n",
       "\n",
       "                                       lemmatized_Data  Subjectivity  Polarity  \n",
       "0    [nigeria, punished, morocco, last, reach, wafc...      0.066667  0.000000  \n",
       "1    [, going, carry, london, change, name, back, s...      0.500000  0.250000  \n",
       "2    [b, lú, sierra, leone, find, mystery, reaction...      0.000000  0.000000  \n",
       "3    [easy, grow, area, like, mushin, pity, became,...      0.566667  0.005556  \n",
       "4    [legend, like, super, falcon, defeated, camero...      0.833333  0.166667  \n",
       "..                                                 ...           ...       ...  \n",
       "221        [mahrez, beat, super, eagle, cool, pasture]      0.658333  0.341667  \n",
       "222  [bode, thomas, say, relationship, nigeria, sou...      0.000000  0.000000  \n",
       "223  [amuneke, replaced, g, g, like, ak, nim, hit, ...      0.000000  0.000000  \n",
       "224      [behind, country, overcome, influence, today]      0.700000 -0.400000  \n",
       "225  [france, v, nigeria, super, falcon, persist, b...      0.666667  0.333333  \n",
       "\n",
       "[226 rows x 7 columns]"
      ]
     },
     "execution_count": 25,
     "metadata": {},
     "output_type": "execute_result"
    }
   ],
   "source": [
    "def getsub(text):\n",
    "    return TextBlob(text).sentiment.subjectivity\n",
    "\n",
    "def getpol(text):\n",
    "    return TextBlob(text).sentiment.polarity\n",
    "\n",
    "yorusentilex_type['Subjectivity']= yorusentilex_type['Yorusentilex_EngDataset'].apply(getsub)\n",
    "yorusentilex_type['Polarity']= yorusentilex_type['Yorusentilex_EngDataset'].apply(getpol)\n",
    "\n",
    "\n",
    "yorusentilex_type"
   ]
  },
  {
   "cell_type": "markdown",
   "metadata": {},
   "source": [
    "# Data Visualization using WordCloud"
   ]
  },
  {
   "cell_type": "code",
   "execution_count": 27,
   "metadata": {},
   "outputs": [
    {
     "data": {
      "image/png": "[encoded data removed]",
      "text/plain": [
       "<Figure size 432x288 with 1 Axes>"
      ]
     },
     "metadata": {
      "needs_background": "light"
     },
     "output_type": "display_data"
    }
   ],
   "source": [
    "allword =''.join ( [twts for twts in yorusentilex_type['Yorusentilex_EngDataset']])\n",
    "wordcloud = WordCloud(width=500, height=300, random_state=21, max_font_size=120).generate(allword)\n",
    "plt.imshow(wordcloud, interpolation = \"bilinear\")\n",
    "plt.axis('off')\n",
    "plt.show()"
   ]
  },
  {
   "cell_type": "markdown",
   "metadata": {},
   "source": [
    "# Calculating the negativity, positivity and neutrality of the tweets"
   ]
  },
  {
   "cell_type": "code",
   "execution_count": 28,
   "metadata": {},
   "outputs": [
    {
     "data": {
      "text/html": [
       "<div>\n",
       "<style scoped>\n",
       "    .dataframe tbody tr th:only-of-type {\n",
       "        vertical-align: middle;\n",
       "    }\n",
       "\n",
       "    .dataframe tbody tr th {\n",
       "        vertical-align: top;\n",
       "    }\n",
       "\n",
       "    .dataframe thead th {\n",
       "        text-align: right;\n",
       "    }\n",
       "</style>\n",
       "<table border=\"1\" class=\"dataframe\">\n",
       "  <thead>\n",
       "    <tr style=\"text-align: right;\">\n",
       "      <th></th>\n",
       "      <th>Yorusentilex_EngDataset</th>\n",
       "      <th>Cleaned_NewsHeadline</th>\n",
       "      <th>Token_Data</th>\n",
       "      <th>Stop_Data</th>\n",
       "      <th>lemmatized_Data</th>\n",
       "      <th>Subjectivity</th>\n",
       "      <th>Polarity</th>\n",
       "      <th>Sentiment</th>\n",
       "    </tr>\n",
       "  </thead>\n",
       "  <tbody>\n",
       "    <tr>\n",
       "      <td>0</td>\n",
       "      <td>Nigeria will be punished Is Morocco the last t...</td>\n",
       "      <td>Nigeria will be punished Is Morocco the last t...</td>\n",
       "      <td>[nigeria, will, be, punished, is, morocco, the...</td>\n",
       "      <td>[nigeria, punished, morocco, last, reach, wafc...</td>\n",
       "      <td>[nigeria, punished, morocco, last, reach, wafc...</td>\n",
       "      <td>0.066667</td>\n",
       "      <td>0.000000</td>\n",
       "      <td>Neutral</td>\n",
       "    </tr>\n",
       "    <tr>\n",
       "      <td>1</td>\n",
       "      <td>?m? ??d?? are they going to carry me? In Londo...</td>\n",
       "      <td>?m? ??d?? are they going to carry me? In Londo...</td>\n",
       "      <td>[, m, d, are, they, going, to, carry, me, in, ...</td>\n",
       "      <td>[, going, carry, london, change, names, back, ...</td>\n",
       "      <td>[, going, carry, london, change, name, back, s...</td>\n",
       "      <td>0.500000</td>\n",
       "      <td>0.250000</td>\n",
       "      <td>Positive</td>\n",
       "    </tr>\n",
       "    <tr>\n",
       "      <td>2</td>\n",
       "      <td>What? b????lú Sierra Leone will find out the m...</td>\n",
       "      <td>What? b????lú Sierra Leone will find out the m...</td>\n",
       "      <td>[what, b, lú, sierra, leone, will, find, out, ...</td>\n",
       "      <td>[b, lú, sierra, leone, find, mystery, reaction...</td>\n",
       "      <td>[b, lú, sierra, leone, find, mystery, reaction...</td>\n",
       "      <td>0.000000</td>\n",
       "      <td>0.000000</td>\n",
       "      <td>Neutral</td>\n",
       "    </tr>\n",
       "    <tr>\n",
       "      <td>3</td>\n",
       "      <td>It is not easy to grow up in an area like Mush...</td>\n",
       "      <td>It is not easy to grow up in an area like Mush...</td>\n",
       "      <td>[it, is, not, easy, to, grow, up, in, an, area...</td>\n",
       "      <td>[easy, grow, area, like, mushin, pity, became,...</td>\n",
       "      <td>[easy, grow, area, like, mushin, pity, became,...</td>\n",
       "      <td>0.566667</td>\n",
       "      <td>0.005556</td>\n",
       "      <td>Positive</td>\n",
       "    </tr>\n",
       "    <tr>\n",
       "      <td>4</td>\n",
       "      <td>Legend like ?y? Super Falcons defeated the Cam...</td>\n",
       "      <td>Legend like ?y? Super Falcons defeated the Cam...</td>\n",
       "      <td>[legend, like, y, super, falcons, defeated, th...</td>\n",
       "      <td>[legend, like, super, falcons, defeated, camer...</td>\n",
       "      <td>[legend, like, super, falcon, defeated, camero...</td>\n",
       "      <td>0.833333</td>\n",
       "      <td>0.166667</td>\n",
       "      <td>Positive</td>\n",
       "    </tr>\n",
       "    <tr>\n",
       "      <td>...</td>\n",
       "      <td>...</td>\n",
       "      <td>...</td>\n",
       "      <td>...</td>\n",
       "      <td>...</td>\n",
       "      <td>...</td>\n",
       "      <td>...</td>\n",
       "      <td>...</td>\n",
       "      <td>...</td>\n",
       "    </tr>\n",
       "    <tr>\n",
       "      <td>221</td>\n",
       "      <td>Mahrez beat the Super Eagles?? on the cool pas...</td>\n",
       "      <td>Mahrez beat the Super Eagles?? on the cool pas...</td>\n",
       "      <td>[mahrez, beat, the, super, eagles, on, the, co...</td>\n",
       "      <td>[mahrez, beat, super, eagles, cool, pasture]</td>\n",
       "      <td>[mahrez, beat, super, eagle, cool, pasture]</td>\n",
       "      <td>0.658333</td>\n",
       "      <td>0.341667</td>\n",
       "      <td>Positive</td>\n",
       "    </tr>\n",
       "    <tr>\n",
       "      <td>222</td>\n",
       "      <td>What does Bode 'Thomas' have to say about thei...</td>\n",
       "      <td>What does Bode 'Thomas' have to say about thei...</td>\n",
       "      <td>[what, does, bode, thomas, have, to, say, abou...</td>\n",
       "      <td>[bode, thomas, say, relationship, nigeria, sou...</td>\n",
       "      <td>[bode, thomas, say, relationship, nigeria, sou...</td>\n",
       "      <td>0.000000</td>\n",
       "      <td>0.000000</td>\n",
       "      <td>Neutral</td>\n",
       "    </tr>\n",
       "    <tr>\n",
       "      <td>223</td>\n",
       "      <td>Amuneke replaced?? g??g?? like ak??nim????hit ...</td>\n",
       "      <td>Amuneke replaced?? g??g?? like ak??nim????hit ...</td>\n",
       "      <td>[amuneke, replaced, g, g, like, ak, nim, hit, ...</td>\n",
       "      <td>[amuneke, replaced, g, g, like, ak, nim, hit, ...</td>\n",
       "      <td>[amuneke, replaced, g, g, like, ak, nim, hit, ...</td>\n",
       "      <td>0.000000</td>\n",
       "      <td>0.000000</td>\n",
       "      <td>Neutral</td>\n",
       "    </tr>\n",
       "    <tr>\n",
       "      <td>224</td>\n",
       "      <td>S? behind?? the country that will overcome the...</td>\n",
       "      <td>S? behind?? the country that will overcome the...</td>\n",
       "      <td>[s, behind, the, country, that, will, overcome...</td>\n",
       "      <td>[behind, country, overcome, influence, today]</td>\n",
       "      <td>[behind, country, overcome, influence, today]</td>\n",
       "      <td>0.700000</td>\n",
       "      <td>-0.400000</td>\n",
       "      <td>Negative</td>\n",
       "    </tr>\n",
       "    <tr>\n",
       "      <td>225</td>\n",
       "      <td>France Vs Nigeria: Super Falcons persist??, am...</td>\n",
       "      <td>France Vs Nigeria: Super Falcons persist??, am...</td>\n",
       "      <td>[france, vs, nigeria, super, falcons, persist,...</td>\n",
       "      <td>[france, vs, nigeria, super, falcons, persist,...</td>\n",
       "      <td>[france, v, nigeria, super, falcon, persist, b...</td>\n",
       "      <td>0.666667</td>\n",
       "      <td>0.333333</td>\n",
       "      <td>Positive</td>\n",
       "    </tr>\n",
       "  </tbody>\n",
       "</table>\n",
       "<p>226 rows × 8 columns</p>\n",
       "</div>"
      ],
      "text/plain": [
       "                               Yorusentilex_EngDataset  \\\n",
       "0    Nigeria will be punished Is Morocco the last t...   \n",
       "1    ?m? ??d?? are they going to carry me? In Londo...   \n",
       "2    What? b????lú Sierra Leone will find out the m...   \n",
       "3    It is not easy to grow up in an area like Mush...   \n",
       "4    Legend like ?y? Super Falcons defeated the Cam...   \n",
       "..                                                 ...   \n",
       "221  Mahrez beat the Super Eagles?? on the cool pas...   \n",
       "222  What does Bode 'Thomas' have to say about thei...   \n",
       "223  Amuneke replaced?? g??g?? like ak??nim????hit ...   \n",
       "224  S? behind?? the country that will overcome the...   \n",
       "225  France Vs Nigeria: Super Falcons persist??, am...   \n",
       "\n",
       "                                  Cleaned_NewsHeadline  \\\n",
       "0    Nigeria will be punished Is Morocco the last t...   \n",
       "1    ?m? ??d?? are they going to carry me? In Londo...   \n",
       "2    What? b????lú Sierra Leone will find out the m...   \n",
       "3    It is not easy to grow up in an area like Mush...   \n",
       "4    Legend like ?y? Super Falcons defeated the Cam...   \n",
       "..                                                 ...   \n",
       "221  Mahrez beat the Super Eagles?? on the cool pas...   \n",
       "222  What does Bode 'Thomas' have to say about thei...   \n",
       "223  Amuneke replaced?? g??g?? like ak??nim????hit ...   \n",
       "224  S? behind?? the country that will overcome the...   \n",
       "225  France Vs Nigeria: Super Falcons persist??, am...   \n",
       "\n",
       "                                            Token_Data  \\\n",
       "0    [nigeria, will, be, punished, is, morocco, the...   \n",
       "1    [, m, d, are, they, going, to, carry, me, in, ...   \n",
       "2    [what, b, lú, sierra, leone, will, find, out, ...   \n",
       "3    [it, is, not, easy, to, grow, up, in, an, area...   \n",
       "4    [legend, like, y, super, falcons, defeated, th...   \n",
       "..                                                 ...   \n",
       "221  [mahrez, beat, the, super, eagles, on, the, co...   \n",
       "222  [what, does, bode, thomas, have, to, say, abou...   \n",
       "223  [amuneke, replaced, g, g, like, ak, nim, hit, ...   \n",
       "224  [s, behind, the, country, that, will, overcome...   \n",
       "225  [france, vs, nigeria, super, falcons, persist,...   \n",
       "\n",
       "                                             Stop_Data  \\\n",
       "0    [nigeria, punished, morocco, last, reach, wafc...   \n",
       "1    [, going, carry, london, change, names, back, ...   \n",
       "2    [b, lú, sierra, leone, find, mystery, reaction...   \n",
       "3    [easy, grow, area, like, mushin, pity, became,...   \n",
       "4    [legend, like, super, falcons, defeated, camer...   \n",
       "..                                                 ...   \n",
       "221       [mahrez, beat, super, eagles, cool, pasture]   \n",
       "222  [bode, thomas, say, relationship, nigeria, sou...   \n",
       "223  [amuneke, replaced, g, g, like, ak, nim, hit, ...   \n",
       "224      [behind, country, overcome, influence, today]   \n",
       "225  [france, vs, nigeria, super, falcons, persist,...   \n",
       "\n",
       "                                       lemmatized_Data  Subjectivity  \\\n",
       "0    [nigeria, punished, morocco, last, reach, wafc...      0.066667   \n",
       "1    [, going, carry, london, change, name, back, s...      0.500000   \n",
       "2    [b, lú, sierra, leone, find, mystery, reaction...      0.000000   \n",
       "3    [easy, grow, area, like, mushin, pity, became,...      0.566667   \n",
       "4    [legend, like, super, falcon, defeated, camero...      0.833333   \n",
       "..                                                 ...           ...   \n",
       "221        [mahrez, beat, super, eagle, cool, pasture]      0.658333   \n",
       "222  [bode, thomas, say, relationship, nigeria, sou...      0.000000   \n",
       "223  [amuneke, replaced, g, g, like, ak, nim, hit, ...      0.000000   \n",
       "224      [behind, country, overcome, influence, today]      0.700000   \n",
       "225  [france, v, nigeria, super, falcon, persist, b...      0.666667   \n",
       "\n",
       "     Polarity Sentiment  \n",
       "0    0.000000   Neutral  \n",
       "1    0.250000  Positive  \n",
       "2    0.000000   Neutral  \n",
       "3    0.005556  Positive  \n",
       "4    0.166667  Positive  \n",
       "..        ...       ...  \n",
       "221  0.341667  Positive  \n",
       "222  0.000000   Neutral  \n",
       "223  0.000000   Neutral  \n",
       "224 -0.400000  Negative  \n",
       "225  0.333333  Positive  \n",
       "\n",
       "[226 rows x 8 columns]"
      ]
     },
     "execution_count": 28,
     "metadata": {},
     "output_type": "execute_result"
    }
   ],
   "source": [
    "def getsentiment(score):\n",
    "    if score < 0:\n",
    "        return 'Negative'\n",
    "    elif score == 0:\n",
    "        return 'Neutral'\n",
    "    else:\n",
    "        return 'Positive'\n",
    "    \n",
    "yorusentilex_type['Sentiment'] = yorusentilex_type['Polarity'].apply(getsentiment)\n",
    "\n",
    "yorusentilex_type"
   ]
  },
  {
   "cell_type": "markdown",
   "metadata": {},
   "source": [
    "# Plotting the Subjectivity and Polarity"
   ]
  },
  {
   "cell_type": "code",
   "execution_count": 29,
   "metadata": {},
   "outputs": [
    {
     "data": {
      "image/png": "[encoded data removed]",
      "text/plain": [
       "<Figure size 576x432 with 1 Axes>"
      ]
     },
     "metadata": {
      "needs_background": "light"
     },
     "output_type": "display_data"
    }
   ],
   "source": [
    "plt.figure(figsize=(8,6))\n",
    "for i in range(0, yorusentilex_type.shape[0]):\n",
    "    plt.scatter(yorusentilex_type['Polarity'][i], yorusentilex_type['Subjectivity'][i], color='Black')\n",
    "    \n",
    "plt.title(\"yorusentilex Polarity Score\")\n",
    "plt.xlabel('Polarity')\n",
    "plt.ylabel('Subjectivity')\n",
    "plt.show()"
   ]
  },
  {
   "cell_type": "markdown",
   "metadata": {},
   "source": [
    "# Getting the actual percentage (%) of the sentiments"
   ]
  },
  {
   "cell_type": "code",
   "execution_count": 31,
   "metadata": {},
   "outputs": [
    {
     "data": {
      "text/plain": [
       "38.9"
      ]
     },
     "execution_count": 31,
     "metadata": {},
     "output_type": "execute_result"
    }
   ],
   "source": [
    "yorusentilex_type_Positive = yorusentilex_type[yorusentilex_type.Sentiment == 'Positive']\n",
    "yorusentilex_type_Positive = yorusentilex_type_Positive['Yorusentilex_EngDataset']\n",
    "round(  (yorusentilex_type_Positive.shape[0] / yorusentilex_type.shape[0]) *100, 1)"
   ]
  },
  {
   "cell_type": "code",
   "execution_count": 32,
   "metadata": {},
   "outputs": [
    {
     "data": {
      "text/plain": [
       "12.8"
      ]
     },
     "execution_count": 32,
     "metadata": {},
     "output_type": "execute_result"
    }
   ],
   "source": [
    "yorusentilex_type_Negative = yorusentilex_type[yorusentilex_type.Sentiment == 'Negative']\n",
    "yorusentilex_type_Negative = yorusentilex_type_Negative['Yorusentilex_EngDataset']\n",
    "round(  (yorusentilex_type_Negative.shape[0] / yorusentilex_type.shape[0]) *100, 1)"
   ]
  },
  {
   "cell_type": "code",
   "execution_count": 33,
   "metadata": {},
   "outputs": [
    {
     "data": {
      "text/plain": [
       "48.2"
      ]
     },
     "execution_count": 33,
     "metadata": {},
     "output_type": "execute_result"
    }
   ],
   "source": [
    "yorusentilex_type_Neutral = yorusentilex_type[yorusentilex_type.Sentiment == 'Neutral']\n",
    "yorusentilex_type_Neutral = yorusentilex_type_Neutral['Yorusentilex_EngDataset']\n",
    "round(  (yorusentilex_type_Neutral.shape[0] / yorusentilex_type.shape[0]) *100, 1)"
   ]
  },
  {
   "cell_type": "markdown",
   "metadata": {},
   "source": [
    "# A chart to show the value count"
   ]
  },
  {
   "cell_type": "code",
   "execution_count": 34,
   "metadata": {},
   "outputs": [
    {
     "ename": "TypeError",
     "evalue": "Cannot interpret '<attribute 'dtype' of 'numpy.generic' objects>' as a data type",
     "output_type": "error",
     "traceback": [
      "\u001b[1;31m---------------------------------------------------------------------------\u001b[0m",
      "\u001b[1;31mTypeError\u001b[0m                                 Traceback (most recent call last)",
      "\u001b[1;32m<ipython-input-34-3a4fc9e25937>\u001b[0m in \u001b[0;36m<module>\u001b[1;34m\u001b[0m\n\u001b[0;32m      7\u001b[0m \u001b[0mplt\u001b[0m\u001b[1;33m.\u001b[0m\u001b[0mxlabel\u001b[0m\u001b[1;33m(\u001b[0m\u001b[1;34m'Sentiment'\u001b[0m\u001b[1;33m)\u001b[0m\u001b[1;33m\u001b[0m\u001b[1;33m\u001b[0m\u001b[0m\n\u001b[0;32m      8\u001b[0m \u001b[0mplt\u001b[0m\u001b[1;33m.\u001b[0m\u001b[0mylabel\u001b[0m\u001b[1;33m(\u001b[0m\u001b[1;34m'Counts'\u001b[0m\u001b[1;33m)\u001b[0m\u001b[1;33m\u001b[0m\u001b[1;33m\u001b[0m\u001b[0m\n\u001b[1;32m----> 9\u001b[1;33m \u001b[0myorusentilex_type\u001b[0m\u001b[1;33m[\u001b[0m\u001b[1;34m'Sentiment'\u001b[0m\u001b[1;33m]\u001b[0m\u001b[1;33m.\u001b[0m\u001b[0mvalue_counts\u001b[0m\u001b[1;33m(\u001b[0m\u001b[1;33m)\u001b[0m\u001b[1;33m.\u001b[0m\u001b[0mplot\u001b[0m\u001b[1;33m(\u001b[0m\u001b[0mkind\u001b[0m\u001b[1;33m=\u001b[0m\u001b[1;34m'bar'\u001b[0m\u001b[1;33m)\u001b[0m\u001b[1;33m\u001b[0m\u001b[1;33m\u001b[0m\u001b[0m\n\u001b[0m\u001b[0;32m     10\u001b[0m \u001b[0mplt\u001b[0m\u001b[1;33m.\u001b[0m\u001b[0mshow\u001b[0m\u001b[1;33m(\u001b[0m\u001b[1;33m)\u001b[0m\u001b[1;33m\u001b[0m\u001b[1;33m\u001b[0m\u001b[0m\n",
      "\u001b[1;32m~\\Anaconda3\\lib\\site-packages\\pandas\\plotting\\_core.py\u001b[0m in \u001b[0;36m__call__\u001b[1;34m(self, *args, **kwargs)\u001b[0m\n\u001b[0;32m    792\u001b[0m                     \u001b[0mdata\u001b[0m\u001b[1;33m.\u001b[0m\u001b[0mcolumns\u001b[0m \u001b[1;33m=\u001b[0m \u001b[0mlabel_name\u001b[0m\u001b[1;33m\u001b[0m\u001b[1;33m\u001b[0m\u001b[0m\n\u001b[0;32m    793\u001b[0m \u001b[1;33m\u001b[0m\u001b[0m\n\u001b[1;32m--> 794\u001b[1;33m         \u001b[1;32mreturn\u001b[0m \u001b[0mplot_backend\u001b[0m\u001b[1;33m.\u001b[0m\u001b[0mplot\u001b[0m\u001b[1;33m(\u001b[0m\u001b[0mdata\u001b[0m\u001b[1;33m,\u001b[0m \u001b[0mkind\u001b[0m\u001b[1;33m=\u001b[0m\u001b[0mkind\u001b[0m\u001b[1;33m,\u001b[0m \u001b[1;33m**\u001b[0m\u001b[0mkwargs\u001b[0m\u001b[1;33m)\u001b[0m\u001b[1;33m\u001b[0m\u001b[1;33m\u001b[0m\u001b[0m\n\u001b[0m\u001b[0;32m    795\u001b[0m \u001b[1;33m\u001b[0m\u001b[0m\n\u001b[0;32m    796\u001b[0m     \u001b[1;32mdef\u001b[0m \u001b[0mline\u001b[0m\u001b[1;33m(\u001b[0m\u001b[0mself\u001b[0m\u001b[1;33m,\u001b[0m \u001b[0mx\u001b[0m\u001b[1;33m=\u001b[0m\u001b[1;32mNone\u001b[0m\u001b[1;33m,\u001b[0m \u001b[0my\u001b[0m\u001b[1;33m=\u001b[0m\u001b[1;32mNone\u001b[0m\u001b[1;33m,\u001b[0m \u001b[1;33m**\u001b[0m\u001b[0mkwargs\u001b[0m\u001b[1;33m)\u001b[0m\u001b[1;33m:\u001b[0m\u001b[1;33m\u001b[0m\u001b[1;33m\u001b[0m\u001b[0m\n",
      "\u001b[1;32m~\\Anaconda3\\lib\\site-packages\\pandas\\plotting\\_matplotlib\\__init__.py\u001b[0m in \u001b[0;36mplot\u001b[1;34m(data, kind, **kwargs)\u001b[0m\n\u001b[0;32m     60\u001b[0m             \u001b[0mkwargs\u001b[0m\u001b[1;33m[\u001b[0m\u001b[1;34m\"ax\"\u001b[0m\u001b[1;33m]\u001b[0m \u001b[1;33m=\u001b[0m \u001b[0mgetattr\u001b[0m\u001b[1;33m(\u001b[0m\u001b[0max\u001b[0m\u001b[1;33m,\u001b[0m \u001b[1;34m\"left_ax\"\u001b[0m\u001b[1;33m,\u001b[0m \u001b[0max\u001b[0m\u001b[1;33m)\u001b[0m\u001b[1;33m\u001b[0m\u001b[1;33m\u001b[0m\u001b[0m\n\u001b[0;32m     61\u001b[0m     \u001b[0mplot_obj\u001b[0m \u001b[1;33m=\u001b[0m \u001b[0mPLOT_CLASSES\u001b[0m\u001b[1;33m[\u001b[0m\u001b[0mkind\u001b[0m\u001b[1;33m]\u001b[0m\u001b[1;33m(\u001b[0m\u001b[0mdata\u001b[0m\u001b[1;33m,\u001b[0m \u001b[1;33m**\u001b[0m\u001b[0mkwargs\u001b[0m\u001b[1;33m)\u001b[0m\u001b[1;33m\u001b[0m\u001b[1;33m\u001b[0m\u001b[0m\n\u001b[1;32m---> 62\u001b[1;33m     \u001b[0mplot_obj\u001b[0m\u001b[1;33m.\u001b[0m\u001b[0mgenerate\u001b[0m\u001b[1;33m(\u001b[0m\u001b[1;33m)\u001b[0m\u001b[1;33m\u001b[0m\u001b[1;33m\u001b[0m\u001b[0m\n\u001b[0m\u001b[0;32m     63\u001b[0m     \u001b[0mplot_obj\u001b[0m\u001b[1;33m.\u001b[0m\u001b[0mdraw\u001b[0m\u001b[1;33m(\u001b[0m\u001b[1;33m)\u001b[0m\u001b[1;33m\u001b[0m\u001b[1;33m\u001b[0m\u001b[0m\n\u001b[0;32m     64\u001b[0m     \u001b[1;32mreturn\u001b[0m \u001b[0mplot_obj\u001b[0m\u001b[1;33m.\u001b[0m\u001b[0mresult\u001b[0m\u001b[1;33m\u001b[0m\u001b[1;33m\u001b[0m\u001b[0m\n",
      "\u001b[1;32m~\\Anaconda3\\lib\\site-packages\\pandas\\plotting\\_matplotlib\\core.py\u001b[0m in \u001b[0;36mgenerate\u001b[1;34m(self)\u001b[0m\n\u001b[0;32m    277\u001b[0m     \u001b[1;32mdef\u001b[0m \u001b[0mgenerate\u001b[0m\u001b[1;33m(\u001b[0m\u001b[0mself\u001b[0m\u001b[1;33m)\u001b[0m\u001b[1;33m:\u001b[0m\u001b[1;33m\u001b[0m\u001b[1;33m\u001b[0m\u001b[0m\n\u001b[0;32m    278\u001b[0m         \u001b[0mself\u001b[0m\u001b[1;33m.\u001b[0m\u001b[0m_args_adjust\u001b[0m\u001b[1;33m(\u001b[0m\u001b[1;33m)\u001b[0m\u001b[1;33m\u001b[0m\u001b[1;33m\u001b[0m\u001b[0m\n\u001b[1;32m--> 279\u001b[1;33m         \u001b[0mself\u001b[0m\u001b[1;33m.\u001b[0m\u001b[0m_compute_plot_data\u001b[0m\u001b[1;33m(\u001b[0m\u001b[1;33m)\u001b[0m\u001b[1;33m\u001b[0m\u001b[1;33m\u001b[0m\u001b[0m\n\u001b[0m\u001b[0;32m    280\u001b[0m         \u001b[0mself\u001b[0m\u001b[1;33m.\u001b[0m\u001b[0m_setup_subplots\u001b[0m\u001b[1;33m(\u001b[0m\u001b[1;33m)\u001b[0m\u001b[1;33m\u001b[0m\u001b[1;33m\u001b[0m\u001b[0m\n\u001b[0;32m    281\u001b[0m         \u001b[0mself\u001b[0m\u001b[1;33m.\u001b[0m\u001b[0m_make_plot\u001b[0m\u001b[1;33m(\u001b[0m\u001b[1;33m)\u001b[0m\u001b[1;33m\u001b[0m\u001b[1;33m\u001b[0m\u001b[0m\n",
      "\u001b[1;32m~\\Anaconda3\\lib\\site-packages\\pandas\\plotting\\_matplotlib\\core.py\u001b[0m in \u001b[0;36m_compute_plot_data\u001b[1;34m(self)\u001b[0m\n\u001b[0;32m    402\u001b[0m         \u001b[0mdata\u001b[0m \u001b[1;33m=\u001b[0m \u001b[0mdata\u001b[0m\u001b[1;33m.\u001b[0m\u001b[0m_convert\u001b[0m\u001b[1;33m(\u001b[0m\u001b[0mdatetime\u001b[0m\u001b[1;33m=\u001b[0m\u001b[1;32mTrue\u001b[0m\u001b[1;33m,\u001b[0m \u001b[0mtimedelta\u001b[0m\u001b[1;33m=\u001b[0m\u001b[1;32mTrue\u001b[0m\u001b[1;33m)\u001b[0m\u001b[1;33m\u001b[0m\u001b[1;33m\u001b[0m\u001b[0m\n\u001b[0;32m    403\u001b[0m         numeric_data = data.select_dtypes(\n\u001b[1;32m--> 404\u001b[1;33m             \u001b[0minclude\u001b[0m\u001b[1;33m=\u001b[0m\u001b[1;33m[\u001b[0m\u001b[0mnp\u001b[0m\u001b[1;33m.\u001b[0m\u001b[0mnumber\u001b[0m\u001b[1;33m,\u001b[0m \u001b[1;34m\"datetime\"\u001b[0m\u001b[1;33m,\u001b[0m \u001b[1;34m\"datetimetz\"\u001b[0m\u001b[1;33m,\u001b[0m \u001b[1;34m\"timedelta\"\u001b[0m\u001b[1;33m]\u001b[0m\u001b[1;33m\u001b[0m\u001b[1;33m\u001b[0m\u001b[0m\n\u001b[0m\u001b[0;32m    405\u001b[0m         )\n\u001b[0;32m    406\u001b[0m \u001b[1;33m\u001b[0m\u001b[0m\n",
      "\u001b[1;32m~\\Anaconda3\\lib\\site-packages\\pandas\\core\\frame.py\u001b[0m in \u001b[0;36mselect_dtypes\u001b[1;34m(self, include, exclude)\u001b[0m\n\u001b[0;32m   3425\u001b[0m         \u001b[1;31m# the \"union\" of the logic of case 1 and case 2:\u001b[0m\u001b[1;33m\u001b[0m\u001b[1;33m\u001b[0m\u001b[1;33m\u001b[0m\u001b[0m\n\u001b[0;32m   3426\u001b[0m         \u001b[1;31m# we get the included and excluded, and return their logical and\u001b[0m\u001b[1;33m\u001b[0m\u001b[1;33m\u001b[0m\u001b[1;33m\u001b[0m\u001b[0m\n\u001b[1;32m-> 3427\u001b[1;33m         \u001b[0minclude_these\u001b[0m \u001b[1;33m=\u001b[0m \u001b[0mSeries\u001b[0m\u001b[1;33m(\u001b[0m\u001b[1;32mnot\u001b[0m \u001b[0mbool\u001b[0m\u001b[1;33m(\u001b[0m\u001b[0minclude\u001b[0m\u001b[1;33m)\u001b[0m\u001b[1;33m,\u001b[0m \u001b[0mindex\u001b[0m\u001b[1;33m=\u001b[0m\u001b[0mself\u001b[0m\u001b[1;33m.\u001b[0m\u001b[0mcolumns\u001b[0m\u001b[1;33m)\u001b[0m\u001b[1;33m\u001b[0m\u001b[1;33m\u001b[0m\u001b[0m\n\u001b[0m\u001b[0;32m   3428\u001b[0m         \u001b[0mexclude_these\u001b[0m \u001b[1;33m=\u001b[0m \u001b[0mSeries\u001b[0m\u001b[1;33m(\u001b[0m\u001b[1;32mnot\u001b[0m \u001b[0mbool\u001b[0m\u001b[1;33m(\u001b[0m\u001b[0mexclude\u001b[0m\u001b[1;33m)\u001b[0m\u001b[1;33m,\u001b[0m \u001b[0mindex\u001b[0m\u001b[1;33m=\u001b[0m\u001b[0mself\u001b[0m\u001b[1;33m.\u001b[0m\u001b[0mcolumns\u001b[0m\u001b[1;33m)\u001b[0m\u001b[1;33m\u001b[0m\u001b[1;33m\u001b[0m\u001b[0m\n\u001b[0;32m   3429\u001b[0m \u001b[1;33m\u001b[0m\u001b[0m\n",
      "\u001b[1;32m~\\Anaconda3\\lib\\site-packages\\pandas\\core\\series.py\u001b[0m in \u001b[0;36m__init__\u001b[1;34m(self, data, index, dtype, name, copy, fastpath)\u001b[0m\n\u001b[0;32m    309\u001b[0m                     \u001b[0mdata\u001b[0m \u001b[1;33m=\u001b[0m \u001b[0mdata\u001b[0m\u001b[1;33m.\u001b[0m\u001b[0mcopy\u001b[0m\u001b[1;33m(\u001b[0m\u001b[1;33m)\u001b[0m\u001b[1;33m\u001b[0m\u001b[1;33m\u001b[0m\u001b[0m\n\u001b[0;32m    310\u001b[0m             \u001b[1;32melse\u001b[0m\u001b[1;33m:\u001b[0m\u001b[1;33m\u001b[0m\u001b[1;33m\u001b[0m\u001b[0m\n\u001b[1;32m--> 311\u001b[1;33m                 \u001b[0mdata\u001b[0m \u001b[1;33m=\u001b[0m \u001b[0msanitize_array\u001b[0m\u001b[1;33m(\u001b[0m\u001b[0mdata\u001b[0m\u001b[1;33m,\u001b[0m \u001b[0mindex\u001b[0m\u001b[1;33m,\u001b[0m \u001b[0mdtype\u001b[0m\u001b[1;33m,\u001b[0m \u001b[0mcopy\u001b[0m\u001b[1;33m,\u001b[0m \u001b[0mraise_cast_failure\u001b[0m\u001b[1;33m=\u001b[0m\u001b[1;32mTrue\u001b[0m\u001b[1;33m)\u001b[0m\u001b[1;33m\u001b[0m\u001b[1;33m\u001b[0m\u001b[0m\n\u001b[0m\u001b[0;32m    312\u001b[0m \u001b[1;33m\u001b[0m\u001b[0m\n\u001b[0;32m    313\u001b[0m                 \u001b[0mdata\u001b[0m \u001b[1;33m=\u001b[0m \u001b[0mSingleBlockManager\u001b[0m\u001b[1;33m(\u001b[0m\u001b[0mdata\u001b[0m\u001b[1;33m,\u001b[0m \u001b[0mindex\u001b[0m\u001b[1;33m,\u001b[0m \u001b[0mfastpath\u001b[0m\u001b[1;33m=\u001b[0m\u001b[1;32mTrue\u001b[0m\u001b[1;33m)\u001b[0m\u001b[1;33m\u001b[0m\u001b[1;33m\u001b[0m\u001b[0m\n",
      "\u001b[1;32m~\\Anaconda3\\lib\\site-packages\\pandas\\core\\internals\\construction.py\u001b[0m in \u001b[0;36msanitize_array\u001b[1;34m(data, index, dtype, copy, raise_cast_failure)\u001b[0m\n\u001b[0;32m    710\u001b[0m                 \u001b[0mvalue\u001b[0m \u001b[1;33m=\u001b[0m \u001b[0mmaybe_cast_to_datetime\u001b[0m\u001b[1;33m(\u001b[0m\u001b[0mvalue\u001b[0m\u001b[1;33m,\u001b[0m \u001b[0mdtype\u001b[0m\u001b[1;33m)\u001b[0m\u001b[1;33m\u001b[0m\u001b[1;33m\u001b[0m\u001b[0m\n\u001b[0;32m    711\u001b[0m \u001b[1;33m\u001b[0m\u001b[0m\n\u001b[1;32m--> 712\u001b[1;33m             \u001b[0msubarr\u001b[0m \u001b[1;33m=\u001b[0m \u001b[0mconstruct_1d_arraylike_from_scalar\u001b[0m\u001b[1;33m(\u001b[0m\u001b[0mvalue\u001b[0m\u001b[1;33m,\u001b[0m \u001b[0mlen\u001b[0m\u001b[1;33m(\u001b[0m\u001b[0mindex\u001b[0m\u001b[1;33m)\u001b[0m\u001b[1;33m,\u001b[0m \u001b[0mdtype\u001b[0m\u001b[1;33m)\u001b[0m\u001b[1;33m\u001b[0m\u001b[1;33m\u001b[0m\u001b[0m\n\u001b[0m\u001b[0;32m    713\u001b[0m \u001b[1;33m\u001b[0m\u001b[0m\n\u001b[0;32m    714\u001b[0m         \u001b[1;32melse\u001b[0m\u001b[1;33m:\u001b[0m\u001b[1;33m\u001b[0m\u001b[1;33m\u001b[0m\u001b[0m\n",
      "\u001b[1;32m~\\Anaconda3\\lib\\site-packages\\pandas\\core\\dtypes\\cast.py\u001b[0m in \u001b[0;36mconstruct_1d_arraylike_from_scalar\u001b[1;34m(value, length, dtype)\u001b[0m\n\u001b[0;32m   1231\u001b[0m                 \u001b[0mvalue\u001b[0m \u001b[1;33m=\u001b[0m \u001b[0mensure_str\u001b[0m\u001b[1;33m(\u001b[0m\u001b[0mvalue\u001b[0m\u001b[1;33m)\u001b[0m\u001b[1;33m\u001b[0m\u001b[1;33m\u001b[0m\u001b[0m\n\u001b[0;32m   1232\u001b[0m \u001b[1;33m\u001b[0m\u001b[0m\n\u001b[1;32m-> 1233\u001b[1;33m         \u001b[0msubarr\u001b[0m \u001b[1;33m=\u001b[0m \u001b[0mnp\u001b[0m\u001b[1;33m.\u001b[0m\u001b[0mempty\u001b[0m\u001b[1;33m(\u001b[0m\u001b[0mlength\u001b[0m\u001b[1;33m,\u001b[0m \u001b[0mdtype\u001b[0m\u001b[1;33m=\u001b[0m\u001b[0mdtype\u001b[0m\u001b[1;33m)\u001b[0m\u001b[1;33m\u001b[0m\u001b[1;33m\u001b[0m\u001b[0m\n\u001b[0m\u001b[0;32m   1234\u001b[0m         \u001b[0msubarr\u001b[0m\u001b[1;33m.\u001b[0m\u001b[0mfill\u001b[0m\u001b[1;33m(\u001b[0m\u001b[0mvalue\u001b[0m\u001b[1;33m)\u001b[0m\u001b[1;33m\u001b[0m\u001b[1;33m\u001b[0m\u001b[0m\n\u001b[0;32m   1235\u001b[0m \u001b[1;33m\u001b[0m\u001b[0m\n",
      "\u001b[1;31mTypeError\u001b[0m: Cannot interpret '<attribute 'dtype' of 'numpy.generic' objects>' as a data type"
     ]
    },
    {
     "data": {
      "image/png": "[encoded data removed]",
      "text/plain": [
       "<Figure size 432x288 with 1 Axes>"
      ]
     },
     "metadata": {
      "needs_background": "light"
     },
     "output_type": "display_data"
    }
   ],
   "source": [
    "import matplotlib.pyplot as plt\n",
    "#show the value count\n",
    "yorusentilex_type['Sentiment'].value_counts()\n",
    "\n",
    "#Plot and visualize the counts\n",
    "plt.title('yorusentilex lexicon testing  Sentiment Analysis')\n",
    "plt.xlabel('Sentiment')\n",
    "plt.ylabel('Counts')\n",
    "yorusentilex_type['Sentiment'].value_counts().plot(kind='bar')\n",
    "plt.show()\n"
   ]
  },
  {
   "cell_type": "code",
   "execution_count": 35,
   "metadata": {
    "scrolled": true
   },
   "outputs": [
    {
     "data": {
      "text/plain": [
       "Neutral     109\n",
       "Positive     88\n",
       "Negative     29\n",
       "Name: Sentiment, dtype: int64"
      ]
     },
     "execution_count": 35,
     "metadata": {},
     "output_type": "execute_result"
    }
   ],
   "source": [
    "yorusentilex_type['Sentiment'].value_counts()"
   ]
  },
  {
   "cell_type": "code",
   "execution_count": 68,
   "metadata": {},
   "outputs": [
    {
     "data": {
      "text/plain": [
       "Nigeria created it?t?? to get love ??y? AFCON 2021 in Cameroon- Asamoah Gyan                          2\n",
       "?w?? ?l??kill t? how much fake Ahmed Musa? cheat people                                               2\n",
       "There was no match in 'Moscow', the Super Eagles lost 3-1 against Sudan in the Afcon competition      2\n",
       "? look at the top athletes in 2020?                                                                   2\n",
       "what really?? right?? Venus Williams is 41 years old and has never been with a man. find?             2\n",
       "                                                                                                     ..\n",
       "It is against the law to be punished by the police. What's wrong with you? a?? Military - Lawyer      1\n",
       "Bimbo Oshin ?explain ??r?? the last one r?? s? for him before he died                                 1\n",
       "What??? the health system will be j??j?? on the death of Maradona                                     1\n",
       "?m??ba 'The Buzz' Larbie, ?m? They have been together for seven years. call me Messi old????? Sour    1\n",
       "They are close to each other. Mike Tyson's fight with Roy Jones Jr. forward                           1\n",
       "Name: Yorusentilex_EngDataset, Length: 221, dtype: int64"
      ]
     },
     "execution_count": 68,
     "metadata": {},
     "output_type": "execute_result"
    }
   ],
   "source": [
    "#shows the number of values for each of the type\n",
    "yorusentilex_type['Yorusentilex_EngDataset'].value_counts()"
   ]
  },
  {
   "cell_type": "markdown",
   "metadata": {},
   "source": [
    "# Yoruba dataset manipulation "
   ]
  },
  {
   "cell_type": "code",
   "execution_count": 36,
   "metadata": {},
   "outputs": [
    {
     "data": {
      "text/html": [
       "<div>\n",
       "<style scoped>\n",
       "    .dataframe tbody tr th:only-of-type {\n",
       "        vertical-align: middle;\n",
       "    }\n",
       "\n",
       "    .dataframe tbody tr th {\n",
       "        vertical-align: top;\n",
       "    }\n",
       "\n",
       "    .dataframe thead th {\n",
       "        text-align: right;\n",
       "    }\n",
       "</style>\n",
       "<table border=\"1\" class=\"dataframe\">\n",
       "  <thead>\n",
       "    <tr style=\"text-align: right;\">\n",
       "      <th></th>\n",
       "      <th>yorubaNews</th>\n",
       "    </tr>\n",
       "  </thead>\n",
       "  <tbody>\n",
       "    <tr>\n",
       "      <td>0</td>\n",
       "      <td>?m? ??d?? ni wó?n gbé mi l? ?e ní London, w??n...</td>\n",
       "    </tr>\n",
       "    <tr>\n",
       "      <td>1</td>\n",
       "      <td>?é Nigeria yóò fìyà j? Morocco bí ti àtè?yìnwá...</td>\n",
       "    </tr>\n",
       "    <tr>\n",
       "      <td>2</td>\n",
       "      <td>Àj? b????lù Sierra Leone yóò wádìí Àràmà?dà ìf...</td>\n",
       "    </tr>\n",
       "    <tr>\n",
       "      <td>3</td>\n",
       "      <td>Àlàyé bí ?y? Super Falcons gbé kìnnìún Cameroo...</td>\n",
       "    </tr>\n",
       "    <tr>\n",
       "      <td>4</td>\n",
       "      <td>Ìgbà méjìlá tí Super Falcons kojú South Africa...</td>\n",
       "    </tr>\n",
       "  </tbody>\n",
       "</table>\n",
       "</div>"
      ],
      "text/plain": [
       "                                          yorubaNews\n",
       "0  ?m? ??d?? ni wó?n gbé mi l? ?e ní London, w??n...\n",
       "1  ?é Nigeria yóò fìyà j? Morocco bí ti àtè?yìnwá...\n",
       "2  Àj? b????lù Sierra Leone yóò wádìí Àràmà?dà ìf...\n",
       "3  Àlàyé bí ?y? Super Falcons gbé kìnnìún Cameroo...\n",
       "4  Ìgbà méjìlá tí Super Falcons kojú South Africa..."
      ]
     },
     "execution_count": 36,
     "metadata": {},
     "output_type": "execute_result"
    }
   ],
   "source": [
    "#Reading the dataset\n",
    "yoruba = pd.read_csv('YorubaNews.csv', encoding= 'latin-1')\n",
    "yoruba.head()"
   ]
  },
  {
   "cell_type": "code",
   "execution_count": 37,
   "metadata": {},
   "outputs": [
    {
     "data": {
      "text/plain": [
       "(225, 1)"
      ]
     },
     "execution_count": 37,
     "metadata": {},
     "output_type": "execute_result"
    }
   ],
   "source": [
    "#shows the number of rows and columns respectively.\n",
    "yoruba.shape"
   ]
  },
  {
   "cell_type": "markdown",
   "metadata": {},
   "source": [
    "# Importing Libraries for Data Cleaning"
   ]
  },
  {
   "cell_type": "code",
   "execution_count": 38,
   "metadata": {},
   "outputs": [
    {
     "name": "stdout",
     "output_type": "stream",
     "text": [
      "Requirement already satisfied: clean-text in c:\\users\\user\\anaconda3\\lib\\site-packages (0.6.0)\n",
      "Requirement already satisfied: emoji<2.0.0,>=1.0.0 in c:\\users\\user\\anaconda3\\lib\\site-packages (from clean-text) (1.7.0)\n",
      "Requirement already satisfied: ftfy<7.0,>=6.0 in c:\\users\\user\\anaconda3\\lib\\site-packages (from clean-text) (6.1.1)\n",
      "Requirement already satisfied: wcwidth>=0.2.5 in c:\\users\\user\\anaconda3\\lib\\site-packages (from ftfy<7.0,>=6.0->clean-text) (0.2.5)\n",
      "Note: you may need to restart the kernel to use updated packages.\n"
     ]
    }
   ],
   "source": [
    "pip install clean-text"
   ]
  },
  {
   "cell_type": "code",
   "execution_count": 39,
   "metadata": {},
   "outputs": [
    {
     "name": "stdout",
     "output_type": "stream",
     "text": [
      "Requirement already satisfied: wordcloud in c:\\users\\user\\anaconda3\\lib\\site-packages (1.8.2.2)\n",
      "Requirement already satisfied: numpy>=1.6.1 in c:\\users\\user\\anaconda3\\lib\\site-packages (from wordcloud) (1.21.6)\n",
      "Requirement already satisfied: pillow in c:\\users\\user\\anaconda3\\lib\\site-packages (from wordcloud) (6.2.0)\n",
      "Requirement already satisfied: matplotlib in c:\\users\\user\\anaconda3\\lib\\site-packages (from wordcloud) (3.1.1)\n",
      "Requirement already satisfied: cycler>=0.10 in c:\\users\\user\\anaconda3\\lib\\site-packages (from matplotlib->wordcloud) (0.10.0)\n",
      "Requirement already satisfied: kiwisolver>=1.0.1 in c:\\users\\user\\anaconda3\\lib\\site-packages (from matplotlib->wordcloud) (1.1.0)\n",
      "Requirement already satisfied: pyparsing!=2.0.4,!=2.1.2,!=2.1.6,>=2.0.1 in c:\\users\\user\\anaconda3\\lib\\site-packages (from matplotlib->wordcloud) (2.4.2)\n",
      "Requirement already satisfied: python-dateutil>=2.1 in c:\\users\\user\\anaconda3\\lib\\site-packages (from matplotlib->wordcloud) (2.8.0)\n",
      "Requirement already satisfied: six in c:\\users\\user\\anaconda3\\lib\\site-packages (from cycler>=0.10->matplotlib->wordcloud) (1.12.0)\n",
      "Requirement already satisfied: setuptools in c:\\users\\user\\anaconda3\\lib\\site-packages (from kiwisolver>=1.0.1->matplotlib->wordcloud) (41.4.0)\n",
      "Note: you may need to restart the kernel to use updated packages.\n"
     ]
    }
   ],
   "source": [
    "pip install wordcloud"
   ]
  },
  {
   "cell_type": "code",
   "execution_count": 40,
   "metadata": {},
   "outputs": [],
   "source": [
    "from textblob import TextBlob\n",
    "from wordcloud import WordCloud\n",
    "import re"
   ]
  },
  {
   "cell_type": "code",
   "execution_count": 41,
   "metadata": {},
   "outputs": [
    {
     "name": "stderr",
     "output_type": "stream",
     "text": [
      "[nltk_data] Error loading stopwords: <urlopen error [Errno 11001]\n",
      "[nltk_data]     getaddrinfo failed>\n",
      "[nltk_data] Error loading wordnet: <urlopen error [Errno 11001]\n",
      "[nltk_data]     getaddrinfo failed>\n"
     ]
    }
   ],
   "source": [
    "#fot text manipulation\n",
    "import nltk\n",
    "from nltk.corpus import stopwords\n",
    "nltk.download(\"stopwords\")\n",
    "wn = nltk.download(\"wordnet\")"
   ]
  },
  {
   "cell_type": "markdown",
   "metadata": {},
   "source": [
    "# Data Cleaning"
   ]
  },
  {
   "cell_type": "code",
   "execution_count": 42,
   "metadata": {},
   "outputs": [],
   "source": [
    "#removing unwanted symbols\n",
    "def cleanData(text):\n",
    "    text=re.sub(r'@[A-Za-z0-9]+', '', text)  #removing @mention\n",
    "    text=re.sub(r'#-_', '', text) #Removing the '#' symbols\n",
    "    text=re.sub(r'RT[\\s]+', '', text)#Removing RT\n",
    "    text=re.sub(r'https?:\\/\\/\\S+-_', '',text) #Removing hyper links\n",
    "    \n",
    "    return text"
   ]
  },
  {
   "cell_type": "code",
   "execution_count": 43,
   "metadata": {},
   "outputs": [
    {
     "data": {
      "text/html": [
       "<div>\n",
       "<style scoped>\n",
       "    .dataframe tbody tr th:only-of-type {\n",
       "        vertical-align: middle;\n",
       "    }\n",
       "\n",
       "    .dataframe tbody tr th {\n",
       "        vertical-align: top;\n",
       "    }\n",
       "\n",
       "    .dataframe thead th {\n",
       "        text-align: right;\n",
       "    }\n",
       "</style>\n",
       "<table border=\"1\" class=\"dataframe\">\n",
       "  <thead>\n",
       "    <tr style=\"text-align: right;\">\n",
       "      <th></th>\n",
       "      <th>yorubaNews</th>\n",
       "      <th>Cleaned_yorubaNews</th>\n",
       "    </tr>\n",
       "  </thead>\n",
       "  <tbody>\n",
       "    <tr>\n",
       "      <td>0</td>\n",
       "      <td>?m? ??d?? ni wó?n gbé mi l? ?e ní London, w??n...</td>\n",
       "      <td>?m? ??d?? ni wó?n gbé mi l? ?e ní London, w??n...</td>\n",
       "    </tr>\n",
       "    <tr>\n",
       "      <td>1</td>\n",
       "      <td>?é Nigeria yóò fìyà j? Morocco bí ti àtè?yìnwá...</td>\n",
       "      <td>?é Nigeria yóò fìyà j? Morocco bí ti àtè?yìnwá...</td>\n",
       "    </tr>\n",
       "    <tr>\n",
       "      <td>2</td>\n",
       "      <td>Àj? b????lù Sierra Leone yóò wádìí Àràmà?dà ìf...</td>\n",
       "      <td>Àj? b????lù Sierra Leone yóò wádìí Àràmà?dà ìf...</td>\n",
       "    </tr>\n",
       "    <tr>\n",
       "      <td>3</td>\n",
       "      <td>Àlàyé bí ?y? Super Falcons gbé kìnnìún Cameroo...</td>\n",
       "      <td>Àlàyé bí ?y? Super Falcons gbé kìnnìún Cameroo...</td>\n",
       "    </tr>\n",
       "    <tr>\n",
       "      <td>4</td>\n",
       "      <td>Ìgbà méjìlá tí Super Falcons kojú South Africa...</td>\n",
       "      <td>Ìgbà méjìlá tí Super Falcons kojú South Africa...</td>\n",
       "    </tr>\n",
       "  </tbody>\n",
       "</table>\n",
       "</div>"
      ],
      "text/plain": [
       "                                          yorubaNews  \\\n",
       "0  ?m? ??d?? ni wó?n gbé mi l? ?e ní London, w??n...   \n",
       "1  ?é Nigeria yóò fìyà j? Morocco bí ti àtè?yìnwá...   \n",
       "2  Àj? b????lù Sierra Leone yóò wádìí Àràmà?dà ìf...   \n",
       "3  Àlàyé bí ?y? Super Falcons gbé kìnnìún Cameroo...   \n",
       "4  Ìgbà méjìlá tí Super Falcons kojú South Africa...   \n",
       "\n",
       "                                  Cleaned_yorubaNews  \n",
       "0  ?m? ??d?? ni wó?n gbé mi l? ?e ní London, w??n...  \n",
       "1  ?é Nigeria yóò fìyà j? Morocco bí ti àtè?yìnwá...  \n",
       "2  Àj? b????lù Sierra Leone yóò wádìí Àràmà?dà ìf...  \n",
       "3  Àlàyé bí ?y? Super Falcons gbé kìnnìún Cameroo...  \n",
       "4  Ìgbà méjìlá tí Super Falcons kojú South Africa...  "
      ]
     },
     "execution_count": 43,
     "metadata": {},
     "output_type": "execute_result"
    }
   ],
   "source": [
    "yoruba['Cleaned_yorubaNews'] = yoruba['yorubaNews'].apply(cleanData)\n",
    "yoruba.head()"
   ]
  },
  {
   "cell_type": "markdown",
   "metadata": {},
   "source": [
    "# Tokenization"
   ]
  },
  {
   "cell_type": "code",
   "execution_count": 44,
   "metadata": {},
   "outputs": [],
   "source": [
    "import re\n",
    "def tokenize(text):\n",
    "    tokens=re.split('\\W+', text)\n",
    "    return tokens"
   ]
  },
  {
   "cell_type": "code",
   "execution_count": 45,
   "metadata": {},
   "outputs": [
    {
     "data": {
      "text/html": [
       "<div>\n",
       "<style scoped>\n",
       "    .dataframe tbody tr th:only-of-type {\n",
       "        vertical-align: middle;\n",
       "    }\n",
       "\n",
       "    .dataframe tbody tr th {\n",
       "        vertical-align: top;\n",
       "    }\n",
       "\n",
       "    .dataframe thead th {\n",
       "        text-align: right;\n",
       "    }\n",
       "</style>\n",
       "<table border=\"1\" class=\"dataframe\">\n",
       "  <thead>\n",
       "    <tr style=\"text-align: right;\">\n",
       "      <th></th>\n",
       "      <th>yorubaNews</th>\n",
       "      <th>Cleaned_yorubaNews</th>\n",
       "      <th>Token_yoruba</th>\n",
       "    </tr>\n",
       "  </thead>\n",
       "  <tbody>\n",
       "    <tr>\n",
       "      <td>0</td>\n",
       "      <td>?m? ??d?? ni wó?n gbé mi l? ?e ní London, w??n...</td>\n",
       "      <td>?m? ??d?? ni wó?n gbé mi l? ?e ní London, w??n...</td>\n",
       "      <td>[, m, d, ni, wó, n, gbé, mi, l, e, ní, london,...</td>\n",
       "    </tr>\n",
       "    <tr>\n",
       "      <td>1</td>\n",
       "      <td>?é Nigeria yóò fìyà j? Morocco bí ti àtè?yìnwá...</td>\n",
       "      <td>?é Nigeria yóò fìyà j? Morocco bí ti àtè?yìnwá...</td>\n",
       "      <td>[, é, nigeria, yóò, fìyà, j, morocco, bí, ti, ...</td>\n",
       "    </tr>\n",
       "    <tr>\n",
       "      <td>2</td>\n",
       "      <td>Àj? b????lù Sierra Leone yóò wádìí Àràmà?dà ìf...</td>\n",
       "      <td>Àj? b????lù Sierra Leone yóò wádìí Àràmà?dà ìf...</td>\n",
       "      <td>[àj, b, lù, sierra, leone, yóò, wádìí, àràmà, ...</td>\n",
       "    </tr>\n",
       "    <tr>\n",
       "      <td>3</td>\n",
       "      <td>Àlàyé bí ?y? Super Falcons gbé kìnnìún Cameroo...</td>\n",
       "      <td>Àlàyé bí ?y? Super Falcons gbé kìnnìún Cameroo...</td>\n",
       "      <td>[àlàyé, bí, y, super, falcons, gbé, kìnnìún, c...</td>\n",
       "    </tr>\n",
       "    <tr>\n",
       "      <td>4</td>\n",
       "      <td>Ìgbà méjìlá tí Super Falcons kojú South Africa...</td>\n",
       "      <td>Ìgbà méjìlá tí Super Falcons kojú South Africa...</td>\n",
       "      <td>[ìgbà, méjìlá, tí, super, falcons, kojú, south...</td>\n",
       "    </tr>\n",
       "  </tbody>\n",
       "</table>\n",
       "</div>"
      ],
      "text/plain": [
       "                                          yorubaNews  \\\n",
       "0  ?m? ??d?? ni wó?n gbé mi l? ?e ní London, w??n...   \n",
       "1  ?é Nigeria yóò fìyà j? Morocco bí ti àtè?yìnwá...   \n",
       "2  Àj? b????lù Sierra Leone yóò wádìí Àràmà?dà ìf...   \n",
       "3  Àlàyé bí ?y? Super Falcons gbé kìnnìún Cameroo...   \n",
       "4  Ìgbà méjìlá tí Super Falcons kojú South Africa...   \n",
       "\n",
       "                                  Cleaned_yorubaNews  \\\n",
       "0  ?m? ??d?? ni wó?n gbé mi l? ?e ní London, w??n...   \n",
       "1  ?é Nigeria yóò fìyà j? Morocco bí ti àtè?yìnwá...   \n",
       "2  Àj? b????lù Sierra Leone yóò wádìí Àràmà?dà ìf...   \n",
       "3  Àlàyé bí ?y? Super Falcons gbé kìnnìún Cameroo...   \n",
       "4  Ìgbà méjìlá tí Super Falcons kojú South Africa...   \n",
       "\n",
       "                                        Token_yoruba  \n",
       "0  [, m, d, ni, wó, n, gbé, mi, l, e, ní, london,...  \n",
       "1  [, é, nigeria, yóò, fìyà, j, morocco, bí, ti, ...  \n",
       "2  [àj, b, lù, sierra, leone, yóò, wádìí, àràmà, ...  \n",
       "3  [àlàyé, bí, y, super, falcons, gbé, kìnnìún, c...  \n",
       "4  [ìgbà, méjìlá, tí, super, falcons, kojú, south...  "
      ]
     },
     "execution_count": 45,
     "metadata": {},
     "output_type": "execute_result"
    }
   ],
   "source": [
    "yoruba['Token_yoruba'] = yoruba['Cleaned_yorubaNews'].apply(lambda x: tokenize(x.lower()))\n",
    "yoruba.head()"
   ]
  },
  {
   "cell_type": "markdown",
   "metadata": {},
   "source": [
    "# Removing Stopwords"
   ]
  },
  {
   "cell_type": "code",
   "execution_count": 46,
   "metadata": {},
   "outputs": [
    {
     "data": {
      "text/plain": [
       "['i', 'me', 'my', 'myself', 'we', 'our', 'ours', 'ourselves', 'you', \"you're\"]"
      ]
     },
     "execution_count": 46,
     "metadata": {},
     "output_type": "execute_result"
    }
   ],
   "source": [
    "stopwords = nltk.corpus.stopwords.words('english')\n",
    "stopwords[0:10]"
   ]
  },
  {
   "cell_type": "code",
   "execution_count": 47,
   "metadata": {},
   "outputs": [],
   "source": [
    "def remove_stopwords(tokenized_tweet):\n",
    "    txt_clean = [word for word in tokenized_tweet if word not in stopwords]\n",
    "    return txt_clean"
   ]
  },
  {
   "cell_type": "code",
   "execution_count": 48,
   "metadata": {},
   "outputs": [
    {
     "data": {
      "text/html": [
       "<div>\n",
       "<style scoped>\n",
       "    .dataframe tbody tr th:only-of-type {\n",
       "        vertical-align: middle;\n",
       "    }\n",
       "\n",
       "    .dataframe tbody tr th {\n",
       "        vertical-align: top;\n",
       "    }\n",
       "\n",
       "    .dataframe thead th {\n",
       "        text-align: right;\n",
       "    }\n",
       "</style>\n",
       "<table border=\"1\" class=\"dataframe\">\n",
       "  <thead>\n",
       "    <tr style=\"text-align: right;\">\n",
       "      <th></th>\n",
       "      <th>yorubaNews</th>\n",
       "      <th>Cleaned_yorubaNews</th>\n",
       "      <th>Token_yoruba</th>\n",
       "      <th>Stop_yoruba</th>\n",
       "    </tr>\n",
       "  </thead>\n",
       "  <tbody>\n",
       "    <tr>\n",
       "      <td>0</td>\n",
       "      <td>?m? ??d?? ni wó?n gbé mi l? ?e ní London, w??n...</td>\n",
       "      <td>?m? ??d?? ni wó?n gbé mi l? ?e ní London, w??n...</td>\n",
       "      <td>[, m, d, ni, wó, n, gbé, mi, l, e, ní, london,...</td>\n",
       "      <td>[, ni, wó, n, gbé, mi, l, e, ní, london, w, n,...</td>\n",
       "    </tr>\n",
       "    <tr>\n",
       "      <td>1</td>\n",
       "      <td>?é Nigeria yóò fìyà j? Morocco bí ti àtè?yìnwá...</td>\n",
       "      <td>?é Nigeria yóò fìyà j? Morocco bí ti àtè?yìnwá...</td>\n",
       "      <td>[, é, nigeria, yóò, fìyà, j, morocco, bí, ti, ...</td>\n",
       "      <td>[, é, nigeria, yóò, fìyà, j, morocco, bí, ti, ...</td>\n",
       "    </tr>\n",
       "    <tr>\n",
       "      <td>2</td>\n",
       "      <td>Àj? b????lù Sierra Leone yóò wádìí Àràmà?dà ìf...</td>\n",
       "      <td>Àj? b????lù Sierra Leone yóò wádìí Àràmà?dà ìf...</td>\n",
       "      <td>[àj, b, lù, sierra, leone, yóò, wádìí, àràmà, ...</td>\n",
       "      <td>[àj, b, lù, sierra, leone, yóò, wádìí, àràmà, ...</td>\n",
       "    </tr>\n",
       "    <tr>\n",
       "      <td>3</td>\n",
       "      <td>Àlàyé bí ?y? Super Falcons gbé kìnnìún Cameroo...</td>\n",
       "      <td>Àlàyé bí ?y? Super Falcons gbé kìnnìún Cameroo...</td>\n",
       "      <td>[àlàyé, bí, y, super, falcons, gbé, kìnnìún, c...</td>\n",
       "      <td>[àlàyé, bí, super, falcons, gbé, kìnnìún, came...</td>\n",
       "    </tr>\n",
       "    <tr>\n",
       "      <td>4</td>\n",
       "      <td>Ìgbà méjìlá tí Super Falcons kojú South Africa...</td>\n",
       "      <td>Ìgbà méjìlá tí Super Falcons kojú South Africa...</td>\n",
       "      <td>[ìgbà, méjìlá, tí, super, falcons, kojú, south...</td>\n",
       "      <td>[ìgbà, méjìlá, tí, super, falcons, kojú, south...</td>\n",
       "    </tr>\n",
       "  </tbody>\n",
       "</table>\n",
       "</div>"
      ],
      "text/plain": [
       "                                          yorubaNews  \\\n",
       "0  ?m? ??d?? ni wó?n gbé mi l? ?e ní London, w??n...   \n",
       "1  ?é Nigeria yóò fìyà j? Morocco bí ti àtè?yìnwá...   \n",
       "2  Àj? b????lù Sierra Leone yóò wádìí Àràmà?dà ìf...   \n",
       "3  Àlàyé bí ?y? Super Falcons gbé kìnnìún Cameroo...   \n",
       "4  Ìgbà méjìlá tí Super Falcons kojú South Africa...   \n",
       "\n",
       "                                  Cleaned_yorubaNews  \\\n",
       "0  ?m? ??d?? ni wó?n gbé mi l? ?e ní London, w??n...   \n",
       "1  ?é Nigeria yóò fìyà j? Morocco bí ti àtè?yìnwá...   \n",
       "2  Àj? b????lù Sierra Leone yóò wádìí Àràmà?dà ìf...   \n",
       "3  Àlàyé bí ?y? Super Falcons gbé kìnnìún Cameroo...   \n",
       "4  Ìgbà méjìlá tí Super Falcons kojú South Africa...   \n",
       "\n",
       "                                        Token_yoruba  \\\n",
       "0  [, m, d, ni, wó, n, gbé, mi, l, e, ní, london,...   \n",
       "1  [, é, nigeria, yóò, fìyà, j, morocco, bí, ti, ...   \n",
       "2  [àj, b, lù, sierra, leone, yóò, wádìí, àràmà, ...   \n",
       "3  [àlàyé, bí, y, super, falcons, gbé, kìnnìún, c...   \n",
       "4  [ìgbà, méjìlá, tí, super, falcons, kojú, south...   \n",
       "\n",
       "                                         Stop_yoruba  \n",
       "0  [, ni, wó, n, gbé, mi, l, e, ní, london, w, n,...  \n",
       "1  [, é, nigeria, yóò, fìyà, j, morocco, bí, ti, ...  \n",
       "2  [àj, b, lù, sierra, leone, yóò, wádìí, àràmà, ...  \n",
       "3  [àlàyé, bí, super, falcons, gbé, kìnnìún, came...  \n",
       "4  [ìgbà, méjìlá, tí, super, falcons, kojú, south...  "
      ]
     },
     "execution_count": 48,
     "metadata": {},
     "output_type": "execute_result"
    }
   ],
   "source": [
    "yoruba['Stop_yoruba'] = yoruba['Token_yoruba'].apply(lambda x: remove_stopwords(x))\n",
    "yoruba.head()"
   ]
  },
  {
   "cell_type": "markdown",
   "metadata": {},
   "source": [
    "# Lemmatization"
   ]
  },
  {
   "cell_type": "code",
   "execution_count": 49,
   "metadata": {},
   "outputs": [],
   "source": [
    "wn=nltk.WordNetLemmatizer()"
   ]
  },
  {
   "cell_type": "code",
   "execution_count": 50,
   "metadata": {},
   "outputs": [],
   "source": [
    "def lemmatize(stopword_tweets):\n",
    "    text = [wn.lemmatize(word) for word in stopword_tweets]\n",
    "    return text"
   ]
  },
  {
   "cell_type": "code",
   "execution_count": 51,
   "metadata": {},
   "outputs": [
    {
     "data": {
      "text/html": [
       "<div>\n",
       "<style scoped>\n",
       "    .dataframe tbody tr th:only-of-type {\n",
       "        vertical-align: middle;\n",
       "    }\n",
       "\n",
       "    .dataframe tbody tr th {\n",
       "        vertical-align: top;\n",
       "    }\n",
       "\n",
       "    .dataframe thead th {\n",
       "        text-align: right;\n",
       "    }\n",
       "</style>\n",
       "<table border=\"1\" class=\"dataframe\">\n",
       "  <thead>\n",
       "    <tr style=\"text-align: right;\">\n",
       "      <th></th>\n",
       "      <th>yorubaNews</th>\n",
       "      <th>Cleaned_yorubaNews</th>\n",
       "      <th>Token_yoruba</th>\n",
       "      <th>Stop_yoruba</th>\n",
       "      <th>lemmatized_yoruba</th>\n",
       "    </tr>\n",
       "  </thead>\n",
       "  <tbody>\n",
       "    <tr>\n",
       "      <td>0</td>\n",
       "      <td>?m? ??d?? ni wó?n gbé mi l? ?e ní London, w??n...</td>\n",
       "      <td>?m? ??d?? ni wó?n gbé mi l? ?e ní London, w??n...</td>\n",
       "      <td>[, m, d, ni, wó, n, gbé, mi, l, e, ní, london,...</td>\n",
       "      <td>[, ni, wó, n, gbé, mi, l, e, ní, london, w, n,...</td>\n",
       "      <td>[, ni, wó, n, gbé, mi, l, e, ní, london, w, n,...</td>\n",
       "    </tr>\n",
       "    <tr>\n",
       "      <td>1</td>\n",
       "      <td>?é Nigeria yóò fìyà j? Morocco bí ti àtè?yìnwá...</td>\n",
       "      <td>?é Nigeria yóò fìyà j? Morocco bí ti àtè?yìnwá...</td>\n",
       "      <td>[, é, nigeria, yóò, fìyà, j, morocco, bí, ti, ...</td>\n",
       "      <td>[, é, nigeria, yóò, fìyà, j, morocco, bí, ti, ...</td>\n",
       "      <td>[, é, nigeria, yóò, fìyà, j, morocco, bí, ti, ...</td>\n",
       "    </tr>\n",
       "    <tr>\n",
       "      <td>2</td>\n",
       "      <td>Àj? b????lù Sierra Leone yóò wádìí Àràmà?dà ìf...</td>\n",
       "      <td>Àj? b????lù Sierra Leone yóò wádìí Àràmà?dà ìf...</td>\n",
       "      <td>[àj, b, lù, sierra, leone, yóò, wádìí, àràmà, ...</td>\n",
       "      <td>[àj, b, lù, sierra, leone, yóò, wádìí, àràmà, ...</td>\n",
       "      <td>[àj, b, lù, sierra, leone, yóò, wádìí, àràmà, ...</td>\n",
       "    </tr>\n",
       "    <tr>\n",
       "      <td>3</td>\n",
       "      <td>Àlàyé bí ?y? Super Falcons gbé kìnnìún Cameroo...</td>\n",
       "      <td>Àlàyé bí ?y? Super Falcons gbé kìnnìún Cameroo...</td>\n",
       "      <td>[àlàyé, bí, y, super, falcons, gbé, kìnnìún, c...</td>\n",
       "      <td>[àlàyé, bí, super, falcons, gbé, kìnnìún, came...</td>\n",
       "      <td>[àlàyé, bí, super, falcon, gbé, kìnnìún, camer...</td>\n",
       "    </tr>\n",
       "    <tr>\n",
       "      <td>4</td>\n",
       "      <td>Ìgbà méjìlá tí Super Falcons kojú South Africa...</td>\n",
       "      <td>Ìgbà méjìlá tí Super Falcons kojú South Africa...</td>\n",
       "      <td>[ìgbà, méjìlá, tí, super, falcons, kojú, south...</td>\n",
       "      <td>[ìgbà, méjìlá, tí, super, falcons, kojú, south...</td>\n",
       "      <td>[ìgbà, méjìlá, tí, super, falcon, kojú, south,...</td>\n",
       "    </tr>\n",
       "  </tbody>\n",
       "</table>\n",
       "</div>"
      ],
      "text/plain": [
       "                                          yorubaNews  \\\n",
       "0  ?m? ??d?? ni wó?n gbé mi l? ?e ní London, w??n...   \n",
       "1  ?é Nigeria yóò fìyà j? Morocco bí ti àtè?yìnwá...   \n",
       "2  Àj? b????lù Sierra Leone yóò wádìí Àràmà?dà ìf...   \n",
       "3  Àlàyé bí ?y? Super Falcons gbé kìnnìún Cameroo...   \n",
       "4  Ìgbà méjìlá tí Super Falcons kojú South Africa...   \n",
       "\n",
       "                                  Cleaned_yorubaNews  \\\n",
       "0  ?m? ??d?? ni wó?n gbé mi l? ?e ní London, w??n...   \n",
       "1  ?é Nigeria yóò fìyà j? Morocco bí ti àtè?yìnwá...   \n",
       "2  Àj? b????lù Sierra Leone yóò wádìí Àràmà?dà ìf...   \n",
       "3  Àlàyé bí ?y? Super Falcons gbé kìnnìún Cameroo...   \n",
       "4  Ìgbà méjìlá tí Super Falcons kojú South Africa...   \n",
       "\n",
       "                                        Token_yoruba  \\\n",
       "0  [, m, d, ni, wó, n, gbé, mi, l, e, ní, london,...   \n",
       "1  [, é, nigeria, yóò, fìyà, j, morocco, bí, ti, ...   \n",
       "2  [àj, b, lù, sierra, leone, yóò, wádìí, àràmà, ...   \n",
       "3  [àlàyé, bí, y, super, falcons, gbé, kìnnìún, c...   \n",
       "4  [ìgbà, méjìlá, tí, super, falcons, kojú, south...   \n",
       "\n",
       "                                         Stop_yoruba  \\\n",
       "0  [, ni, wó, n, gbé, mi, l, e, ní, london, w, n,...   \n",
       "1  [, é, nigeria, yóò, fìyà, j, morocco, bí, ti, ...   \n",
       "2  [àj, b, lù, sierra, leone, yóò, wádìí, àràmà, ...   \n",
       "3  [àlàyé, bí, super, falcons, gbé, kìnnìún, came...   \n",
       "4  [ìgbà, méjìlá, tí, super, falcons, kojú, south...   \n",
       "\n",
       "                                   lemmatized_yoruba  \n",
       "0  [, ni, wó, n, gbé, mi, l, e, ní, london, w, n,...  \n",
       "1  [, é, nigeria, yóò, fìyà, j, morocco, bí, ti, ...  \n",
       "2  [àj, b, lù, sierra, leone, yóò, wádìí, àràmà, ...  \n",
       "3  [àlàyé, bí, super, falcon, gbé, kìnnìún, camer...  \n",
       "4  [ìgbà, méjìlá, tí, super, falcon, kojú, south,...  "
      ]
     },
     "execution_count": 51,
     "metadata": {},
     "output_type": "execute_result"
    }
   ],
   "source": [
    "yoruba['lemmatized_yoruba'] = yoruba['Stop_yoruba'].apply(lambda x: lemmatize(x))\n",
    "yoruba.head()"
   ]
  },
  {
   "cell_type": "code",
   "execution_count": 52,
   "metadata": {},
   "outputs": [
    {
     "name": "stdout",
     "output_type": "stream",
     "text": [
      "Collecting gensim\n",
      "Note: you may need to restart the kernel to use updated packages.\n"
     ]
    },
    {
     "name": "stderr",
     "output_type": "stream",
     "text": [
      "  WARNING: Retrying (Retry(total=4, connect=None, read=None, redirect=None, status=None)) after connection broken by 'NewConnectionError('<pip._vendor.urllib3.connection.VerifiedHTTPSConnection object at 0x0000017DDD37C788>: Failed to establish a new connection: [Errno 11001] getaddrinfo failed')': /simple/gensim/\n",
      "  WARNING: Retrying (Retry(total=3, connect=None, read=None, redirect=None, status=None)) after connection broken by 'NewConnectionError('<pip._vendor.urllib3.connection.VerifiedHTTPSConnection object at 0x0000017DDD3A3D88>: Failed to establish a new connection: [Errno 11001] getaddrinfo failed')': /simple/gensim/\n",
      "  WARNING: Retrying (Retry(total=2, connect=None, read=None, redirect=None, status=None)) after connection broken by 'NewConnectionError('<pip._vendor.urllib3.connection.VerifiedHTTPSConnection object at 0x0000017DDD3ABCC8>: Failed to establish a new connection: [Errno 11001] getaddrinfo failed')': /simple/gensim/\n",
      "  WARNING: Retrying (Retry(total=1, connect=None, read=None, redirect=None, status=None)) after connection broken by 'NewConnectionError('<pip._vendor.urllib3.connection.VerifiedHTTPSConnection object at 0x0000017DDD3AB3C8>: Failed to establish a new connection: [Errno 11001] getaddrinfo failed')': /simple/gensim/\n",
      "  WARNING: Retrying (Retry(total=0, connect=None, read=None, redirect=None, status=None)) after connection broken by 'NewConnectionError('<pip._vendor.urllib3.connection.VerifiedHTTPSConnection object at 0x0000017DDD3AB888>: Failed to establish a new connection: [Errno 11001] getaddrinfo failed')': /simple/gensim/\n",
      "  ERROR: Could not find a version that satisfies the requirement gensim (from versions: none)\n",
      "ERROR: No matching distribution found for gensim\n"
     ]
    }
   ],
   "source": [
    "pip install gensim"
   ]
  },
  {
   "cell_type": "code",
   "execution_count": 53,
   "metadata": {},
   "outputs": [
    {
     "ename": "ModuleNotFoundError",
     "evalue": "No module named 'gensim'",
     "output_type": "error",
     "traceback": [
      "\u001b[1;31m---------------------------------------------------------------------------\u001b[0m",
      "\u001b[1;31mModuleNotFoundError\u001b[0m                       Traceback (most recent call last)",
      "\u001b[1;32m<ipython-input-53-91226bfc434d>\u001b[0m in \u001b[0;36m<module>\u001b[1;34m\u001b[0m\n\u001b[0;32m      1\u001b[0m \u001b[1;32mfrom\u001b[0m \u001b[0msklearn\u001b[0m\u001b[1;33m.\u001b[0m\u001b[0mfeature_extraction\u001b[0m\u001b[1;33m.\u001b[0m\u001b[0mtext\u001b[0m \u001b[1;32mimport\u001b[0m \u001b[0mTfidfVectorizer\u001b[0m\u001b[1;33m,\u001b[0m \u001b[0mCountVectorizer\u001b[0m\u001b[1;33m\u001b[0m\u001b[1;33m\u001b[0m\u001b[0m\n\u001b[1;32m----> 2\u001b[1;33m \u001b[1;32mimport\u001b[0m \u001b[0mgensim\u001b[0m\u001b[1;33m\u001b[0m\u001b[1;33m\u001b[0m\u001b[0m\n\u001b[0m",
      "\u001b[1;31mModuleNotFoundError\u001b[0m: No module named 'gensim'"
     ]
    }
   ],
   "source": [
    "from sklearn.feature_extraction.text import TfidfVectorizer, CountVectorizer\n",
    "import gensim"
   ]
  },
  {
   "cell_type": "code",
   "execution_count": 54,
   "metadata": {},
   "outputs": [
    {
     "data": {
      "text/plain": [
       "(225, 100)"
      ]
     },
     "execution_count": 54,
     "metadata": {},
     "output_type": "execute_result"
    }
   ],
   "source": [
    "bow_vectorizer = CountVectorizer(max_df=0.9, min_df=2, max_features=100, stop_words='english')\n",
    "bow = bow_vectorizer.fit_transform(yoruba['yorubaNews'])\n",
    "bow.shape"
   ]
  },
  {
   "cell_type": "code",
   "execution_count": 55,
   "metadata": {},
   "outputs": [],
   "source": [
    "from sklearn.model_selection import train_test_split\n",
    "x_train,x_test,y_train,y_test = train_test_split(bow, yoruba['lemmatized_yoruba'], test_size=0.2, random_state=69)"
   ]
  },
  {
   "cell_type": "markdown",
   "metadata": {},
   "source": [
    "# Getting the subjectivity and Polarity of the News Data Set"
   ]
  },
  {
   "cell_type": "code",
   "execution_count": 56,
   "metadata": {},
   "outputs": [
    {
     "data": {
      "text/html": [
       "<div>\n",
       "<style scoped>\n",
       "    .dataframe tbody tr th:only-of-type {\n",
       "        vertical-align: middle;\n",
       "    }\n",
       "\n",
       "    .dataframe tbody tr th {\n",
       "        vertical-align: top;\n",
       "    }\n",
       "\n",
       "    .dataframe thead th {\n",
       "        text-align: right;\n",
       "    }\n",
       "</style>\n",
       "<table border=\"1\" class=\"dataframe\">\n",
       "  <thead>\n",
       "    <tr style=\"text-align: right;\">\n",
       "      <th></th>\n",
       "      <th>yorubaNews</th>\n",
       "      <th>Cleaned_yorubaNews</th>\n",
       "      <th>Token_yoruba</th>\n",
       "      <th>Stop_yoruba</th>\n",
       "      <th>lemmatized_yoruba</th>\n",
       "      <th>Subjectivity</th>\n",
       "      <th>Polarity</th>\n",
       "    </tr>\n",
       "  </thead>\n",
       "  <tbody>\n",
       "    <tr>\n",
       "      <td>0</td>\n",
       "      <td>?m? ??d?? ni wó?n gbé mi l? ?e ní London, w??n...</td>\n",
       "      <td>?m? ??d?? ni wó?n gbé mi l? ?e ní London, w??n...</td>\n",
       "      <td>[, m, d, ni, wó, n, gbé, mi, l, e, ní, london,...</td>\n",
       "      <td>[, ni, wó, n, gbé, mi, l, e, ní, london, w, n,...</td>\n",
       "      <td>[, ni, wó, n, gbé, mi, l, e, ní, london, w, n,...</td>\n",
       "      <td>0.000000</td>\n",
       "      <td>0.000000</td>\n",
       "    </tr>\n",
       "    <tr>\n",
       "      <td>1</td>\n",
       "      <td>?é Nigeria yóò fìyà j? Morocco bí ti àtè?yìnwá...</td>\n",
       "      <td>?é Nigeria yóò fìyà j? Morocco bí ti àtè?yìnwá...</td>\n",
       "      <td>[, é, nigeria, yóò, fìyà, j, morocco, bí, ti, ...</td>\n",
       "      <td>[, é, nigeria, yóò, fìyà, j, morocco, bí, ti, ...</td>\n",
       "      <td>[, é, nigeria, yóò, fìyà, j, morocco, bí, ti, ...</td>\n",
       "      <td>0.000000</td>\n",
       "      <td>0.000000</td>\n",
       "    </tr>\n",
       "    <tr>\n",
       "      <td>2</td>\n",
       "      <td>Àj? b????lù Sierra Leone yóò wádìí Àràmà?dà ìf...</td>\n",
       "      <td>Àj? b????lù Sierra Leone yóò wádìí Àràmà?dà ìf...</td>\n",
       "      <td>[àj, b, lù, sierra, leone, yóò, wádìí, àràmà, ...</td>\n",
       "      <td>[àj, b, lù, sierra, leone, yóò, wádìí, àràmà, ...</td>\n",
       "      <td>[àj, b, lù, sierra, leone, yóò, wádìí, àràmà, ...</td>\n",
       "      <td>0.000000</td>\n",
       "      <td>0.000000</td>\n",
       "    </tr>\n",
       "    <tr>\n",
       "      <td>3</td>\n",
       "      <td>Àlàyé bí ?y? Super Falcons gbé kìnnìún Cameroo...</td>\n",
       "      <td>Àlàyé bí ?y? Super Falcons gbé kìnnìún Cameroo...</td>\n",
       "      <td>[àlàyé, bí, y, super, falcons, gbé, kìnnìún, c...</td>\n",
       "      <td>[àlàyé, bí, super, falcons, gbé, kìnnìún, came...</td>\n",
       "      <td>[àlàyé, bí, super, falcon, gbé, kìnnìún, camer...</td>\n",
       "      <td>0.833333</td>\n",
       "      <td>0.166667</td>\n",
       "    </tr>\n",
       "    <tr>\n",
       "      <td>4</td>\n",
       "      <td>Ìgbà méjìlá tí Super Falcons kojú South Africa...</td>\n",
       "      <td>Ìgbà méjìlá tí Super Falcons kojú South Africa...</td>\n",
       "      <td>[ìgbà, méjìlá, tí, super, falcons, kojú, south...</td>\n",
       "      <td>[ìgbà, méjìlá, tí, super, falcons, kojú, south...</td>\n",
       "      <td>[ìgbà, méjìlá, tí, super, falcon, kojú, south,...</td>\n",
       "      <td>0.666667</td>\n",
       "      <td>0.333333</td>\n",
       "    </tr>\n",
       "    <tr>\n",
       "      <td>...</td>\n",
       "      <td>...</td>\n",
       "      <td>...</td>\n",
       "      <td>...</td>\n",
       "      <td>...</td>\n",
       "      <td>...</td>\n",
       "      <td>...</td>\n",
       "      <td>...</td>\n",
       "    </tr>\n",
       "    <tr>\n",
       "      <td>220</td>\n",
       "      <td>Kí ni Bode 'Thomas' ní ?e p??lú ìf?s??w?ns?? N...</td>\n",
       "      <td>Kí ni Bode 'Thomas' ní ?e p??lú ìf?s??w?ns?? N...</td>\n",
       "      <td>[kí, ni, bode, thomas, ní, e, p, lú, ìf, s, w,...</td>\n",
       "      <td>[kí, ni, bode, thomas, ní, e, p, lú, ìf, w, ns...</td>\n",
       "      <td>[kí, ni, bode, thomas, ní, e, p, lú, ìf, w, n,...</td>\n",
       "      <td>0.000000</td>\n",
       "      <td>0.000000</td>\n",
       "    </tr>\n",
       "    <tr>\n",
       "      <td>221</td>\n",
       "      <td>Amuneke fipò síl?? g??g?? bí ak??nim????gbá Ta...</td>\n",
       "      <td>Amuneke fipò síl?? g??g?? bí ak??nim????gbá Ta...</td>\n",
       "      <td>[amuneke, fipò, síl, g, g, bí, ak, nim, gbá, t...</td>\n",
       "      <td>[amuneke, fipò, síl, g, g, bí, ak, nim, gbá, t...</td>\n",
       "      <td>[amuneke, fipò, síl, g, g, bí, ak, nim, gbá, t...</td>\n",
       "      <td>0.000000</td>\n",
       "      <td>0.000000</td>\n",
       "    </tr>\n",
       "    <tr>\n",
       "      <td>222</td>\n",
       "      <td>S? às?t??l?? oríl??èdè tí yóò borí ìf?s??w?ns?...</td>\n",
       "      <td>S? às?t??l?? oríl??èdè tí yóò borí ìf?s??w?ns?...</td>\n",
       "      <td>[s, às, t, l, oríl, èdè, tí, yóò, borí, ìf, s,...</td>\n",
       "      <td>[às, l, oríl, èdè, tí, yóò, borí, ìf, w, ns, òní]</td>\n",
       "      <td>[às, l, oríl, èdè, tí, yóò, borí, ìf, w, n, òní]</td>\n",
       "      <td>0.000000</td>\n",
       "      <td>0.000000</td>\n",
       "    </tr>\n",
       "    <tr>\n",
       "      <td>223</td>\n",
       "      <td>France Vs Nigeria: Super Falcons takú síb??, à...</td>\n",
       "      <td>France Vs Nigeria: Super Falcons takú síb??, à...</td>\n",
       "      <td>[france, vs, nigeria, super, falcons, takú, sí...</td>\n",
       "      <td>[france, vs, nigeria, super, falcons, takú, sí...</td>\n",
       "      <td>[france, v, nigeria, super, falcon, takú, síb,...</td>\n",
       "      <td>0.666667</td>\n",
       "      <td>0.333333</td>\n",
       "    </tr>\n",
       "    <tr>\n",
       "      <td>224</td>\n",
       "      <td>YorubaNews</td>\n",
       "      <td>YorubaNews</td>\n",
       "      <td>[yorubanews]</td>\n",
       "      <td>[yorubanews]</td>\n",
       "      <td>[yorubanews]</td>\n",
       "      <td>0.000000</td>\n",
       "      <td>0.000000</td>\n",
       "    </tr>\n",
       "  </tbody>\n",
       "</table>\n",
       "<p>225 rows × 7 columns</p>\n",
       "</div>"
      ],
      "text/plain": [
       "                                            yorubaNews  \\\n",
       "0    ?m? ??d?? ni wó?n gbé mi l? ?e ní London, w??n...   \n",
       "1    ?é Nigeria yóò fìyà j? Morocco bí ti àtè?yìnwá...   \n",
       "2    Àj? b????lù Sierra Leone yóò wádìí Àràmà?dà ìf...   \n",
       "3    Àlàyé bí ?y? Super Falcons gbé kìnnìún Cameroo...   \n",
       "4    Ìgbà méjìlá tí Super Falcons kojú South Africa...   \n",
       "..                                                 ...   \n",
       "220  Kí ni Bode 'Thomas' ní ?e p??lú ìf?s??w?ns?? N...   \n",
       "221  Amuneke fipò síl?? g??g?? bí ak??nim????gbá Ta...   \n",
       "222  S? às?t??l?? oríl??èdè tí yóò borí ìf?s??w?ns?...   \n",
       "223  France Vs Nigeria: Super Falcons takú síb??, à...   \n",
       "224                                         YorubaNews   \n",
       "\n",
       "                                    Cleaned_yorubaNews  \\\n",
       "0    ?m? ??d?? ni wó?n gbé mi l? ?e ní London, w??n...   \n",
       "1    ?é Nigeria yóò fìyà j? Morocco bí ti àtè?yìnwá...   \n",
       "2    Àj? b????lù Sierra Leone yóò wádìí Àràmà?dà ìf...   \n",
       "3    Àlàyé bí ?y? Super Falcons gbé kìnnìún Cameroo...   \n",
       "4    Ìgbà méjìlá tí Super Falcons kojú South Africa...   \n",
       "..                                                 ...   \n",
       "220  Kí ni Bode 'Thomas' ní ?e p??lú ìf?s??w?ns?? N...   \n",
       "221  Amuneke fipò síl?? g??g?? bí ak??nim????gbá Ta...   \n",
       "222  S? às?t??l?? oríl??èdè tí yóò borí ìf?s??w?ns?...   \n",
       "223  France Vs Nigeria: Super Falcons takú síb??, à...   \n",
       "224                                         YorubaNews   \n",
       "\n",
       "                                          Token_yoruba  \\\n",
       "0    [, m, d, ni, wó, n, gbé, mi, l, e, ní, london,...   \n",
       "1    [, é, nigeria, yóò, fìyà, j, morocco, bí, ti, ...   \n",
       "2    [àj, b, lù, sierra, leone, yóò, wádìí, àràmà, ...   \n",
       "3    [àlàyé, bí, y, super, falcons, gbé, kìnnìún, c...   \n",
       "4    [ìgbà, méjìlá, tí, super, falcons, kojú, south...   \n",
       "..                                                 ...   \n",
       "220  [kí, ni, bode, thomas, ní, e, p, lú, ìf, s, w,...   \n",
       "221  [amuneke, fipò, síl, g, g, bí, ak, nim, gbá, t...   \n",
       "222  [s, às, t, l, oríl, èdè, tí, yóò, borí, ìf, s,...   \n",
       "223  [france, vs, nigeria, super, falcons, takú, sí...   \n",
       "224                                       [yorubanews]   \n",
       "\n",
       "                                           Stop_yoruba  \\\n",
       "0    [, ni, wó, n, gbé, mi, l, e, ní, london, w, n,...   \n",
       "1    [, é, nigeria, yóò, fìyà, j, morocco, bí, ti, ...   \n",
       "2    [àj, b, lù, sierra, leone, yóò, wádìí, àràmà, ...   \n",
       "3    [àlàyé, bí, super, falcons, gbé, kìnnìún, came...   \n",
       "4    [ìgbà, méjìlá, tí, super, falcons, kojú, south...   \n",
       "..                                                 ...   \n",
       "220  [kí, ni, bode, thomas, ní, e, p, lú, ìf, w, ns...   \n",
       "221  [amuneke, fipò, síl, g, g, bí, ak, nim, gbá, t...   \n",
       "222  [às, l, oríl, èdè, tí, yóò, borí, ìf, w, ns, òní]   \n",
       "223  [france, vs, nigeria, super, falcons, takú, sí...   \n",
       "224                                       [yorubanews]   \n",
       "\n",
       "                                     lemmatized_yoruba  Subjectivity  Polarity  \n",
       "0    [, ni, wó, n, gbé, mi, l, e, ní, london, w, n,...      0.000000  0.000000  \n",
       "1    [, é, nigeria, yóò, fìyà, j, morocco, bí, ti, ...      0.000000  0.000000  \n",
       "2    [àj, b, lù, sierra, leone, yóò, wádìí, àràmà, ...      0.000000  0.000000  \n",
       "3    [àlàyé, bí, super, falcon, gbé, kìnnìún, camer...      0.833333  0.166667  \n",
       "4    [ìgbà, méjìlá, tí, super, falcon, kojú, south,...      0.666667  0.333333  \n",
       "..                                                 ...           ...       ...  \n",
       "220  [kí, ni, bode, thomas, ní, e, p, lú, ìf, w, n,...      0.000000  0.000000  \n",
       "221  [amuneke, fipò, síl, g, g, bí, ak, nim, gbá, t...      0.000000  0.000000  \n",
       "222   [às, l, oríl, èdè, tí, yóò, borí, ìf, w, n, òní]      0.000000  0.000000  \n",
       "223  [france, v, nigeria, super, falcon, takú, síb,...      0.666667  0.333333  \n",
       "224                                       [yorubanews]      0.000000  0.000000  \n",
       "\n",
       "[225 rows x 7 columns]"
      ]
     },
     "execution_count": 56,
     "metadata": {},
     "output_type": "execute_result"
    }
   ],
   "source": [
    "def getsub(text):\n",
    "    return TextBlob(text).sentiment.subjectivity\n",
    "\n",
    "def getpol(text):\n",
    "    return TextBlob(text).sentiment.polarity\n",
    "\n",
    "yoruba['Subjectivity']= yoruba['yorubaNews'].apply(getsub)\n",
    "yoruba['Polarity']= yoruba['yorubaNews'].apply(getpol)\n",
    "\n",
    "\n",
    "yoruba"
   ]
  },
  {
   "cell_type": "markdown",
   "metadata": {},
   "source": [
    "# Data Visualization using WordCloud"
   ]
  },
  {
   "cell_type": "code",
   "execution_count": 57,
   "metadata": {},
   "outputs": [
    {
     "data": {
      "image/png": "[encoded data removed]",
      "text/plain": [
       "<Figure size 432x288 with 1 Axes>"
      ]
     },
     "metadata": {
      "needs_background": "light"
     },
     "output_type": "display_data"
    }
   ],
   "source": [
    "allword =''.join ( [twts for twts in yoruba['yorubaNews']])\n",
    "wordcloud = WordCloud(width=500, height=300, random_state=21, max_font_size=120).generate(allword)\n",
    "plt.imshow(wordcloud, interpolation = \"bilinear\")\n",
    "plt.axis('off')\n",
    "plt.show()"
   ]
  },
  {
   "cell_type": "markdown",
   "metadata": {},
   "source": [
    "# Calculating the negativity, positivity and neutrality of the tweets"
   ]
  },
  {
   "cell_type": "code",
   "execution_count": 58,
   "metadata": {},
   "outputs": [
    {
     "data": {
      "text/html": [
       "<div>\n",
       "<style scoped>\n",
       "    .dataframe tbody tr th:only-of-type {\n",
       "        vertical-align: middle;\n",
       "    }\n",
       "\n",
       "    .dataframe tbody tr th {\n",
       "        vertical-align: top;\n",
       "    }\n",
       "\n",
       "    .dataframe thead th {\n",
       "        text-align: right;\n",
       "    }\n",
       "</style>\n",
       "<table border=\"1\" class=\"dataframe\">\n",
       "  <thead>\n",
       "    <tr style=\"text-align: right;\">\n",
       "      <th></th>\n",
       "      <th>yorubaNews</th>\n",
       "      <th>Cleaned_yorubaNews</th>\n",
       "      <th>Token_yoruba</th>\n",
       "      <th>Stop_yoruba</th>\n",
       "      <th>lemmatized_yoruba</th>\n",
       "      <th>Subjectivity</th>\n",
       "      <th>Polarity</th>\n",
       "      <th>Sentiment</th>\n",
       "    </tr>\n",
       "  </thead>\n",
       "  <tbody>\n",
       "    <tr>\n",
       "      <td>0</td>\n",
       "      <td>?m? ??d?? ni wó?n gbé mi l? ?e ní London, w??n...</td>\n",
       "      <td>?m? ??d?? ni wó?n gbé mi l? ?e ní London, w??n...</td>\n",
       "      <td>[, m, d, ni, wó, n, gbé, mi, l, e, ní, london,...</td>\n",
       "      <td>[, ni, wó, n, gbé, mi, l, e, ní, london, w, n,...</td>\n",
       "      <td>[, ni, wó, n, gbé, mi, l, e, ní, london, w, n,...</td>\n",
       "      <td>0.000000</td>\n",
       "      <td>0.000000</td>\n",
       "      <td>Neutral</td>\n",
       "    </tr>\n",
       "    <tr>\n",
       "      <td>1</td>\n",
       "      <td>?é Nigeria yóò fìyà j? Morocco bí ti àtè?yìnwá...</td>\n",
       "      <td>?é Nigeria yóò fìyà j? Morocco bí ti àtè?yìnwá...</td>\n",
       "      <td>[, é, nigeria, yóò, fìyà, j, morocco, bí, ti, ...</td>\n",
       "      <td>[, é, nigeria, yóò, fìyà, j, morocco, bí, ti, ...</td>\n",
       "      <td>[, é, nigeria, yóò, fìyà, j, morocco, bí, ti, ...</td>\n",
       "      <td>0.000000</td>\n",
       "      <td>0.000000</td>\n",
       "      <td>Neutral</td>\n",
       "    </tr>\n",
       "    <tr>\n",
       "      <td>2</td>\n",
       "      <td>Àj? b????lù Sierra Leone yóò wádìí Àràmà?dà ìf...</td>\n",
       "      <td>Àj? b????lù Sierra Leone yóò wádìí Àràmà?dà ìf...</td>\n",
       "      <td>[àj, b, lù, sierra, leone, yóò, wádìí, àràmà, ...</td>\n",
       "      <td>[àj, b, lù, sierra, leone, yóò, wádìí, àràmà, ...</td>\n",
       "      <td>[àj, b, lù, sierra, leone, yóò, wádìí, àràmà, ...</td>\n",
       "      <td>0.000000</td>\n",
       "      <td>0.000000</td>\n",
       "      <td>Neutral</td>\n",
       "    </tr>\n",
       "    <tr>\n",
       "      <td>3</td>\n",
       "      <td>Àlàyé bí ?y? Super Falcons gbé kìnnìún Cameroo...</td>\n",
       "      <td>Àlàyé bí ?y? Super Falcons gbé kìnnìún Cameroo...</td>\n",
       "      <td>[àlàyé, bí, y, super, falcons, gbé, kìnnìún, c...</td>\n",
       "      <td>[àlàyé, bí, super, falcons, gbé, kìnnìún, came...</td>\n",
       "      <td>[àlàyé, bí, super, falcon, gbé, kìnnìún, camer...</td>\n",
       "      <td>0.833333</td>\n",
       "      <td>0.166667</td>\n",
       "      <td>Positive</td>\n",
       "    </tr>\n",
       "    <tr>\n",
       "      <td>4</td>\n",
       "      <td>Ìgbà méjìlá tí Super Falcons kojú South Africa...</td>\n",
       "      <td>Ìgbà méjìlá tí Super Falcons kojú South Africa...</td>\n",
       "      <td>[ìgbà, méjìlá, tí, super, falcons, kojú, south...</td>\n",
       "      <td>[ìgbà, méjìlá, tí, super, falcons, kojú, south...</td>\n",
       "      <td>[ìgbà, méjìlá, tí, super, falcon, kojú, south,...</td>\n",
       "      <td>0.666667</td>\n",
       "      <td>0.333333</td>\n",
       "      <td>Positive</td>\n",
       "    </tr>\n",
       "    <tr>\n",
       "      <td>...</td>\n",
       "      <td>...</td>\n",
       "      <td>...</td>\n",
       "      <td>...</td>\n",
       "      <td>...</td>\n",
       "      <td>...</td>\n",
       "      <td>...</td>\n",
       "      <td>...</td>\n",
       "      <td>...</td>\n",
       "    </tr>\n",
       "    <tr>\n",
       "      <td>220</td>\n",
       "      <td>Kí ni Bode 'Thomas' ní ?e p??lú ìf?s??w?ns?? N...</td>\n",
       "      <td>Kí ni Bode 'Thomas' ní ?e p??lú ìf?s??w?ns?? N...</td>\n",
       "      <td>[kí, ni, bode, thomas, ní, e, p, lú, ìf, s, w,...</td>\n",
       "      <td>[kí, ni, bode, thomas, ní, e, p, lú, ìf, w, ns...</td>\n",
       "      <td>[kí, ni, bode, thomas, ní, e, p, lú, ìf, w, n,...</td>\n",
       "      <td>0.000000</td>\n",
       "      <td>0.000000</td>\n",
       "      <td>Neutral</td>\n",
       "    </tr>\n",
       "    <tr>\n",
       "      <td>221</td>\n",
       "      <td>Amuneke fipò síl?? g??g?? bí ak??nim????gbá Ta...</td>\n",
       "      <td>Amuneke fipò síl?? g??g?? bí ak??nim????gbá Ta...</td>\n",
       "      <td>[amuneke, fipò, síl, g, g, bí, ak, nim, gbá, t...</td>\n",
       "      <td>[amuneke, fipò, síl, g, g, bí, ak, nim, gbá, t...</td>\n",
       "      <td>[amuneke, fipò, síl, g, g, bí, ak, nim, gbá, t...</td>\n",
       "      <td>0.000000</td>\n",
       "      <td>0.000000</td>\n",
       "      <td>Neutral</td>\n",
       "    </tr>\n",
       "    <tr>\n",
       "      <td>222</td>\n",
       "      <td>S? às?t??l?? oríl??èdè tí yóò borí ìf?s??w?ns?...</td>\n",
       "      <td>S? às?t??l?? oríl??èdè tí yóò borí ìf?s??w?ns?...</td>\n",
       "      <td>[s, às, t, l, oríl, èdè, tí, yóò, borí, ìf, s,...</td>\n",
       "      <td>[às, l, oríl, èdè, tí, yóò, borí, ìf, w, ns, òní]</td>\n",
       "      <td>[às, l, oríl, èdè, tí, yóò, borí, ìf, w, n, òní]</td>\n",
       "      <td>0.000000</td>\n",
       "      <td>0.000000</td>\n",
       "      <td>Neutral</td>\n",
       "    </tr>\n",
       "    <tr>\n",
       "      <td>223</td>\n",
       "      <td>France Vs Nigeria: Super Falcons takú síb??, à...</td>\n",
       "      <td>France Vs Nigeria: Super Falcons takú síb??, à...</td>\n",
       "      <td>[france, vs, nigeria, super, falcons, takú, sí...</td>\n",
       "      <td>[france, vs, nigeria, super, falcons, takú, sí...</td>\n",
       "      <td>[france, v, nigeria, super, falcon, takú, síb,...</td>\n",
       "      <td>0.666667</td>\n",
       "      <td>0.333333</td>\n",
       "      <td>Positive</td>\n",
       "    </tr>\n",
       "    <tr>\n",
       "      <td>224</td>\n",
       "      <td>YorubaNews</td>\n",
       "      <td>YorubaNews</td>\n",
       "      <td>[yorubanews]</td>\n",
       "      <td>[yorubanews]</td>\n",
       "      <td>[yorubanews]</td>\n",
       "      <td>0.000000</td>\n",
       "      <td>0.000000</td>\n",
       "      <td>Neutral</td>\n",
       "    </tr>\n",
       "  </tbody>\n",
       "</table>\n",
       "<p>225 rows × 8 columns</p>\n",
       "</div>"
      ],
      "text/plain": [
       "                                            yorubaNews  \\\n",
       "0    ?m? ??d?? ni wó?n gbé mi l? ?e ní London, w??n...   \n",
       "1    ?é Nigeria yóò fìyà j? Morocco bí ti àtè?yìnwá...   \n",
       "2    Àj? b????lù Sierra Leone yóò wádìí Àràmà?dà ìf...   \n",
       "3    Àlàyé bí ?y? Super Falcons gbé kìnnìún Cameroo...   \n",
       "4    Ìgbà méjìlá tí Super Falcons kojú South Africa...   \n",
       "..                                                 ...   \n",
       "220  Kí ni Bode 'Thomas' ní ?e p??lú ìf?s??w?ns?? N...   \n",
       "221  Amuneke fipò síl?? g??g?? bí ak??nim????gbá Ta...   \n",
       "222  S? às?t??l?? oríl??èdè tí yóò borí ìf?s??w?ns?...   \n",
       "223  France Vs Nigeria: Super Falcons takú síb??, à...   \n",
       "224                                         YorubaNews   \n",
       "\n",
       "                                    Cleaned_yorubaNews  \\\n",
       "0    ?m? ??d?? ni wó?n gbé mi l? ?e ní London, w??n...   \n",
       "1    ?é Nigeria yóò fìyà j? Morocco bí ti àtè?yìnwá...   \n",
       "2    Àj? b????lù Sierra Leone yóò wádìí Àràmà?dà ìf...   \n",
       "3    Àlàyé bí ?y? Super Falcons gbé kìnnìún Cameroo...   \n",
       "4    Ìgbà méjìlá tí Super Falcons kojú South Africa...   \n",
       "..                                                 ...   \n",
       "220  Kí ni Bode 'Thomas' ní ?e p??lú ìf?s??w?ns?? N...   \n",
       "221  Amuneke fipò síl?? g??g?? bí ak??nim????gbá Ta...   \n",
       "222  S? às?t??l?? oríl??èdè tí yóò borí ìf?s??w?ns?...   \n",
       "223  France Vs Nigeria: Super Falcons takú síb??, à...   \n",
       "224                                         YorubaNews   \n",
       "\n",
       "                                          Token_yoruba  \\\n",
       "0    [, m, d, ni, wó, n, gbé, mi, l, e, ní, london,...   \n",
       "1    [, é, nigeria, yóò, fìyà, j, morocco, bí, ti, ...   \n",
       "2    [àj, b, lù, sierra, leone, yóò, wádìí, àràmà, ...   \n",
       "3    [àlàyé, bí, y, super, falcons, gbé, kìnnìún, c...   \n",
       "4    [ìgbà, méjìlá, tí, super, falcons, kojú, south...   \n",
       "..                                                 ...   \n",
       "220  [kí, ni, bode, thomas, ní, e, p, lú, ìf, s, w,...   \n",
       "221  [amuneke, fipò, síl, g, g, bí, ak, nim, gbá, t...   \n",
       "222  [s, às, t, l, oríl, èdè, tí, yóò, borí, ìf, s,...   \n",
       "223  [france, vs, nigeria, super, falcons, takú, sí...   \n",
       "224                                       [yorubanews]   \n",
       "\n",
       "                                           Stop_yoruba  \\\n",
       "0    [, ni, wó, n, gbé, mi, l, e, ní, london, w, n,...   \n",
       "1    [, é, nigeria, yóò, fìyà, j, morocco, bí, ti, ...   \n",
       "2    [àj, b, lù, sierra, leone, yóò, wádìí, àràmà, ...   \n",
       "3    [àlàyé, bí, super, falcons, gbé, kìnnìún, came...   \n",
       "4    [ìgbà, méjìlá, tí, super, falcons, kojú, south...   \n",
       "..                                                 ...   \n",
       "220  [kí, ni, bode, thomas, ní, e, p, lú, ìf, w, ns...   \n",
       "221  [amuneke, fipò, síl, g, g, bí, ak, nim, gbá, t...   \n",
       "222  [às, l, oríl, èdè, tí, yóò, borí, ìf, w, ns, òní]   \n",
       "223  [france, vs, nigeria, super, falcons, takú, sí...   \n",
       "224                                       [yorubanews]   \n",
       "\n",
       "                                     lemmatized_yoruba  Subjectivity  \\\n",
       "0    [, ni, wó, n, gbé, mi, l, e, ní, london, w, n,...      0.000000   \n",
       "1    [, é, nigeria, yóò, fìyà, j, morocco, bí, ti, ...      0.000000   \n",
       "2    [àj, b, lù, sierra, leone, yóò, wádìí, àràmà, ...      0.000000   \n",
       "3    [àlàyé, bí, super, falcon, gbé, kìnnìún, camer...      0.833333   \n",
       "4    [ìgbà, méjìlá, tí, super, falcon, kojú, south,...      0.666667   \n",
       "..                                                 ...           ...   \n",
       "220  [kí, ni, bode, thomas, ní, e, p, lú, ìf, w, n,...      0.000000   \n",
       "221  [amuneke, fipò, síl, g, g, bí, ak, nim, gbá, t...      0.000000   \n",
       "222   [às, l, oríl, èdè, tí, yóò, borí, ìf, w, n, òní]      0.000000   \n",
       "223  [france, v, nigeria, super, falcon, takú, síb,...      0.666667   \n",
       "224                                       [yorubanews]      0.000000   \n",
       "\n",
       "     Polarity Sentiment  \n",
       "0    0.000000   Neutral  \n",
       "1    0.000000   Neutral  \n",
       "2    0.000000   Neutral  \n",
       "3    0.166667  Positive  \n",
       "4    0.333333  Positive  \n",
       "..        ...       ...  \n",
       "220  0.000000   Neutral  \n",
       "221  0.000000   Neutral  \n",
       "222  0.000000   Neutral  \n",
       "223  0.333333  Positive  \n",
       "224  0.000000   Neutral  \n",
       "\n",
       "[225 rows x 8 columns]"
      ]
     },
     "execution_count": 58,
     "metadata": {},
     "output_type": "execute_result"
    }
   ],
   "source": [
    "def getsentiment(score):\n",
    "    if score < 0:\n",
    "        return 'Negative'\n",
    "    elif score == 0:\n",
    "        return 'Neutral'\n",
    "    else:\n",
    "        return 'Positive'\n",
    "    \n",
    "yoruba['Sentiment'] = yoruba['Polarity'].apply(getsentiment)\n",
    "\n",
    "yoruba"
   ]
  },
  {
   "cell_type": "markdown",
   "metadata": {},
   "source": [
    "# Plotting the Subjectivity and Polarity¶"
   ]
  },
  {
   "cell_type": "code",
   "execution_count": 59,
   "metadata": {},
   "outputs": [
    {
     "data": {
      "image/png": "[encoded data removed]",
      "text/plain": [
       "<Figure size 576x432 with 1 Axes>"
      ]
     },
     "metadata": {
      "needs_background": "light"
     },
     "output_type": "display_data"
    }
   ],
   "source": [
    "plt.figure(figsize=(8,6))\n",
    "for i in range(0, yoruba.shape[0]):\n",
    "    plt.scatter(yoruba['Polarity'][i], yoruba['Subjectivity'][i], color='Black')\n",
    "    \n",
    "plt.title(\"yorubaNews Dataset Polarity Score\")\n",
    "plt.xlabel('Polarity')\n",
    "plt.ylabel('Subjectivity')\n",
    "plt.show()"
   ]
  },
  {
   "cell_type": "markdown",
   "metadata": {},
   "source": [
    "# Getting the actual percentage (%) of the sentiments"
   ]
  },
  {
   "cell_type": "code",
   "execution_count": 60,
   "metadata": {},
   "outputs": [
    {
     "data": {
      "text/plain": [
       "10.2"
      ]
     },
     "execution_count": 60,
     "metadata": {},
     "output_type": "execute_result"
    }
   ],
   "source": [
    "yoruba_Positive = yoruba[yoruba.Sentiment == 'Positive']\n",
    "yoruba_Positive = yoruba_Positive['yorubaNews']\n",
    "round(  (yoruba_Positive.shape[0] / yoruba.shape[0]) *100, 1)"
   ]
  },
  {
   "cell_type": "code",
   "execution_count": 61,
   "metadata": {},
   "outputs": [
    {
     "data": {
      "text/plain": [
       "0.4"
      ]
     },
     "execution_count": 61,
     "metadata": {},
     "output_type": "execute_result"
    }
   ],
   "source": [
    "yoruba_Negative = yoruba[yoruba.Sentiment == 'Negative']\n",
    "yoruba_Negative = yoruba_Negative['yorubaNews']\n",
    "round(  (yoruba_Negative.shape[0] / yoruba.shape[0]) *100, 1)"
   ]
  },
  {
   "cell_type": "code",
   "execution_count": 62,
   "metadata": {},
   "outputs": [
    {
     "data": {
      "text/plain": [
       "89.3"
      ]
     },
     "execution_count": 62,
     "metadata": {},
     "output_type": "execute_result"
    }
   ],
   "source": [
    "yoruba_Neutral = yoruba[yoruba.Sentiment == 'Neutral']\n",
    "yoruba_Neutral = yoruba_Neutral['yorubaNews']\n",
    "round(  (yoruba_Neutral.shape[0] / yoruba.shape[0]) *100, 1)"
   ]
  },
  {
   "cell_type": "markdown",
   "metadata": {},
   "source": [
    "# A chart to show the value count¶"
   ]
  },
  {
   "cell_type": "code",
   "execution_count": 75,
   "metadata": {},
   "outputs": [
    {
     "name": "stdout",
     "output_type": "stream",
     "text": [
      "Requirement already up-to-date: numpy in c:\\users\\user\\anaconda3\\lib\\site-packages (1.21.6)\n",
      "Note: you may need to restart the kernel to use updated packages.\n"
     ]
    }
   ],
   "source": [
    "pip install --upgrade numpy"
   ]
  },
  {
   "cell_type": "code",
   "execution_count": 78,
   "metadata": {},
   "outputs": [
    {
     "name": "stdout",
     "output_type": "stream",
     "text": [
      "Requirement already up-to-date: pandas in c:\\users\\user\\anaconda3\\lib\\site-packages (1.3.5)\n",
      "Requirement already satisfied, skipping upgrade: numpy>=1.17.3; platform_machine != \"aarch64\" and platform_machine != \"arm64\" and python_version < \"3.10\" in c:\\users\\user\\anaconda3\\lib\\site-packages (from pandas) (1.21.6)\n",
      "Requirement already satisfied, skipping upgrade: python-dateutil>=2.7.3 in c:\\users\\user\\anaconda3\\lib\\site-packages (from pandas) (2.8.0)\n",
      "Requirement already satisfied, skipping upgrade: pytz>=2017.3 in c:\\users\\user\\anaconda3\\lib\\site-packages (from pandas) (2019.3)\n",
      "Requirement already satisfied, skipping upgrade: six>=1.5 in c:\\users\\user\\anaconda3\\lib\\site-packages (from python-dateutil>=2.7.3->pandas) (1.12.0)\n",
      "Note: you may need to restart the kernel to use updated packages.\n"
     ]
    }
   ],
   "source": [
    "pip install --upgrade pandas --user"
   ]
  },
  {
   "cell_type": "code",
   "execution_count": null,
   "metadata": {},
   "outputs": [],
   "source": [
    "pip install --upgrade matplotlib --user"
   ]
  },
  {
   "cell_type": "code",
   "execution_count": null,
   "metadata": {},
   "outputs": [],
   "source": [
    "import matplotlib.pyplot as plt\n",
    "#show the value count\n",
    "yoruba['Sentiment'].value_counts()\n",
    "\n",
    "#Plot and visualize the counts\n",
    "plt.title('yorubaNews Dataset testing Sentiment Analysis')\n",
    "plt.xlabel('Sentiment')\n",
    "plt.ylabel('Counts')\n",
    "yoruba['Sentiment'].value_counts().plot(kind='bar')\n",
    "plt.show()"
   ]
  },
  {
   "cell_type": "code",
   "execution_count": 64,
   "metadata": {},
   "outputs": [
    {
     "data": {
      "text/plain": [
       "Neutral     201\n",
       "Positive     23\n",
       "Negative      1\n",
       "Name: Sentiment, dtype: int64"
      ]
     },
     "execution_count": 64,
     "metadata": {},
     "output_type": "execute_result"
    }
   ],
   "source": [
    "yoruba['Sentiment'].value_counts()"
   ]
  },
  {
   "cell_type": "code",
   "execution_count": 65,
   "metadata": {},
   "outputs": [
    {
     "data": {
      "text/plain": [
       "yorubaNews            0\n",
       "Cleaned_yorubaNews    0\n",
       "Token_yoruba          0\n",
       "Stop_yoruba           0\n",
       "lemmatized_yoruba     0\n",
       "Subjectivity          0\n",
       "Polarity              0\n",
       "Sentiment             0\n",
       "dtype: int64"
      ]
     },
     "execution_count": 65,
     "metadata": {},
     "output_type": "execute_result"
    }
   ],
   "source": [
    "yoruba.isnull().sum()"
   ]
  },
  {
   "cell_type": "code",
   "execution_count": 66,
   "metadata": {},
   "outputs": [
    {
     "data": {
      "text/plain": [
       "Akàn??? àti alákòso A???wó                                                               2\n",
       "Tottenham tas?? àg??r?? bí Tacha fara káásá ìyà l??w?? Brighton                          1\n",
       "Man U kò j?? kí Liverpool fak?y? p??lú òmì ayò kan!                                      1\n",
       "?w?? ?l??pàá t? ayédèrú Ahmed Musa tó ? lu àw?n èèyàn ní jìbìtì                          1\n",
       "Ó ?e f'??m? tó n jeérú! Man U f'a?? iyì ya m?? Man City lára p??lú àmì ayò 2-0           1\n",
       "                                                                                        ..\n",
       "Ò?ì??? ètò ìlèra yóò j??j?? lórí ikú Maradona                                            1\n",
       "Wo àw?n ??nà tí o le fi mú ara r? gbá yágí-yágí lásìkò ìgbélé yìí                        1\n",
       "Chelsea fi ogun ??yìn ja Manchester City ?áájú ìf?s??w?ns?? à?ekágbá Champions League    1\n",
       "??p?? ?gb?? agbáb????lù mójú l? s??jà, bí kátàkárà agbáb????lù ?e dópin                  1\n",
       "Wo ìdí tó fi r?rùn fún Chelsea láti bu ìf??jú lu Manchester City l????m???ta léra w?n    1\n",
       "Name: yorubaNews, Length: 224, dtype: int64"
      ]
     },
     "execution_count": 66,
     "metadata": {},
     "output_type": "execute_result"
    }
   ],
   "source": [
    "#shows the number of values for each of the type\n",
    "yoruba['yorubaNews'].value_counts()"
   ]
  },
  {
   "cell_type": "markdown",
   "metadata": {},
   "source": [
    "# Using Machine Learning Algorithm to Test for Accuracy"
   ]
  },
  {
   "cell_type": "code",
   "execution_count": 84,
   "metadata": {},
   "outputs": [
    {
     "ename": "ValueError",
     "evalue": "At least one array required as input",
     "output_type": "error",
     "traceback": [
      "\u001b[1;31m---------------------------------------------------------------------------\u001b[0m",
      "\u001b[1;31mValueError\u001b[0m                                Traceback (most recent call last)",
      "\u001b[1;32m<ipython-input-84-f5906c72fce5>\u001b[0m in \u001b[0;36m<module>\u001b[1;34m\u001b[0m\n\u001b[0;32m      1\u001b[0m \u001b[1;31m#splitting the data into train and test\u001b[0m\u001b[1;33m\u001b[0m\u001b[1;33m\u001b[0m\u001b[1;33m\u001b[0m\u001b[0m\n\u001b[0;32m      2\u001b[0m \u001b[1;32mfrom\u001b[0m \u001b[0msklearn\u001b[0m\u001b[1;33m.\u001b[0m\u001b[0mmodel_selection\u001b[0m \u001b[1;32mimport\u001b[0m \u001b[0mtrain_test_split\u001b[0m\u001b[1;33m\u001b[0m\u001b[1;33m\u001b[0m\u001b[0m\n\u001b[1;32m----> 3\u001b[1;33m \u001b[0mx_train\u001b[0m\u001b[1;33m,\u001b[0m \u001b[0mx_test\u001b[0m\u001b[1;33m,\u001b[0m \u001b[0my_train\u001b[0m\u001b[1;33m,\u001b[0m \u001b[0my_test\u001b[0m \u001b[1;33m=\u001b[0m \u001b[0mtrain_test_split\u001b[0m\u001b[1;33m(\u001b[0m\u001b[0mtest_size\u001b[0m \u001b[1;33m=\u001b[0m \u001b[1;36m0.2\u001b[0m\u001b[1;33m,\u001b[0m\u001b[0mrandom_state\u001b[0m \u001b[1;33m=\u001b[0m\u001b[1;36m2\u001b[0m\u001b[1;33m)\u001b[0m\u001b[1;33m\u001b[0m\u001b[1;33m\u001b[0m\u001b[0m\n\u001b[0m\u001b[0;32m      4\u001b[0m \u001b[0mx_train\u001b[0m\u001b[1;33m.\u001b[0m\u001b[0mshape\u001b[0m\u001b[1;33m\u001b[0m\u001b[1;33m\u001b[0m\u001b[0m\n",
      "\u001b[1;32m~\\Anaconda3\\lib\\site-packages\\sklearn\\model_selection\\_split.py\u001b[0m in \u001b[0;36mtrain_test_split\u001b[1;34m(*arrays, **options)\u001b[0m\n\u001b[0;32m   2084\u001b[0m     \u001b[0mn_arrays\u001b[0m \u001b[1;33m=\u001b[0m \u001b[0mlen\u001b[0m\u001b[1;33m(\u001b[0m\u001b[0marrays\u001b[0m\u001b[1;33m)\u001b[0m\u001b[1;33m\u001b[0m\u001b[1;33m\u001b[0m\u001b[0m\n\u001b[0;32m   2085\u001b[0m     \u001b[1;32mif\u001b[0m \u001b[0mn_arrays\u001b[0m \u001b[1;33m==\u001b[0m \u001b[1;36m0\u001b[0m\u001b[1;33m:\u001b[0m\u001b[1;33m\u001b[0m\u001b[1;33m\u001b[0m\u001b[0m\n\u001b[1;32m-> 2086\u001b[1;33m         \u001b[1;32mraise\u001b[0m \u001b[0mValueError\u001b[0m\u001b[1;33m(\u001b[0m\u001b[1;34m\"At least one array required as input\"\u001b[0m\u001b[1;33m)\u001b[0m\u001b[1;33m\u001b[0m\u001b[1;33m\u001b[0m\u001b[0m\n\u001b[0m\u001b[0;32m   2087\u001b[0m     \u001b[0mtest_size\u001b[0m \u001b[1;33m=\u001b[0m \u001b[0moptions\u001b[0m\u001b[1;33m.\u001b[0m\u001b[0mpop\u001b[0m\u001b[1;33m(\u001b[0m\u001b[1;34m'test_size'\u001b[0m\u001b[1;33m,\u001b[0m \u001b[1;32mNone\u001b[0m\u001b[1;33m)\u001b[0m\u001b[1;33m\u001b[0m\u001b[1;33m\u001b[0m\u001b[0m\n\u001b[0;32m   2088\u001b[0m     \u001b[0mtrain_size\u001b[0m \u001b[1;33m=\u001b[0m \u001b[0moptions\u001b[0m\u001b[1;33m.\u001b[0m\u001b[0mpop\u001b[0m\u001b[1;33m(\u001b[0m\u001b[1;34m'train_size'\u001b[0m\u001b[1;33m,\u001b[0m \u001b[1;32mNone\u001b[0m\u001b[1;33m)\u001b[0m\u001b[1;33m\u001b[0m\u001b[1;33m\u001b[0m\u001b[0m\n",
      "\u001b[1;31mValueError\u001b[0m: At least one array required as input"
     ]
    }
   ],
   "source": [
    "#splitting the data into train and test\n",
    "from sklearn.model_selection import train_test_split\n",
    "x_train, x_test, y_train, y_test = train_test_split(test_size = 0.2,random_state =2)\n",
    "x_train.shape"
   ]
  },
  {
   "cell_type": "code",
   "execution_count": 71,
   "metadata": {},
   "outputs": [
    {
     "name": "stderr",
     "output_type": "stream",
     "text": [
      "C:\\Users\\User\\Anaconda3\\lib\\site-packages\\sklearn\\decomposition\\online_lda.py:29: DeprecationWarning: `np.float` is a deprecated alias for the builtin `float`. To silence this warning, use `float` by itself. Doing this will not modify any behavior and is safe. If you specifically wanted the numpy scalar type, use `np.float64` here.\n",
      "Deprecated in NumPy 1.20; for more details and guidance: https://numpy.org/devdocs/release/1.20.0-notes.html#deprecations\n",
      "  EPS = np.finfo(np.float).eps\n",
      "C:\\Users\\User\\Anaconda3\\lib\\site-packages\\sklearn\\ensemble\\gradient_boosting.py:32: DeprecationWarning: `np.bool` is a deprecated alias for the builtin `bool`. To silence this warning, use `bool` by itself. Doing this will not modify any behavior and is safe. If you specifically wanted the numpy scalar type, use `np.bool_` here.\n",
      "Deprecated in NumPy 1.20; for more details and guidance: https://numpy.org/devdocs/release/1.20.0-notes.html#deprecations\n",
      "  from ._gradient_boosting import predict_stages\n",
      "C:\\Users\\User\\Anaconda3\\lib\\site-packages\\sklearn\\ensemble\\gradient_boosting.py:32: DeprecationWarning: `np.bool` is a deprecated alias for the builtin `bool`. To silence this warning, use `bool` by itself. Doing this will not modify any behavior and is safe. If you specifically wanted the numpy scalar type, use `np.bool_` here.\n",
      "Deprecated in NumPy 1.20; for more details and guidance: https://numpy.org/devdocs/release/1.20.0-notes.html#deprecations\n",
      "  from ._gradient_boosting import predict_stages\n"
     ]
    }
   ],
   "source": [
    "#importing Random Forest Classifier\n",
    "from sklearn.ensemble import RandomForestClassifier"
   ]
  },
  {
   "cell_type": "code",
   "execution_count": 73,
   "metadata": {},
   "outputs": [
    {
     "data": {
      "text/plain": [
       "RandomForestClassifier(bootstrap=True, class_weight=None, criterion='gini',\n",
       "                       max_depth=None, max_features='auto', max_leaf_nodes=None,\n",
       "                       min_impurity_decrease=0.0, min_impurity_split=None,\n",
       "                       min_samples_leaf=1, min_samples_split=2,\n",
       "                       min_weight_fraction_leaf=0.0, n_estimators='warn',\n",
       "                       n_jobs=None, oob_score=False, random_state=None,\n",
       "                       verbose=0, warm_start=False)"
      ]
     },
     "execution_count": 73,
     "metadata": {},
     "output_type": "execute_result"
    }
   ],
   "source": [
    "RandomForestClassifier()"
   ]
  },
  {
   "cell_type": "code",
   "execution_count": 82,
   "metadata": {},
   "outputs": [
    {
     "ename": "NotFittedError",
     "evalue": "This RandomForestClassifier instance is not fitted yet. Call 'fit' with appropriate arguments before using this method.",
     "output_type": "error",
     "traceback": [
      "\u001b[1;31m---------------------------------------------------------------------------\u001b[0m",
      "\u001b[1;31mNotFittedError\u001b[0m                            Traceback (most recent call last)",
      "\u001b[1;32m<ipython-input-82-710a15d3a0ae>\u001b[0m in \u001b[0;36m<module>\u001b[1;34m\u001b[0m\n\u001b[0;32m      1\u001b[0m \u001b[1;31m#showing the training score\u001b[0m\u001b[1;33m\u001b[0m\u001b[1;33m\u001b[0m\u001b[1;33m\u001b[0m\u001b[0m\n\u001b[1;32m----> 2\u001b[1;33m \u001b[0mscore\u001b[0m \u001b[1;33m=\u001b[0m \u001b[0mRF\u001b[0m\u001b[1;33m.\u001b[0m\u001b[0mscore\u001b[0m\u001b[1;33m(\u001b[0m\u001b[0mx_train\u001b[0m\u001b[1;33m,\u001b[0m \u001b[0my_train\u001b[0m\u001b[1;33m)\u001b[0m\u001b[1;33m\u001b[0m\u001b[1;33m\u001b[0m\u001b[0m\n\u001b[0m\u001b[0;32m      3\u001b[0m \u001b[0mprint\u001b[0m\u001b[1;33m(\u001b[0m\u001b[1;34m\"Training Score:\"\u001b[0m \u001b[1;33m,\u001b[0m \u001b[0mscore\u001b[0m\u001b[1;33m)\u001b[0m\u001b[1;33m\u001b[0m\u001b[1;33m\u001b[0m\u001b[0m\n",
      "\u001b[1;32m~\\Anaconda3\\lib\\site-packages\\sklearn\\base.py\u001b[0m in \u001b[0;36mscore\u001b[1;34m(self, X, y, sample_weight)\u001b[0m\n\u001b[0;32m    355\u001b[0m         \"\"\"\n\u001b[0;32m    356\u001b[0m         \u001b[1;32mfrom\u001b[0m \u001b[1;33m.\u001b[0m\u001b[0mmetrics\u001b[0m \u001b[1;32mimport\u001b[0m \u001b[0maccuracy_score\u001b[0m\u001b[1;33m\u001b[0m\u001b[1;33m\u001b[0m\u001b[0m\n\u001b[1;32m--> 357\u001b[1;33m         \u001b[1;32mreturn\u001b[0m \u001b[0maccuracy_score\u001b[0m\u001b[1;33m(\u001b[0m\u001b[0my\u001b[0m\u001b[1;33m,\u001b[0m \u001b[0mself\u001b[0m\u001b[1;33m.\u001b[0m\u001b[0mpredict\u001b[0m\u001b[1;33m(\u001b[0m\u001b[0mX\u001b[0m\u001b[1;33m)\u001b[0m\u001b[1;33m,\u001b[0m \u001b[0msample_weight\u001b[0m\u001b[1;33m=\u001b[0m\u001b[0msample_weight\u001b[0m\u001b[1;33m)\u001b[0m\u001b[1;33m\u001b[0m\u001b[1;33m\u001b[0m\u001b[0m\n\u001b[0m\u001b[0;32m    358\u001b[0m \u001b[1;33m\u001b[0m\u001b[0m\n\u001b[0;32m    359\u001b[0m \u001b[1;33m\u001b[0m\u001b[0m\n",
      "\u001b[1;32m~\\Anaconda3\\lib\\site-packages\\sklearn\\ensemble\\forest.py\u001b[0m in \u001b[0;36mpredict\u001b[1;34m(self, X)\u001b[0m\n\u001b[0;32m    543\u001b[0m             \u001b[0mThe\u001b[0m \u001b[0mpredicted\u001b[0m \u001b[0mclasses\u001b[0m\u001b[1;33m.\u001b[0m\u001b[1;33m\u001b[0m\u001b[1;33m\u001b[0m\u001b[0m\n\u001b[0;32m    544\u001b[0m         \"\"\"\n\u001b[1;32m--> 545\u001b[1;33m         \u001b[0mproba\u001b[0m \u001b[1;33m=\u001b[0m \u001b[0mself\u001b[0m\u001b[1;33m.\u001b[0m\u001b[0mpredict_proba\u001b[0m\u001b[1;33m(\u001b[0m\u001b[0mX\u001b[0m\u001b[1;33m)\u001b[0m\u001b[1;33m\u001b[0m\u001b[1;33m\u001b[0m\u001b[0m\n\u001b[0m\u001b[0;32m    546\u001b[0m \u001b[1;33m\u001b[0m\u001b[0m\n\u001b[0;32m    547\u001b[0m         \u001b[1;32mif\u001b[0m \u001b[0mself\u001b[0m\u001b[1;33m.\u001b[0m\u001b[0mn_outputs_\u001b[0m \u001b[1;33m==\u001b[0m \u001b[1;36m1\u001b[0m\u001b[1;33m:\u001b[0m\u001b[1;33m\u001b[0m\u001b[1;33m\u001b[0m\u001b[0m\n",
      "\u001b[1;32m~\\Anaconda3\\lib\\site-packages\\sklearn\\ensemble\\forest.py\u001b[0m in \u001b[0;36mpredict_proba\u001b[1;34m(self, X)\u001b[0m\n\u001b[0;32m    584\u001b[0m             \u001b[0mclasses\u001b[0m \u001b[0mcorresponds\u001b[0m \u001b[0mto\u001b[0m \u001b[0mthat\u001b[0m \u001b[1;32min\u001b[0m \u001b[0mthe\u001b[0m \u001b[0mattribute\u001b[0m\u001b[0;31m \u001b[0m\u001b[0;31m`\u001b[0m\u001b[0mclasses_\u001b[0m\u001b[0;31m`\u001b[0m\u001b[1;33m.\u001b[0m\u001b[1;33m\u001b[0m\u001b[1;33m\u001b[0m\u001b[0m\n\u001b[0;32m    585\u001b[0m         \"\"\"\n\u001b[1;32m--> 586\u001b[1;33m         \u001b[0mcheck_is_fitted\u001b[0m\u001b[1;33m(\u001b[0m\u001b[0mself\u001b[0m\u001b[1;33m,\u001b[0m \u001b[1;34m'estimators_'\u001b[0m\u001b[1;33m)\u001b[0m\u001b[1;33m\u001b[0m\u001b[1;33m\u001b[0m\u001b[0m\n\u001b[0m\u001b[0;32m    587\u001b[0m         \u001b[1;31m# Check data\u001b[0m\u001b[1;33m\u001b[0m\u001b[1;33m\u001b[0m\u001b[1;33m\u001b[0m\u001b[0m\n\u001b[0;32m    588\u001b[0m         \u001b[0mX\u001b[0m \u001b[1;33m=\u001b[0m \u001b[0mself\u001b[0m\u001b[1;33m.\u001b[0m\u001b[0m_validate_X_predict\u001b[0m\u001b[1;33m(\u001b[0m\u001b[0mX\u001b[0m\u001b[1;33m)\u001b[0m\u001b[1;33m\u001b[0m\u001b[1;33m\u001b[0m\u001b[0m\n",
      "\u001b[1;32m~\\Anaconda3\\lib\\site-packages\\sklearn\\utils\\validation.py\u001b[0m in \u001b[0;36mcheck_is_fitted\u001b[1;34m(estimator, attributes, msg, all_or_any)\u001b[0m\n\u001b[0;32m    912\u001b[0m \u001b[1;33m\u001b[0m\u001b[0m\n\u001b[0;32m    913\u001b[0m     \u001b[1;32mif\u001b[0m \u001b[1;32mnot\u001b[0m \u001b[0mall_or_any\u001b[0m\u001b[1;33m(\u001b[0m\u001b[1;33m[\u001b[0m\u001b[0mhasattr\u001b[0m\u001b[1;33m(\u001b[0m\u001b[0mestimator\u001b[0m\u001b[1;33m,\u001b[0m \u001b[0mattr\u001b[0m\u001b[1;33m)\u001b[0m \u001b[1;32mfor\u001b[0m \u001b[0mattr\u001b[0m \u001b[1;32min\u001b[0m \u001b[0mattributes\u001b[0m\u001b[1;33m]\u001b[0m\u001b[1;33m)\u001b[0m\u001b[1;33m:\u001b[0m\u001b[1;33m\u001b[0m\u001b[1;33m\u001b[0m\u001b[0m\n\u001b[1;32m--> 914\u001b[1;33m         \u001b[1;32mraise\u001b[0m \u001b[0mNotFittedError\u001b[0m\u001b[1;33m(\u001b[0m\u001b[0mmsg\u001b[0m \u001b[1;33m%\u001b[0m \u001b[1;33m{\u001b[0m\u001b[1;34m'name'\u001b[0m\u001b[1;33m:\u001b[0m \u001b[0mtype\u001b[0m\u001b[1;33m(\u001b[0m\u001b[0mestimator\u001b[0m\u001b[1;33m)\u001b[0m\u001b[1;33m.\u001b[0m\u001b[0m__name__\u001b[0m\u001b[1;33m}\u001b[0m\u001b[1;33m)\u001b[0m\u001b[1;33m\u001b[0m\u001b[1;33m\u001b[0m\u001b[0m\n\u001b[0m\u001b[0;32m    915\u001b[0m \u001b[1;33m\u001b[0m\u001b[0m\n\u001b[0;32m    916\u001b[0m \u001b[1;33m\u001b[0m\u001b[0m\n",
      "\u001b[1;31mNotFittedError\u001b[0m: This RandomForestClassifier instance is not fitted yet. Call 'fit' with appropriate arguments before using this method."
     ]
    }
   ],
   "source": [
    "#showing the training score\n",
    "score = RF.score(x_train, y_train)\n",
    "print(\"Training Score:\" , score)"
   ]
  },
  {
   "cell_type": "code",
   "execution_count": null,
   "metadata": {},
   "outputs": [],
   "source": []
  }
 ],
 "metadata": {
  "kernelspec": {
   "display_name": "Python 3",
   "language": "python",
   "name": "python3"
  },
  "language_info": {
   "codemirror_mode": {
    "name": "ipython",
    "version": 3
   },
   "file_extension": ".py",
   "mimetype": "text/x-python",
   "name": "python",
   "nbconvert_exporter": "python",
   "pygments_lexer": "ipython3",
   "version": "3.7.4"
  }
 },
 "nbformat": 4,
 "nbformat_minor": 5
}
