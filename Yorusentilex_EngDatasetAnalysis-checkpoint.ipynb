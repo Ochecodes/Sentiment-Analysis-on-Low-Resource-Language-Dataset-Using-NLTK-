{
 "cells": [
  {
   "cell_type": "markdown",
   "metadata": {},
   "source": [
    "# importing some neccessary libraries "
   ]
  },
  {
   "cell_type": "code",
   "execution_count": 1,
   "metadata": {
    "scrolled": false
   },
   "outputs": [],
   "source": [
    "import pandas as pd # data analysis\n",
    "import numpy as np # linear algebra\n",
    "\n",
    "#import libraries for data visualization\n",
    "import matplotlib.pyplot as plt\n",
    "%matplotlib inline\n",
    "import seaborn as sns"
   ]
  },
  {
   "cell_type": "code",
   "execution_count": 4,
   "metadata": {},
   "outputs": [
    {
     "data": {
      "text/html": [
       "<div>\n",
       "<style scoped>\n",
       "    .dataframe tbody tr th:only-of-type {\n",
       "        vertical-align: middle;\n",
       "    }\n",
       "\n",
       "    .dataframe tbody tr th {\n",
       "        vertical-align: top;\n",
       "    }\n",
       "\n",
       "    .dataframe thead th {\n",
       "        text-align: right;\n",
       "    }\n",
       "</style>\n",
       "<table border=\"1\" class=\"dataframe\">\n",
       "  <thead>\n",
       "    <tr style=\"text-align: right;\">\n",
       "      <th></th>\n",
       "      <th>Yorusentilex_EngDataset</th>\n",
       "    </tr>\n",
       "  </thead>\n",
       "  <tbody>\n",
       "    <tr>\n",
       "      <th>0</th>\n",
       "      <td>Nigeria will be punished Is Morocco the last t...</td>\n",
       "    </tr>\n",
       "    <tr>\n",
       "      <th>1</th>\n",
       "      <td>?m? ??d?? are they going to carry me? In Londo...</td>\n",
       "    </tr>\n",
       "    <tr>\n",
       "      <th>2</th>\n",
       "      <td>What? b????lú Sierra Leone will find out the m...</td>\n",
       "    </tr>\n",
       "    <tr>\n",
       "      <th>3</th>\n",
       "      <td>It is not easy to grow up in an area like Mush...</td>\n",
       "    </tr>\n",
       "    <tr>\n",
       "      <th>4</th>\n",
       "      <td>Legend like ?y? Super Falcons defeated the Cam...</td>\n",
       "    </tr>\n",
       "  </tbody>\n",
       "</table>\n",
       "</div>"
      ],
      "text/plain": [
       "                             Yorusentilex_EngDataset\n",
       "0  Nigeria will be punished Is Morocco the last t...\n",
       "1  ?m? ??d?? are they going to carry me? In Londo...\n",
       "2  What? b????lú Sierra Leone will find out the m...\n",
       "3  It is not easy to grow up in an area like Mush...\n",
       "4  Legend like ?y? Super Falcons defeated the Cam..."
      ]
     },
     "execution_count": 4,
     "metadata": {},
     "output_type": "execute_result"
    }
   ],
   "source": [
    "# Reading the Yorusentilex_EngDataset\n",
    "yorusentilexEng = pd.read_csv('Yorusentilex_EngDataset.csv',encoding='latin1')\n",
    "yorusentilexEng.head()\n"
   ]
  },
  {
   "cell_type": "markdown",
   "metadata": {},
   "source": [
    "# exploratory data analysis"
   ]
  },
  {
   "cell_type": "code",
   "execution_count": 6,
   "metadata": {},
   "outputs": [
    {
     "data": {
      "text/plain": [
       "(226, 1)"
      ]
     },
     "execution_count": 6,
     "metadata": {},
     "output_type": "execute_result"
    }
   ],
   "source": [
    "#shows the number of rows and columns respectively.\n",
    "yorusentilexEng.shape"
   ]
  },
  {
   "cell_type": "code",
   "execution_count": 9,
   "metadata": {},
   "outputs": [
    {
     "data": {
      "text/plain": [
       "There was no match in 'Moscow', the Super Eagles lost 3-1 against Sudan in the Afcon competition                            2\n",
       "Nigeria created it?t?? to get love ??y? AFCON 2021 in Cameroon- Asamoah Gyan                                                2\n",
       "what really?? right?? Venus Williams is 41 years old and has never been with a man. find?                                   2\n",
       "? look at the top athletes in 2020?                                                                                         2\n",
       "?w?? ?l??kill t? how much fake Ahmed Musa? cheat people                                                                     2\n",
       "                                                                                                                           ..\n",
       "They have been banned for five years until Aàr?? CAF, Ahmad Ahmad                                                           1\n",
       "Taribo West w? gau l??w?? ?m? Nigeria after the last?? that Trump will go to the polls? American                            1\n",
       "Diego Maradona? what? on ??j?? that stuck to him after ?j?? the birth of the old man                                        1\n",
       "There will be adequate security for those who will participate in the event. Nigeria and Sierra Leone in Benin - Obaseki    1\n",
       "France Vs Nigeria: Super Falcons persist??, am?? ??don't bother me??                                                        1\n",
       "Name: Yorusentilex_EngDataset, Length: 221, dtype: int64"
      ]
     },
     "execution_count": 9,
     "metadata": {},
     "output_type": "execute_result"
    }
   ],
   "source": [
    "#shows the number of values for each news headline in the dataset\n",
    "yorusentilexEng['Yorusentilex_EngDataset'].value_counts()"
   ]
  },
  {
   "cell_type": "code",
   "execution_count": 10,
   "metadata": {},
   "outputs": [
    {
     "name": "stdout",
     "output_type": "stream",
     "text": [
      "<class 'pandas.core.frame.DataFrame'>\n",
      "RangeIndex: 226 entries, 0 to 225\n",
      "Data columns (total 1 columns):\n",
      " #   Column                   Non-Null Count  Dtype \n",
      "---  ------                   --------------  ----- \n",
      " 0   Yorusentilex_EngDataset  226 non-null    object\n",
      "dtypes: object(1)\n",
      "memory usage: 1.9+ KB\n"
     ]
    }
   ],
   "source": [
    "yorusentilexEng.info()"
   ]
  },
  {
   "cell_type": "code",
   "execution_count": 11,
   "metadata": {},
   "outputs": [
    {
     "data": {
      "text/plain": [
       "Yorusentilex_EngDataset    0\n",
       "dtype: int64"
      ]
     },
     "execution_count": 11,
     "metadata": {},
     "output_type": "execute_result"
    }
   ],
   "source": [
    "yorusentilexEng.isnull().sum()"
   ]
  },
  {
   "cell_type": "code",
   "execution_count": 12,
   "metadata": {},
   "outputs": [
    {
     "data": {
      "text/plain": [
       "array(['Nigeria will be punished Is Morocco the last to reach WAFCON 2022?',\n",
       "       '?m? ??d?? are they going to carry me? In London, they change names. me back, what did I stop the famous? that can be in your mouth?? - I know Farah',\n",
       "       'What? b????lú Sierra Leone will find out the mystery of their reaction?? league where the strikers scored 91-1 and 95-0',\n",
       "       'It is not easy to grow up in an area like Mushin, what a pity. I became a champion???? hit Super Falcons - Rasheedat Ajibade',\n",
       "       'Legend like ?y? Super Falcons defeated the Cameroon lion in the quarter final of the WAFCON 2022 competition',\n",
       "       'Twelve times the Super Falcons faced South Africa in WAFCON, and they won?? punishment for them',\n",
       "       'Competition for women, WAFCON 2022 begins? in Morocco',\n",
       "       'The Nigerian government changed its decision?? return on earth? sports b???? what happened before??',\n",
       "       'What??? the health system will be j??j?? on the death of Maradona',\n",
       "       'They are doing for my punishment and throw me away when I know? pull your chest like a snake?? I became happy with lifting \"weight\"',\n",
       "       \"Buhari y? the end?? D'Tiger, D'Tigress left the competition b???? in the world for two years, this is what happened\",\n",
       "       'Jurgen Klopp?? compare the new contract with Liverpool until 2026',\n",
       "       'Without saying ??s?? who announced the new album, Man U is also what a disaster Arsenal with one goal',\n",
       "       'Why did they close the door?? Super Falcons in the field?? flight to Abuja?',\n",
       "       \"They have named Mane's radio? a playground in Senegal\",\n",
       "       'Who will take your love? AFCON between Mane and Salah?',\n",
       "       'Senegal and Egypt will fight for their love. World Cup Qatar 2022',\n",
       "       'See what you might not know?? about Maduka Okoye, how much in Nigeria? smell the women',\n",
       "       \"The dream?? it's easy! Ivory Coast star?? Algeria lol?? in the AFCON tournament in Cameroon\",\n",
       "       \"Nigeria's Super Eagles beat Guinea Bissau in k????? with 2-0\",\n",
       "       'what really?? right?? Venus Williams is 41 years old and has never been with a man. find?',\n",
       "       'Nigeria created it?t?? to get love ??y? AFCON 2021 in Cameroon- Asamoah Gyan',\n",
       "       \"There was no match in 'Moscow', the Super Eagles lost 3-1 against Sudan in the Afcon competition\",\n",
       "       'Until AFCON 2021 is over they will use VAR - CAF',\n",
       "       'Former Nigerian Super Falcons goalkeeper?? Rachael Ayegba became a leader?? b????and in the UK',\n",
       "       'A man hanged himself after losing N150,000 rent??? on t??t??',\n",
       "       'The BBC announced the winners of the ??y? sports profit in 2021',\n",
       "       'what really?? said that the city?? Teslim Thunder Balogun hit ?????but he killed the \"Goal keeper\"?',\n",
       "       \"It's gone, thief?! Manchester United? Are you a thief? how big?? as aka??nim????\",\n",
       "       'Liverpool cause?? do you like me?? Does it hurt you? Ole and Ronaldo dream?? ??t??',\n",
       "       'Bimbo Oshin ?explain ??r?? the last one r?? s? for him before he died',\n",
       "       'Buhari saved me, come to me fight ????? touch me, before b?? me?? me l??w?? - Ridwan Oyekola',\n",
       "       '\"I won the gold medal for Nigeria in Tokyo 2020 and my life got worse\"',\n",
       "       '??p??p?? This is Makinde from me, how is it? help me l??w?? did I give my money to me? Born - Ridwan-Scorpion Ab?????',\n",
       "       '??carry the river! I am ready to fight. Tyson Fury now - Anthony Joshua',\n",
       "       'Water on the playground Lekan Salami is not new, it can be anywhere - Kingdom of Oyo',\n",
       "       '?? ??? agbab????hit the night l? s??jha, like a long time ago, it ends',\n",
       "       'what is it really???? can Lionel Messi get love ??y? Champions League for PSG today in 34 years?',\n",
       "       'Look at the last Olympic table of the countries that won the medal. from the year 2000',\n",
       "       'Ah? NFF saw Oneya out in the world in 73 years',\n",
       "       \"?à?bla f??! Nigeria's hope for gold, Adekuroye misses out on Tokyo 2020\",\n",
       "       \"Kill the first, kill the second, Germany punishment for Nigeria's D'Tigers after beating Australia in the Olympics\",\n",
       "       'The sportsmen of the country?? How much Africa? take a look',\n",
       "       '?j?? The time is now for England to take love ??y? euro?',\n",
       "       'Symbol table ??y? Tokyo Olympics 2020',\n",
       "       'Israel Adesanya stands tall in UFC fight after f????? f?? Vettori in the mouth',\n",
       "       'See why it was easy for Chelsea to beat Manchester City',\n",
       "       'Chelsea lost in the FA Cup, how will the Champions League be with Man City?',\n",
       "       'Aston Villa f?? Chelsea in the mouth, am?? Tottenham stop?? they are covered by experience',\n",
       "       'The natural rain killed 25 people. ?sport',\n",
       "       'Leicester ????he suffered for Man United, Man City won the cup ??y? Premier League this season',\n",
       "       'Chelsea beat Manchester City with a win before their return. Champions League final',\n",
       "       'Arrival of lovers Man U f?w?? cup praise for Man City to win the cup ??y? Premier League',\n",
       "       'The government of Nigeria, ? play another sport? different?? sí b????lù - Dele Oladejo',\n",
       "       'Kamaru Usman put ????? confuse Jorge Masvidal to get love ??y?',\n",
       "       'See ??p?? The benefits of playing Squash for improving health and fitness. your business?',\n",
       "       \"Kingdom of God?? has ??r?? can't you see????; LOC Sports Festival in Edo the competition will not continue due to lack of marriage\",\n",
       "       'Haaland how? Mbappe is the one who burned Bayern Munich!',\n",
       "       'What??! West Brom water scandal w?? for Chelsea to pay him exactly at home',\n",
       "       'Is Nigeria safe?? punishment for Benin, he also faces the Nations Cup',\n",
       "       'Super Eagles, ? l? beat Benin Republic Nigeria is behind you - Minister',\n",
       "       'Iheanacho beat Manchester United?? out of the FA Cup',\n",
       "       'Anthony Joshua b??r?? preparing to face Tyson Fury in a fight that will make dreams come true',\n",
       "       'I said? for Azeez that if he died ????? outside without him on the battlefield, he will die - Father',\n",
       "       'The world of bread! Liverpool yesterday at Anfield, Chelsea threw a stone at them',\n",
       "       \"Man United won't beat Chelsea, right? why don't you fight us to steal money - The thief succeeds\",\n",
       "       'Arsenal hosts, Manchester City t?? are you learning?? in the Emirates',\n",
       "       \"What's up??! Mbappe pok? punishment for Messi and Barcelona at the Nou Camp\",\n",
       "       'This is how Yisa Sofoluwe, former Super Eagles striker?? He fought his illness before he died',\n",
       "       'Time again! Lampard took punishment, Tuchel brought good luck to Chelsea',\n",
       "       'Get the gold! Aubameyang and Saka will be killed by Newcastle?? ?j?? Witchcraft',\n",
       "       '? look at the top athletes in 2020?',\n",
       "       '?w?? ?l??kill t? how much fake Ahmed Musa? cheat people',\n",
       "       \"Anthony Joshua's testimony shows that the money don't you spend on sports? simply - Confused Abiodun\",\n",
       "       'Look how Joshua??? Pulev added the tenth',\n",
       "       'Tottenham? ?j?? The beloved holiday became \"Black Sunday\"?? Arsenal l??w?? with a hug',\n",
       "       \"?l??kill 200 will be ??? Diego Maradona's grave because of thieves\",\n",
       "       'First time, second time, when did Madrid actually win? j? The £150m deal they took to buy Eden Hazard?',\n",
       "       'This is how old??j?? Did you beat Diego Maradona? where is the country?? l? in the capital of Argentina',\n",
       "       \"What is important about Maradona and his relationship? r?? with ?l??s?? Diego Costa's joy\",\n",
       "       'They have been banned for five years until Aàr?? CAF, Ahmad Ahmad',\n",
       "       'Taribo West w? gau l??w?? ?m? Nigeria after the last?? that Trump will go to the polls? American',\n",
       "       'Diego Maradona? what? on ??j?? that stuck to him after ?j?? the birth of the old man',\n",
       "       'There will be adequate security for those who will participate in the event. Nigeria and Sierra Leone in Benin - Obaseki',\n",
       "       \"?147m we saw first? for arrival, we don't want no money, the arrival is over - Feminist Coalition\",\n",
       "       \"What is the additional cost of fuel, electricity and VAT? Let's invest in the DSTV tariff- ??gá MultiChoice\",\n",
       "       'And I? take a break after Fury f????? do you want to die?? I used to use m??j? praise - Deontay Wilder',\n",
       "       'Olivier Giroud scored two goals. ìf?s??w?ns?? It is the best he has played for France',\n",
       "       'Cavani leaves Man United, Arsenal angry buy Partey at £45m, Walcott returns to ?s? what??',\n",
       "       \"Don't let the world hate you! Did Tottenham take it?? my honor?? Manchester United hurt here??l?? ?? Relaxation\",\n",
       "       'Chelsea upset the roof of Stamford Bridge against Crystal Palace',\n",
       "       'In cancer??? m??ta ?m? Nigeria that created?t?? in the world, there are two Yoruba among them',\n",
       "       'Mark ??y? Scrabble Paul Sodje and ??r?? r?? died before f?? l?? pay the money for his younger brother, who was stolen by the herdsman suspect',\n",
       "       'I am ready to give ????? reduce the amount of punishment for Anthony Joshua- Efe Ajagba',\n",
       "       \"Plate l?? Messi can't stand me??, what is the face of Manchester City?? to Barcelona to pray\",\n",
       "       'Ronald Koeman became the new Barcelona captain after the Champions League disaster',\n",
       "       'The speakers are similar to the nakedness on the field against sís? game b????',\n",
       "       \"They are close to each other. Mike Tyson's fight with Roy Jones Jr. forward\",\n",
       "       'Lampard yesterday! Arsenal beat Chelsea win the FA Cup',\n",
       "       '?m? Nigeria became the most expensive country in Africa in history!',\n",
       "       \"Arsenal mom, what's the deal, don't you?? just gave my mother a gift of money\",\n",
       "       \"Real Madrid won the La Liga title, Messi in Barcelona can't sell me??\",\n",
       "       'He forced me, he beat me, he took all my money - Funke Oshonaike',\n",
       "       'The world is hard! Sheffield cause?? do you like me?? Chelsea on their way to the Champions League',\n",
       "       'Watch the Super Eagles beat Nigeria first?? against the coronavirus',\n",
       "       'Nigeria hate me?? - Oladapo Adu',\n",
       "       'West Ham water scandal? Chelsea sleeps at home, Arsenal beats Norwich',\n",
       "       'Veteran tennis player Novak Djokovic has been beaten by the coronavirus',\n",
       "       \"?m??ba 'The Buzz' Larbie, ?m? They have been together for seven years. call me Messi old????? Sour\",\n",
       "       'Chelsea upset DJ Cuppy after Arsenal got tears in his eyes??',\n",
       "       'cuppy k? Arsenal left??! ?m? Otedola burst into tears after Brighton again punished Arsenal',\n",
       "       'Do you know? thinking of going back to ?gb?? Super Eagles beat Nigeria, Odion Ighalo',\n",
       "       'I f?? before Ighalo gets a contract with Manchester United before leaving in 2021 - Solskjaer',\n",
       "       \"Anthony Joshua is the inspiration ?m? ?seven years old? affect'??? This\",\n",
       "       \"Michael Jordan: $560,000 was paid for the city's shoes? also for ????? House\",\n",
       "       \"Brazil's Ronaldo beat all the worlds, he didn't win? ? Messi and Ronaldo - Roberto Carlos\",\n",
       "       'The famous ones?? in the history of the competition b????hit',\n",
       "       'Arsenal remembers \"Invincibles,\" it\\'s been 16 years since Arsenal won the Premier League',\n",
       "       'How much do you hit? j? Messi, is he better than Ronaldo? on the field - Jurgen Klopp',\n",
       "       'what? Can Liverpool be happy now? The Premier League will begin?? return at six',\n",
       "       'The Premier League is struggling to return to the field due to the coronavirus',\n",
       "       'How do you read the famous Drogba? war stopped in Ivory Coast',\n",
       "       'Look at the ways you can take care of yourself. It is very busy during this construction period',\n",
       "       'I am now hungry for a successor after my time away - Paul Pogba',\n",
       "       'Ronaldo can not return to ?gb?? Real Madrid beat',\n",
       "       'Brazil beat Brazil last time, Ronaldinho got a free pass? get out of their time, am??...',\n",
       "       \"Guardiola's mother passed away after contracting the Coronavirus\",\n",
       "       'The robbers stole two Nigerians from Owo to Benin.',\n",
       "       'Former Manchester United striker Marouane Fellaini has contracted the coronavirus',\n",
       "       \"They've got a lot of money. Arsenal and Brighton after Mikel Arteta contracted the Corona virus\",\n",
       "       \"Ighalo d'araba! It is made of mysterious gold. l??w?? LASK for Manchester United in the Europa League\",\n",
       "       'Has the coronavirus become an epidemic?? Diseases around the world - WHO',\n",
       "       'Look at all the metal??? the health plan is now mandatory after the death of Chineme Martins- NFF',\n",
       "       \"He will f'??m? who is dying! Man U f'a?? do you like me?? Man City wins with a 2-0 lead\",\n",
       "       'Israel Adesanya has given ????? resolved Romero',\n",
       "       'Great! What do you like? s?, i??? He hurt me - Ighalo',\n",
       "       \"Kazeem promised that he would take me. It's the city of the people who killed SARS.''\",\n",
       "       \"It is against the law to be punished by the police. What's wrong with you? a?? Military - Lawyer\",\n",
       "       \"????? too ????? l?! Tyson Fury d'????? cover Deontay Wilder, will he win the WBC?? ? l??w??\",\n",
       "       \"Lampard's team beat Chelsea became a burden to look at Mourinho and Tottenham\",\n",
       "       'There is no place like home, despite the love they put before Anthony Joshua. your city??',\n",
       "       'Barmasai ?m? Kenya is the first place in the marathon in Lagos, what position did Sanwo-Olu take?',\n",
       "       'Odion Ighalo darap? me?? the end?? Manchester United, suddenly with the fans?? r??',\n",
       "       'Crab??? and the ruler of A???wó',\n",
       "       \"Love ??y? It's a long day for Serena Williams\",\n",
       "       'Without you? your pain? l??s??, ? look at me How old are you? l?? body on?i??stretch',\n",
       "       '? look like the end?? Nigerian cricket has inspired the world',\n",
       "       \"??p?? What do you think? b?? What do you mean? don't you? kill myself- ?m?t?sh?\",\n",
       "       'Will I buy Arsenal in 2021 if I can?? house??? his marriage is over - Dangote',\n",
       "       'Serena Williams won the love ??y? ok??ok?? between three years ago',\n",
       "       'Old man?? my two dead, ??p?? hurt l??w?? agbe?, the head is y? me - Adebayor',\n",
       "       'What is the policy?? help?? N100m??w?? ?m? Nigeria from ?ej?? Fraud by FIFA',\n",
       "       \"C. Ronaldo started with the gold?? It's 2020\",\n",
       "       \"Van Persie can't believe it?! Solskjaer left after Van Persie? r??walk\",\n",
       "       \"Marlian, the wife of Buhari's wedding, Fatoyinbo of us ???l?? I have a dream that I will be ashamed of in 2019\",\n",
       "       'Your head? What other people in the house are you?? Do you have a regular flight??',\n",
       "       'Chelsea is not r??w?? taken after Southampton set fire to Stamford Bridge',\n",
       "       'Am I happy to darap? me?? the end?? Arsenal - Mikel Arteta',\n",
       "       \"Kamaru Usman, ?m? Nigeria f'????? get the belt ??y? me?? Covington l??w?? in the UFC competition\",\n",
       "       'Never! Messi k?? is the best hit? in history, Ronaldinho succeeds',\n",
       "       'Okété is scared! Manchester United f?? Manchester City in the final? m??',\n",
       "       'DJ Cuppy wears râband?? for Anthony Joshua ?before his fight?? with Andy Ruiz',\n",
       "       \"I'm ready to face Andy Ruiz in Saudi tomorrow?? Saturday - Anthony Joshua\",\n",
       "       'Manchester United defeated Mourinho and Tottenham at Old Trafford',\n",
       "       \"Messi took the sign ??y? Ballon D'or really????, am?? Ronaldo is the best? (GOAT)- Mendes\",\n",
       "       'Chelsea and vlencia shared the victory in the home of Valencia',\n",
       "       'Unai Emery will do it?! Lovers?? Arsenal asked Emery to sign a transfer??',\n",
       "       'Manchester City completed ?r? beat Chelsea',\n",
       "       'Jose Mourinho fak? y? with how Tottenham beat West Ham!',\n",
       "       \"Messi?? to say for Brazil's soul to be silent - Thiago Silva\",\n",
       "       'What are the sad voices? who??m??tat?? who created?t?? get??d?? in?',\n",
       "       \"People? Nigeria's mouth ??t?? beat NTA on the loudspeaker??f?? competition b????\",\n",
       "       'Topic: Lai Mohammed responds to ?r? Obasanjo, State President Ogun declared a holiday on June 12',\n",
       "       \"Mourinho is ready to accept??? Arsenal, when he comes back??'\",\n",
       "       'Are you a thief??! Manchester United also wants to punish Chelsea again',\n",
       "       'I have watched their reaction from a standing position. Nigeria and Hungary finished - Ministry',\n",
       "       'The dream?? I will leave a leaf! Chelsea f?? Ajax is upset like ab??b?? at their home',\n",
       "       'And Arsenal is still there? baby after ten years - Patrice Evra',\n",
       "       'Man U kò j?? kí Liverpool fak?y? p??lú òmì ayò kan!',\n",
       "       'Ab????? to the head!',\n",
       "       \"The next day will take my breath away...??the Super Eagles' match with Brazil is likely to be in Singapore\",\n",
       "       'Ha ha! Thief of honey! Newcastle beat Manchester United?? Graduate',\n",
       "       'Tottenham Hotspur?? ag??r?? if Tacha suffered even more pain l??w?? Brighton',\n",
       "       'Israel Adesanya put ????? take ??j?? out holding Whittaker to score the ??y? UFC',\n",
       "       'He became the third player who has been lost during the season. two - NFF',\n",
       "       \"Manchester United can't beat AZ Alkmaar\",\n",
       "       'Behavior with??l?? and i??? It took me hard to win - Pryce',\n",
       "       'Are you fighting? two ever?? today at the Old Trafford stadium',\n",
       "       '??you are the head of the house, ? they ran after me?!- Oshonaike',\n",
       "       'Messi beat Ronaldo, Van Dijk?? reach the glory of the crown???? in the world',\n",
       "       'Come on! Arsenal beat Aston Villa',\n",
       "       'Liverpool is Chelsea match at Stamford bridge',\n",
       "       \"? don't look at it, ??b? Manchester United has also suffered for the same reason\",\n",
       "       '? look at me??? The last eleven years the best of the best?? most?',\n",
       "       'Alas, the Super Eagles striker forgot their equipment - good luck',\n",
       "       'Bianca lost to Serena Williams in the American tournament',\n",
       "       'The Nigerian heroes returned home with their marks. 121 from Morocco',\n",
       "       'Two rival fights in London, Arsenal and Tottenham shook',\n",
       "       '?bring the Nigerian national football player to ?bu? gold il? Africa',\n",
       "       'Van Dijk won UEFA?? Messi and Ronaldo??',\n",
       "       \"Liverpool beat Arsenal w??l??w??l?? as ?ran asun 'lojb?' Anfield\",\n",
       "       '?w?? the thief! Crystal Palace beat Manchester United at Old Trafford',\n",
       "       'Death is painful! Former Super Falcons player, Chiejine died today at 36 years old',\n",
       "       \"Buhari praised D'Tigress after they beat Senegal to win the AfroBasketWomen cup\",\n",
       "       'Lampard? wow! Chelsea lost again Liverpool',\n",
       "       'Manchester United burned Chelsea like a lamb',\n",
       "       \"Samuel Okwaraji: It's been a year since today the hero of the world fought together\",\n",
       "       \"What? Hasn't Arsenal beaten Newcastle now?\",\n",
       "       '??p?? lover?? game b????hit??t?? hit like Iwobi and Lukaku?',\n",
       "       'Jesus scored a goal to win the Community Shield for Man City',\n",
       "       \"I'm ready to get back on the field - Enyeama\",\n",
       "       'Transfer Window: Pogba, Maguire, Bale, Neyman, how are things? l??',\n",
       "       'Ab?????',\n",
       "       'K??l??k??l?? Algeria is the lion of Senegal? l?? The second one won the AFCON cup',\n",
       "       'This is enough for me! Mikel announced his retirement for Nigeria',\n",
       "       \"?y? j'?y? l?! Super Eagles?? cover Carthage Eagles Tunisia m?? 'l??\",\n",
       "       'Mahrez beat the Super Eagles?? on the cool pasture',\n",
       "       \"What does Bode 'Thomas' have to say about their relationship?? Nigeria and South Africa?\",\n",
       "       'Amuneke replaced?? g??g?? like ak??nim????hit Tanzania',\n",
       "       'S? behind?? the country that will overcome their influence?? Today',\n",
       "       \"France Vs Nigeria: Super Falcons persist??, am?? ??don't bother me??\"],\n",
       "      dtype=object)"
      ]
     },
     "execution_count": 12,
     "metadata": {},
     "output_type": "execute_result"
    }
   ],
   "source": [
    "#shows the diferent newsheadlines in english for prediction in our data set\n",
    "yorusentilexEng['Yorusentilex_EngDataset'].unique()"
   ]
  },
  {
   "cell_type": "code",
   "execution_count": 13,
   "metadata": {},
   "outputs": [
    {
     "data": {
      "text/plain": [
       "Index(['Yorusentilex_EngDataset'], dtype='object')"
      ]
     },
     "execution_count": 13,
     "metadata": {},
     "output_type": "execute_result"
    }
   ],
   "source": [
    "#Shows all the features of columns in the dataset\n",
    "yorusentilexEng.columns"
   ]
  },
  {
   "cell_type": "code",
   "execution_count": 14,
   "metadata": {},
   "outputs": [
    {
     "data": {
      "text/html": [
       "<div>\n",
       "<style scoped>\n",
       "    .dataframe tbody tr th:only-of-type {\n",
       "        vertical-align: middle;\n",
       "    }\n",
       "\n",
       "    .dataframe tbody tr th {\n",
       "        vertical-align: top;\n",
       "    }\n",
       "\n",
       "    .dataframe thead th {\n",
       "        text-align: right;\n",
       "    }\n",
       "</style>\n",
       "<table border=\"1\" class=\"dataframe\">\n",
       "  <thead>\n",
       "    <tr style=\"text-align: right;\">\n",
       "      <th></th>\n",
       "      <th>Yorusentilex_EngDataset</th>\n",
       "    </tr>\n",
       "  </thead>\n",
       "  <tbody>\n",
       "    <tr>\n",
       "      <th>count</th>\n",
       "      <td>226</td>\n",
       "    </tr>\n",
       "    <tr>\n",
       "      <th>unique</th>\n",
       "      <td>221</td>\n",
       "    </tr>\n",
       "    <tr>\n",
       "      <th>top</th>\n",
       "      <td>There was no match in 'Moscow', the Super Eagl...</td>\n",
       "    </tr>\n",
       "    <tr>\n",
       "      <th>freq</th>\n",
       "      <td>2</td>\n",
       "    </tr>\n",
       "  </tbody>\n",
       "</table>\n",
       "</div>"
      ],
      "text/plain": [
       "                                  Yorusentilex_EngDataset\n",
       "count                                                 226\n",
       "unique                                                221\n",
       "top     There was no match in 'Moscow', the Super Eagl...\n",
       "freq                                                    2"
      ]
     },
     "execution_count": 14,
     "metadata": {},
     "output_type": "execute_result"
    }
   ],
   "source": [
    "#shows the generated descriptive statistics that summarize the central tendency, dispersion and shape of the dataset's distribution\n",
    "yorusentilexEng.describe()"
   ]
  },
  {
   "cell_type": "markdown",
   "metadata": {},
   "source": [
    "# Importing Libraries for Data Cleaning "
   ]
  },
  {
   "cell_type": "code",
   "execution_count": 15,
   "metadata": {},
   "outputs": [
    {
     "name": "stdout",
     "output_type": "stream",
     "text": [
      "Requirement already satisfied: clean-text in c:\\users\\nk diana\\anaconda3\\lib\\site-packages (0.6.0)Note: you may need to restart the kernel to use updated packages.\n",
      "\n",
      "Requirement already satisfied: emoji<2.0.0,>=1.0.0 in c:\\users\\nk diana\\anaconda3\\lib\\site-packages (from clean-text) (1.7.0)\n",
      "Requirement already satisfied: ftfy<7.0,>=6.0 in c:\\users\\nk diana\\anaconda3\\lib\\site-packages (from clean-text) (6.1.1)\n",
      "Requirement already satisfied: wcwidth>=0.2.5 in c:\\users\\nk diana\\anaconda3\\lib\\site-packages (from ftfy<7.0,>=6.0->clean-text) (0.2.5)\n"
     ]
    }
   ],
   "source": [
    "pip install clean-text"
   ]
  },
  {
   "cell_type": "code",
   "execution_count": 16,
   "metadata": {},
   "outputs": [
    {
     "name": "stdout",
     "output_type": "stream",
     "text": [
      "Requirement already satisfied: wordcloud in c:\\users\\nk diana\\anaconda3\\lib\\site-packages (1.8.2.2)\n",
      "Requirement already satisfied: numpy>=1.6.1 in c:\\users\\nk diana\\anaconda3\\lib\\site-packages (from wordcloud) (1.20.3)\n",
      "Requirement already satisfied: matplotlib in c:\\users\\nk diana\\anaconda3\\lib\\site-packages (from wordcloud) (3.4.3)\n",
      "Requirement already satisfied: pillow in c:\\users\\nk diana\\anaconda3\\lib\\site-packages (from wordcloud) (8.4.0)\n",
      "Requirement already satisfied: pyparsing>=2.2.1 in c:\\users\\nk diana\\anaconda3\\lib\\site-packages (from matplotlib->wordcloud) (3.0.4)\n",
      "Requirement already satisfied: kiwisolver>=1.0.1 in c:\\users\\nk diana\\anaconda3\\lib\\site-packages (from matplotlib->wordcloud) (1.3.1)\n",
      "Requirement already satisfied: cycler>=0.10 in c:\\users\\nk diana\\anaconda3\\lib\\site-packages (from matplotlib->wordcloud) (0.10.0)\n",
      "Requirement already satisfied: python-dateutil>=2.7 in c:\\users\\nk diana\\anaconda3\\lib\\site-packages (from matplotlib->wordcloud) (2.8.2)\n",
      "Requirement already satisfied: six in c:\\users\\nk diana\\anaconda3\\lib\\site-packages (from cycler>=0.10->matplotlib->wordcloud) (1.16.0)\n",
      "Note: you may need to restart the kernel to use updated packages.\n"
     ]
    }
   ],
   "source": [
    "pip install wordcloud"
   ]
  },
  {
   "cell_type": "code",
   "execution_count": 18,
   "metadata": {},
   "outputs": [],
   "source": [
    "from textblob import TextBlob\n",
    "from wordcloud import WordCloud\n",
    "import re"
   ]
  },
  {
   "cell_type": "code",
   "execution_count": 20,
   "metadata": {},
   "outputs": [
    {
     "name": "stderr",
     "output_type": "stream",
     "text": [
      "[nltk_data] Downloading package stopwords to C:\\Users\\Nk\n",
      "[nltk_data]     Diana\\AppData\\Roaming\\nltk_data...\n",
      "[nltk_data]   Package stopwords is already up-to-date!\n",
      "[nltk_data] Downloading package wordnet to C:\\Users\\Nk\n",
      "[nltk_data]     Diana\\AppData\\Roaming\\nltk_data...\n",
      "[nltk_data]   Package wordnet is already up-to-date!\n"
     ]
    }
   ],
   "source": [
    "#fot text manipulation\n",
    "import nltk\n",
    "from nltk.corpus import stopwords\n",
    "nltk.download(\"stopwords\")\n",
    "wn = nltk.download(\"wordnet\")"
   ]
  },
  {
   "cell_type": "markdown",
   "metadata": {},
   "source": [
    "# Data Cleaning "
   ]
  },
  {
   "cell_type": "code",
   "execution_count": 21,
   "metadata": {},
   "outputs": [],
   "source": [
    "#removing unwanted symbols\n",
    "def cleanData(text):\n",
    "    text=re.sub(r'@[A-Za-z0-9]+', '', text)  #removing @mention\n",
    "    text=re.sub(r'#-_', '', text) #Removing the '#' symbols\n",
    "    text=re.sub(r'RT[\\s]+', '', text)#Removing RT\n",
    "    text=re.sub(r'https?:\\/\\/\\S+-_', '',text) #Removing hyper links\n",
    "    text =re.sub('[!@#$?]','',text)          # replace given characters from string\n",
    "    text = re.sub('\\w*\\d\\w*','' ,text)      # remove words containing numbers\n",
    "    \n",
    "    return text"
   ]
  },
  {
   "cell_type": "code",
   "execution_count": 22,
   "metadata": {},
   "outputs": [
    {
     "data": {
      "text/html": [
       "<div>\n",
       "<style scoped>\n",
       "    .dataframe tbody tr th:only-of-type {\n",
       "        vertical-align: middle;\n",
       "    }\n",
       "\n",
       "    .dataframe tbody tr th {\n",
       "        vertical-align: top;\n",
       "    }\n",
       "\n",
       "    .dataframe thead th {\n",
       "        text-align: right;\n",
       "    }\n",
       "</style>\n",
       "<table border=\"1\" class=\"dataframe\">\n",
       "  <thead>\n",
       "    <tr style=\"text-align: right;\">\n",
       "      <th></th>\n",
       "      <th>Yorusentilex_EngDataset</th>\n",
       "      <th>Cleaned_EngNewsHeadline</th>\n",
       "    </tr>\n",
       "  </thead>\n",
       "  <tbody>\n",
       "    <tr>\n",
       "      <th>0</th>\n",
       "      <td>Nigeria will be punished Is Morocco the last t...</td>\n",
       "      <td>Nigeria will be punished Is Morocco the last t...</td>\n",
       "    </tr>\n",
       "    <tr>\n",
       "      <th>1</th>\n",
       "      <td>?m? ??d?? are they going to carry me? In Londo...</td>\n",
       "      <td>m d are they going to carry me In London, they...</td>\n",
       "    </tr>\n",
       "    <tr>\n",
       "      <th>2</th>\n",
       "      <td>What? b????lú Sierra Leone will find out the m...</td>\n",
       "      <td>What blú Sierra Leone will find out the myster...</td>\n",
       "    </tr>\n",
       "    <tr>\n",
       "      <th>3</th>\n",
       "      <td>It is not easy to grow up in an area like Mush...</td>\n",
       "      <td>It is not easy to grow up in an area like Mush...</td>\n",
       "    </tr>\n",
       "    <tr>\n",
       "      <th>4</th>\n",
       "      <td>Legend like ?y? Super Falcons defeated the Cam...</td>\n",
       "      <td>Legend like y Super Falcons defeated the Camer...</td>\n",
       "    </tr>\n",
       "  </tbody>\n",
       "</table>\n",
       "</div>"
      ],
      "text/plain": [
       "                             Yorusentilex_EngDataset  \\\n",
       "0  Nigeria will be punished Is Morocco the last t...   \n",
       "1  ?m? ??d?? are they going to carry me? In Londo...   \n",
       "2  What? b????lú Sierra Leone will find out the m...   \n",
       "3  It is not easy to grow up in an area like Mush...   \n",
       "4  Legend like ?y? Super Falcons defeated the Cam...   \n",
       "\n",
       "                             Cleaned_EngNewsHeadline  \n",
       "0  Nigeria will be punished Is Morocco the last t...  \n",
       "1  m d are they going to carry me In London, they...  \n",
       "2  What blú Sierra Leone will find out the myster...  \n",
       "3  It is not easy to grow up in an area like Mush...  \n",
       "4  Legend like y Super Falcons defeated the Camer...  "
      ]
     },
     "execution_count": 22,
     "metadata": {},
     "output_type": "execute_result"
    }
   ],
   "source": [
    "yorusentilexEng['Cleaned_EngNewsHeadline'] = yorusentilexEng['Yorusentilex_EngDataset'].apply(cleanData)\n",
    "yorusentilexEng.head()"
   ]
  },
  {
   "cell_type": "markdown",
   "metadata": {},
   "source": [
    "# Tokenization"
   ]
  },
  {
   "cell_type": "code",
   "execution_count": 23,
   "metadata": {},
   "outputs": [],
   "source": [
    "import re\n",
    "def tokenize(text):\n",
    "    tokens=re.split('\\W+', text)\n",
    "    return tokens"
   ]
  },
  {
   "cell_type": "code",
   "execution_count": 24,
   "metadata": {},
   "outputs": [
    {
     "data": {
      "text/html": [
       "<div>\n",
       "<style scoped>\n",
       "    .dataframe tbody tr th:only-of-type {\n",
       "        vertical-align: middle;\n",
       "    }\n",
       "\n",
       "    .dataframe tbody tr th {\n",
       "        vertical-align: top;\n",
       "    }\n",
       "\n",
       "    .dataframe thead th {\n",
       "        text-align: right;\n",
       "    }\n",
       "</style>\n",
       "<table border=\"1\" class=\"dataframe\">\n",
       "  <thead>\n",
       "    <tr style=\"text-align: right;\">\n",
       "      <th></th>\n",
       "      <th>Yorusentilex_EngDataset</th>\n",
       "      <th>Cleaned_EngNewsHeadline</th>\n",
       "      <th>Token_EngNewsHeadline</th>\n",
       "    </tr>\n",
       "  </thead>\n",
       "  <tbody>\n",
       "    <tr>\n",
       "      <th>0</th>\n",
       "      <td>Nigeria will be punished Is Morocco the last t...</td>\n",
       "      <td>Nigeria will be punished Is Morocco the last t...</td>\n",
       "      <td>[nigeria, will, be, punished, is, morocco, the...</td>\n",
       "    </tr>\n",
       "    <tr>\n",
       "      <th>1</th>\n",
       "      <td>?m? ??d?? are they going to carry me? In Londo...</td>\n",
       "      <td>m d are they going to carry me In London, they...</td>\n",
       "      <td>[m, d, are, they, going, to, carry, me, in, lo...</td>\n",
       "    </tr>\n",
       "    <tr>\n",
       "      <th>2</th>\n",
       "      <td>What? b????lú Sierra Leone will find out the m...</td>\n",
       "      <td>What blú Sierra Leone will find out the myster...</td>\n",
       "      <td>[what, blú, sierra, leone, will, find, out, th...</td>\n",
       "    </tr>\n",
       "    <tr>\n",
       "      <th>3</th>\n",
       "      <td>It is not easy to grow up in an area like Mush...</td>\n",
       "      <td>It is not easy to grow up in an area like Mush...</td>\n",
       "      <td>[it, is, not, easy, to, grow, up, in, an, area...</td>\n",
       "    </tr>\n",
       "    <tr>\n",
       "      <th>4</th>\n",
       "      <td>Legend like ?y? Super Falcons defeated the Cam...</td>\n",
       "      <td>Legend like y Super Falcons defeated the Camer...</td>\n",
       "      <td>[legend, like, y, super, falcons, defeated, th...</td>\n",
       "    </tr>\n",
       "  </tbody>\n",
       "</table>\n",
       "</div>"
      ],
      "text/plain": [
       "                             Yorusentilex_EngDataset  \\\n",
       "0  Nigeria will be punished Is Morocco the last t...   \n",
       "1  ?m? ??d?? are they going to carry me? In Londo...   \n",
       "2  What? b????lú Sierra Leone will find out the m...   \n",
       "3  It is not easy to grow up in an area like Mush...   \n",
       "4  Legend like ?y? Super Falcons defeated the Cam...   \n",
       "\n",
       "                             Cleaned_EngNewsHeadline  \\\n",
       "0  Nigeria will be punished Is Morocco the last t...   \n",
       "1  m d are they going to carry me In London, they...   \n",
       "2  What blú Sierra Leone will find out the myster...   \n",
       "3  It is not easy to grow up in an area like Mush...   \n",
       "4  Legend like y Super Falcons defeated the Camer...   \n",
       "\n",
       "                               Token_EngNewsHeadline  \n",
       "0  [nigeria, will, be, punished, is, morocco, the...  \n",
       "1  [m, d, are, they, going, to, carry, me, in, lo...  \n",
       "2  [what, blú, sierra, leone, will, find, out, th...  \n",
       "3  [it, is, not, easy, to, grow, up, in, an, area...  \n",
       "4  [legend, like, y, super, falcons, defeated, th...  "
      ]
     },
     "execution_count": 24,
     "metadata": {},
     "output_type": "execute_result"
    }
   ],
   "source": [
    "yorusentilexEng['Token_EngNewsHeadline'] = yorusentilexEng['Cleaned_EngNewsHeadline'].apply(lambda x: tokenize(x.lower()))\n",
    "yorusentilexEng.head()"
   ]
  },
  {
   "cell_type": "markdown",
   "metadata": {},
   "source": [
    "# Removing Stopwords"
   ]
  },
  {
   "cell_type": "code",
   "execution_count": 25,
   "metadata": {},
   "outputs": [
    {
     "data": {
      "text/plain": [
       "['i', 'me', 'my', 'myself', 'we', 'our', 'ours', 'ourselves', 'you', \"you're\"]"
      ]
     },
     "execution_count": 25,
     "metadata": {},
     "output_type": "execute_result"
    }
   ],
   "source": [
    "stopwords = nltk.corpus.stopwords.words('english')\n",
    "stopwords[0:10]"
   ]
  },
  {
   "cell_type": "code",
   "execution_count": 27,
   "metadata": {},
   "outputs": [],
   "source": [
    "def remove_stopwords(tokenized_tweet):\n",
    "    txt_clean = [word for word in tokenized_tweet if word not in stopwords]\n",
    "    return txt_clean"
   ]
  },
  {
   "cell_type": "code",
   "execution_count": 28,
   "metadata": {},
   "outputs": [
    {
     "data": {
      "text/html": [
       "<div>\n",
       "<style scoped>\n",
       "    .dataframe tbody tr th:only-of-type {\n",
       "        vertical-align: middle;\n",
       "    }\n",
       "\n",
       "    .dataframe tbody tr th {\n",
       "        vertical-align: top;\n",
       "    }\n",
       "\n",
       "    .dataframe thead th {\n",
       "        text-align: right;\n",
       "    }\n",
       "</style>\n",
       "<table border=\"1\" class=\"dataframe\">\n",
       "  <thead>\n",
       "    <tr style=\"text-align: right;\">\n",
       "      <th></th>\n",
       "      <th>Yorusentilex_EngDataset</th>\n",
       "      <th>Cleaned_EngNewsHeadline</th>\n",
       "      <th>Token_EngNewsHeadline</th>\n",
       "      <th>Stop_EngNewsHeadline</th>\n",
       "    </tr>\n",
       "  </thead>\n",
       "  <tbody>\n",
       "    <tr>\n",
       "      <th>0</th>\n",
       "      <td>Nigeria will be punished Is Morocco the last t...</td>\n",
       "      <td>Nigeria will be punished Is Morocco the last t...</td>\n",
       "      <td>[nigeria, will, be, punished, is, morocco, the...</td>\n",
       "      <td>[nigeria, punished, morocco, last, reach, wafc...</td>\n",
       "    </tr>\n",
       "    <tr>\n",
       "      <th>1</th>\n",
       "      <td>?m? ??d?? are they going to carry me? In Londo...</td>\n",
       "      <td>m d are they going to carry me In London, they...</td>\n",
       "      <td>[m, d, are, they, going, to, carry, me, in, lo...</td>\n",
       "      <td>[going, carry, london, change, names, back, st...</td>\n",
       "    </tr>\n",
       "    <tr>\n",
       "      <th>2</th>\n",
       "      <td>What? b????lú Sierra Leone will find out the m...</td>\n",
       "      <td>What blú Sierra Leone will find out the myster...</td>\n",
       "      <td>[what, blú, sierra, leone, will, find, out, th...</td>\n",
       "      <td>[blú, sierra, leone, find, mystery, reaction, ...</td>\n",
       "    </tr>\n",
       "    <tr>\n",
       "      <th>3</th>\n",
       "      <td>It is not easy to grow up in an area like Mush...</td>\n",
       "      <td>It is not easy to grow up in an area like Mush...</td>\n",
       "      <td>[it, is, not, easy, to, grow, up, in, an, area...</td>\n",
       "      <td>[easy, grow, area, like, mushin, pity, became,...</td>\n",
       "    </tr>\n",
       "    <tr>\n",
       "      <th>4</th>\n",
       "      <td>Legend like ?y? Super Falcons defeated the Cam...</td>\n",
       "      <td>Legend like y Super Falcons defeated the Camer...</td>\n",
       "      <td>[legend, like, y, super, falcons, defeated, th...</td>\n",
       "      <td>[legend, like, super, falcons, defeated, camer...</td>\n",
       "    </tr>\n",
       "  </tbody>\n",
       "</table>\n",
       "</div>"
      ],
      "text/plain": [
       "                             Yorusentilex_EngDataset  \\\n",
       "0  Nigeria will be punished Is Morocco the last t...   \n",
       "1  ?m? ??d?? are they going to carry me? In Londo...   \n",
       "2  What? b????lú Sierra Leone will find out the m...   \n",
       "3  It is not easy to grow up in an area like Mush...   \n",
       "4  Legend like ?y? Super Falcons defeated the Cam...   \n",
       "\n",
       "                             Cleaned_EngNewsHeadline  \\\n",
       "0  Nigeria will be punished Is Morocco the last t...   \n",
       "1  m d are they going to carry me In London, they...   \n",
       "2  What blú Sierra Leone will find out the myster...   \n",
       "3  It is not easy to grow up in an area like Mush...   \n",
       "4  Legend like y Super Falcons defeated the Camer...   \n",
       "\n",
       "                               Token_EngNewsHeadline  \\\n",
       "0  [nigeria, will, be, punished, is, morocco, the...   \n",
       "1  [m, d, are, they, going, to, carry, me, in, lo...   \n",
       "2  [what, blú, sierra, leone, will, find, out, th...   \n",
       "3  [it, is, not, easy, to, grow, up, in, an, area...   \n",
       "4  [legend, like, y, super, falcons, defeated, th...   \n",
       "\n",
       "                                Stop_EngNewsHeadline  \n",
       "0  [nigeria, punished, morocco, last, reach, wafc...  \n",
       "1  [going, carry, london, change, names, back, st...  \n",
       "2  [blú, sierra, leone, find, mystery, reaction, ...  \n",
       "3  [easy, grow, area, like, mushin, pity, became,...  \n",
       "4  [legend, like, super, falcons, defeated, camer...  "
      ]
     },
     "execution_count": 28,
     "metadata": {},
     "output_type": "execute_result"
    }
   ],
   "source": [
    "yorusentilexEng['Stop_EngNewsHeadline'] = yorusentilexEng['Token_EngNewsHeadline'].apply(lambda x: remove_stopwords(x))\n",
    "yorusentilexEng.head()"
   ]
  },
  {
   "cell_type": "markdown",
   "metadata": {},
   "source": [
    "# Lemmatization"
   ]
  },
  {
   "cell_type": "code",
   "execution_count": 29,
   "metadata": {},
   "outputs": [],
   "source": [
    "wn=nltk.WordNetLemmatizer()"
   ]
  },
  {
   "cell_type": "code",
   "execution_count": 30,
   "metadata": {},
   "outputs": [],
   "source": [
    "def lemmatize(stopword_tweets):\n",
    "    text = [wn.lemmatize(word) for word in stopword_tweets]\n",
    "    return text"
   ]
  },
  {
   "cell_type": "code",
   "execution_count": 31,
   "metadata": {},
   "outputs": [
    {
     "data": {
      "text/html": [
       "<div>\n",
       "<style scoped>\n",
       "    .dataframe tbody tr th:only-of-type {\n",
       "        vertical-align: middle;\n",
       "    }\n",
       "\n",
       "    .dataframe tbody tr th {\n",
       "        vertical-align: top;\n",
       "    }\n",
       "\n",
       "    .dataframe thead th {\n",
       "        text-align: right;\n",
       "    }\n",
       "</style>\n",
       "<table border=\"1\" class=\"dataframe\">\n",
       "  <thead>\n",
       "    <tr style=\"text-align: right;\">\n",
       "      <th></th>\n",
       "      <th>Yorusentilex_EngDataset</th>\n",
       "      <th>Cleaned_EngNewsHeadline</th>\n",
       "      <th>Token_EngNewsHeadline</th>\n",
       "      <th>Stop_EngNewsHeadline</th>\n",
       "      <th>lemmatized_EngNewsHeadline</th>\n",
       "    </tr>\n",
       "  </thead>\n",
       "  <tbody>\n",
       "    <tr>\n",
       "      <th>0</th>\n",
       "      <td>Nigeria will be punished Is Morocco the last t...</td>\n",
       "      <td>Nigeria will be punished Is Morocco the last t...</td>\n",
       "      <td>[nigeria, will, be, punished, is, morocco, the...</td>\n",
       "      <td>[nigeria, punished, morocco, last, reach, wafc...</td>\n",
       "      <td>[nigeria, punished, morocco, last, reach, wafc...</td>\n",
       "    </tr>\n",
       "    <tr>\n",
       "      <th>1</th>\n",
       "      <td>?m? ??d?? are they going to carry me? In Londo...</td>\n",
       "      <td>m d are they going to carry me In London, they...</td>\n",
       "      <td>[m, d, are, they, going, to, carry, me, in, lo...</td>\n",
       "      <td>[going, carry, london, change, names, back, st...</td>\n",
       "      <td>[going, carry, london, change, name, back, sto...</td>\n",
       "    </tr>\n",
       "    <tr>\n",
       "      <th>2</th>\n",
       "      <td>What? b????lú Sierra Leone will find out the m...</td>\n",
       "      <td>What blú Sierra Leone will find out the myster...</td>\n",
       "      <td>[what, blú, sierra, leone, will, find, out, th...</td>\n",
       "      <td>[blú, sierra, leone, find, mystery, reaction, ...</td>\n",
       "      <td>[blú, sierra, leone, find, mystery, reaction, ...</td>\n",
       "    </tr>\n",
       "    <tr>\n",
       "      <th>3</th>\n",
       "      <td>It is not easy to grow up in an area like Mush...</td>\n",
       "      <td>It is not easy to grow up in an area like Mush...</td>\n",
       "      <td>[it, is, not, easy, to, grow, up, in, an, area...</td>\n",
       "      <td>[easy, grow, area, like, mushin, pity, became,...</td>\n",
       "      <td>[easy, grow, area, like, mushin, pity, became,...</td>\n",
       "    </tr>\n",
       "    <tr>\n",
       "      <th>4</th>\n",
       "      <td>Legend like ?y? Super Falcons defeated the Cam...</td>\n",
       "      <td>Legend like y Super Falcons defeated the Camer...</td>\n",
       "      <td>[legend, like, y, super, falcons, defeated, th...</td>\n",
       "      <td>[legend, like, super, falcons, defeated, camer...</td>\n",
       "      <td>[legend, like, super, falcon, defeated, camero...</td>\n",
       "    </tr>\n",
       "  </tbody>\n",
       "</table>\n",
       "</div>"
      ],
      "text/plain": [
       "                             Yorusentilex_EngDataset  \\\n",
       "0  Nigeria will be punished Is Morocco the last t...   \n",
       "1  ?m? ??d?? are they going to carry me? In Londo...   \n",
       "2  What? b????lú Sierra Leone will find out the m...   \n",
       "3  It is not easy to grow up in an area like Mush...   \n",
       "4  Legend like ?y? Super Falcons defeated the Cam...   \n",
       "\n",
       "                             Cleaned_EngNewsHeadline  \\\n",
       "0  Nigeria will be punished Is Morocco the last t...   \n",
       "1  m d are they going to carry me In London, they...   \n",
       "2  What blú Sierra Leone will find out the myster...   \n",
       "3  It is not easy to grow up in an area like Mush...   \n",
       "4  Legend like y Super Falcons defeated the Camer...   \n",
       "\n",
       "                               Token_EngNewsHeadline  \\\n",
       "0  [nigeria, will, be, punished, is, morocco, the...   \n",
       "1  [m, d, are, they, going, to, carry, me, in, lo...   \n",
       "2  [what, blú, sierra, leone, will, find, out, th...   \n",
       "3  [it, is, not, easy, to, grow, up, in, an, area...   \n",
       "4  [legend, like, y, super, falcons, defeated, th...   \n",
       "\n",
       "                                Stop_EngNewsHeadline  \\\n",
       "0  [nigeria, punished, morocco, last, reach, wafc...   \n",
       "1  [going, carry, london, change, names, back, st...   \n",
       "2  [blú, sierra, leone, find, mystery, reaction, ...   \n",
       "3  [easy, grow, area, like, mushin, pity, became,...   \n",
       "4  [legend, like, super, falcons, defeated, camer...   \n",
       "\n",
       "                          lemmatized_EngNewsHeadline  \n",
       "0  [nigeria, punished, morocco, last, reach, wafc...  \n",
       "1  [going, carry, london, change, name, back, sto...  \n",
       "2  [blú, sierra, leone, find, mystery, reaction, ...  \n",
       "3  [easy, grow, area, like, mushin, pity, became,...  \n",
       "4  [legend, like, super, falcon, defeated, camero...  "
      ]
     },
     "execution_count": 31,
     "metadata": {},
     "output_type": "execute_result"
    }
   ],
   "source": [
    "yorusentilexEng['lemmatized_EngNewsHeadline'] = yorusentilexEng['Stop_EngNewsHeadline'].apply(lambda x: lemmatize(x))\n",
    "yorusentilexEng.head()"
   ]
  },
  {
   "cell_type": "code",
   "execution_count": 34,
   "metadata": {},
   "outputs": [
    {
     "name": "stdout",
     "output_type": "stream",
     "text": [
      "Requirement already satisfied: gensim in c:\\users\\nk diana\\anaconda3\\lib\\site-packages (4.2.0)Note: you may need to restart the kernel to use updated packages.\n",
      "\n",
      "Requirement already satisfied: numpy>=1.17.0 in c:\\users\\nk diana\\anaconda3\\lib\\site-packages (from gensim) (1.20.3)\n",
      "Requirement already satisfied: Cython==0.29.28 in c:\\users\\nk diana\\anaconda3\\lib\\site-packages (from gensim) (0.29.28)\n",
      "Requirement already satisfied: smart-open>=1.8.1 in c:\\users\\nk diana\\anaconda3\\lib\\site-packages (from gensim) (6.0.0)\n",
      "Requirement already satisfied: scipy>=0.18.1 in c:\\users\\nk diana\\anaconda3\\lib\\site-packages (from gensim) (1.7.1)\n"
     ]
    }
   ],
   "source": [
    "pip install gensim"
   ]
  },
  {
   "cell_type": "code",
   "execution_count": 35,
   "metadata": {},
   "outputs": [],
   "source": [
    "from sklearn.feature_extraction.text import TfidfVectorizer, CountVectorizer\n",
    "import gensim"
   ]
  },
  {
   "cell_type": "code",
   "execution_count": 36,
   "metadata": {},
   "outputs": [
    {
     "data": {
      "text/plain": [
       "(226, 100)"
      ]
     },
     "execution_count": 36,
     "metadata": {},
     "output_type": "execute_result"
    }
   ],
   "source": [
    "bow_vectorizer = CountVectorizer(max_df=0.9, min_df=2, max_features=100, stop_words='english')\n",
    "bow = bow_vectorizer.fit_transform(yorusentilexEng['Yorusentilex_EngDataset'])\n",
    "bow.shape"
   ]
  },
  {
   "cell_type": "code",
   "execution_count": 40,
   "metadata": {},
   "outputs": [],
   "source": [
    "from sklearn.model_selection import train_test_split\n",
    "x_train,x_test,y_train,y_test = train_test_split(bow, yorusentilexEng['lemmatized_EngNewsHeadline'], test_size=0.2, random_state=69)"
   ]
  },
  {
   "cell_type": "markdown",
   "metadata": {},
   "source": [
    "# Getting the subjectivity and Polarity of the EngNewsHeadline Data Set"
   ]
  }
 ],
 "metadata": {
  "kernelspec": {
   "display_name": "Python 3 (ipykernel)",
   "language": "python",
   "name": "python3"
  },
  "language_info": {
   "codemirror_mode": {
    "name": "ipython",
    "version": 3
   },
   "file_extension": ".py",
   "mimetype": "text/x-python",
   "name": "python",
   "nbconvert_exporter": "python",
   "pygments_lexer": "ipython3",
   "version": "3.9.7"
  }
 },
 "nbformat": 4,
 "nbformat_minor": 2
}
